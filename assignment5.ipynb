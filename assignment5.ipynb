{
 "cells": [
  {
   "cell_type": "markdown",
   "metadata": {},
   "source": [
    "Before you turn this problem in, make sure everything runs as expected. First, **restart the kernel** (in the menubar, select Kernel$\\rightarrow$Restart) and then **run all cells** (in the menubar, select Cell$\\rightarrow$Run All).\n",
    "\n",
    "Make sure you fill in any place that says `YOUR CODE HERE` or \"YOUR ANSWER HERE\", as well as your name and collaborators below:"
   ]
  },
  {
   "cell_type": "code",
   "execution_count": 1,
   "metadata": {},
   "outputs": [],
   "source": [
    "NAME = \"Hung-Wei Chang\"\n",
    "COLLABORATORS = \"\""
   ]
  },
  {
   "cell_type": "markdown",
   "metadata": {},
   "source": [
    "---"
   ]
  },
  {
   "cell_type": "markdown",
   "metadata": {
    "deletable": false,
    "editable": false,
    "nbgrader": {
     "cell_type": "markdown",
     "checksum": "fc28f5b97b81df8f433c007e6f864fe3",
     "grade": false,
     "grade_id": "cell-13a1ac1a15ae0e8d",
     "locked": true,
     "schema_version": 3,
     "solution": false,
     "task": false
    }
   },
   "source": [
    "<a href='https://ai.meng.duke.edu'> = <img align=\"left\" style=\"padding-top:10px;\" src=https://storage.googleapis.com/aipi_datasets/Duke-AIPI-Logo.png>"
   ]
  },
  {
   "cell_type": "markdown",
   "metadata": {
    "deletable": false,
    "editable": false,
    "nbgrader": {
     "cell_type": "markdown",
     "checksum": "d69abd89c1cc5d2c37507171231497eb",
     "grade": false,
     "grade_id": "cell-d59973f1fd0e22bd",
     "locked": true,
     "schema_version": 3,
     "solution": false,
     "task": false
    }
   },
   "source": [
    "# Assignment 5"
   ]
  },
  {
   "cell_type": "code",
   "execution_count": 2,
   "metadata": {
    "deletable": false,
    "editable": false,
    "nbgrader": {
     "cell_type": "code",
     "checksum": "052d107c86dcdc7a292600360e79616d",
     "grade": false,
     "grade_id": "cell-0d8deab97ab6e17d",
     "locked": true,
     "schema_version": 3,
     "solution": false,
     "task": false
    }
   },
   "outputs": [],
   "source": [
    "import pandas as pd\n",
    "import sqlite3 as db\n",
    "import numpy as np"
   ]
  },
  {
   "cell_type": "code",
   "execution_count": 3,
   "metadata": {
    "deletable": false,
    "editable": false,
    "nbgrader": {
     "cell_type": "code",
     "checksum": "d355b7886ad2d9719dee372079786ac6",
     "grade": false,
     "grade_id": "cell-8bb06ac62d0e7fb2",
     "locked": true,
     "schema_version": 3,
     "solution": false,
     "task": false
    }
   },
   "outputs": [],
   "source": [
    "# Run this cell before any others below\n",
    "# Download the data files into the same directory where you have saved this notebook\n",
    "\n",
    "import urllib.request\n",
    "from pathlib import Path\n",
    "import os\n",
    "\n",
    "db_source = 'https://storage.googleapis.com/aipi_datasets/flights.db'\n",
    "db_destination = str(Path()) + '/flights.db'\n",
    "\n",
    "# If the file does not already exist in the directory, download it\n",
    "if not os.path.exists(db_destination):\n",
    "        urllib.request.urlretrieve(db_source,db_destination)"
   ]
  },
  {
   "cell_type": "code",
   "execution_count": 4,
   "metadata": {
    "deletable": false,
    "editable": false,
    "nbgrader": {
     "cell_type": "code",
     "checksum": "1346f3fe686ea65acf9a35dcf4e7c046",
     "grade": false,
     "grade_id": "cell-83fa48711a5f46d5",
     "locked": true,
     "schema_version": 3,
     "solution": false,
     "task": false
    }
   },
   "outputs": [],
   "source": [
    "# Connect to the database\n",
    "conn = db.connect('flights.db')\n",
    "\n",
    "# Create a 'cursor' for executing commands\n",
    "c = conn.cursor()"
   ]
  },
  {
   "cell_type": "code",
   "execution_count": 5,
   "metadata": {
    "deletable": false,
    "editable": false,
    "nbgrader": {
     "cell_type": "code",
     "checksum": "b2cbcc76ca79baf24b97d01452691054",
     "grade": false,
     "grade_id": "cell-5a0db7c98395f1e8",
     "locked": true,
     "schema_version": 3,
     "solution": false,
     "task": false
    }
   },
   "outputs": [
    {
     "data": {
      "text/plain": [
       "<sqlite3.Cursor at 0x1eed9962b20>"
      ]
     },
     "execution_count": 5,
     "metadata": {},
     "output_type": "execute_result"
    }
   ],
   "source": [
    "# Rename tables for clarity\n",
    "\n",
    "c.execute('ALTER TABLE flight_data RENAME TO Flights')\n",
    "c.execute('ALTER TABLE airport_codes RENAME TO Airports')\n",
    "c.execute('ALTER TABLE airline_codes RENAME TO Airlines')\n",
    "\n",
    "# Rename columns to conform to best practices for primary key. Note that Airline_ID key is not an integer, \n",
    "# which is non-standard but is permitted for primary keys \n",
    "\n",
    "c.execute('ALTER TABLE Flights RENAME COLUMN OP_UNIQUE_CARRIER TO Airline_ID')\n",
    "c.execute('ALTER TABLE Airports RENAME COLUMN Code TO Airport_ID')\n",
    "c.execute('ALTER TABLE Airlines RENAME COLUMN Code TO Airline_ID')"
   ]
  },
  {
   "cell_type": "code",
   "execution_count": 6,
   "metadata": {
    "deletable": false,
    "editable": false,
    "nbgrader": {
     "cell_type": "code",
     "checksum": "0f93a767ba0da3a1c2a1fa404e224ead",
     "grade": false,
     "grade_id": "cell-fd2dab9bb62a2c75",
     "locked": true,
     "schema_version": 3,
     "solution": false,
     "task": false
    }
   },
   "outputs": [
    {
     "data": {
      "text/html": [
       "<div>\n",
       "<style scoped>\n",
       "    .dataframe tbody tr th:only-of-type {\n",
       "        vertical-align: middle;\n",
       "    }\n",
       "\n",
       "    .dataframe tbody tr th {\n",
       "        vertical-align: top;\n",
       "    }\n",
       "\n",
       "    .dataframe thead th {\n",
       "        text-align: right;\n",
       "    }\n",
       "</style>\n",
       "<table border=\"1\" class=\"dataframe\">\n",
       "  <thead>\n",
       "    <tr style=\"text-align: right;\">\n",
       "      <th></th>\n",
       "      <th>DAY_OF_WEEK</th>\n",
       "      <th>FL_DATE</th>\n",
       "      <th>Airline_ID</th>\n",
       "      <th>OP_CARRIER_FL_NUM</th>\n",
       "      <th>ORIGIN_AIRPORT_ID</th>\n",
       "      <th>DEST_AIRPORT_ID</th>\n",
       "      <th>CRS_DEP_TIME</th>\n",
       "      <th>DEP_DELAY_NEW</th>\n",
       "      <th>CANCELLED</th>\n",
       "      <th>WEATHER_DELAY</th>\n",
       "    </tr>\n",
       "  </thead>\n",
       "  <tbody>\n",
       "    <tr>\n",
       "      <th>0</th>\n",
       "      <td>1</td>\n",
       "      <td>8/12/19</td>\n",
       "      <td>9E</td>\n",
       "      <td>5001</td>\n",
       "      <td>10397</td>\n",
       "      <td>10781</td>\n",
       "      <td>1050</td>\n",
       "      <td>0.0</td>\n",
       "      <td>0</td>\n",
       "      <td>NaN</td>\n",
       "    </tr>\n",
       "    <tr>\n",
       "      <th>1</th>\n",
       "      <td>1</td>\n",
       "      <td>8/19/19</td>\n",
       "      <td>9E</td>\n",
       "      <td>5001</td>\n",
       "      <td>10397</td>\n",
       "      <td>10781</td>\n",
       "      <td>1050</td>\n",
       "      <td>0.0</td>\n",
       "      <td>0</td>\n",
       "      <td>NaN</td>\n",
       "    </tr>\n",
       "    <tr>\n",
       "      <th>2</th>\n",
       "      <td>1</td>\n",
       "      <td>8/26/19</td>\n",
       "      <td>9E</td>\n",
       "      <td>5001</td>\n",
       "      <td>10397</td>\n",
       "      <td>10781</td>\n",
       "      <td>1050</td>\n",
       "      <td>0.0</td>\n",
       "      <td>0</td>\n",
       "      <td>NaN</td>\n",
       "    </tr>\n",
       "    <tr>\n",
       "      <th>3</th>\n",
       "      <td>1</td>\n",
       "      <td>8/5/19</td>\n",
       "      <td>9E</td>\n",
       "      <td>5001</td>\n",
       "      <td>10781</td>\n",
       "      <td>10397</td>\n",
       "      <td>1159</td>\n",
       "      <td>74.0</td>\n",
       "      <td>0</td>\n",
       "      <td>0.0</td>\n",
       "    </tr>\n",
       "    <tr>\n",
       "      <th>4</th>\n",
       "      <td>1</td>\n",
       "      <td>8/12/19</td>\n",
       "      <td>9E</td>\n",
       "      <td>5001</td>\n",
       "      <td>10781</td>\n",
       "      <td>10397</td>\n",
       "      <td>1159</td>\n",
       "      <td>0.0</td>\n",
       "      <td>0</td>\n",
       "      <td>NaN</td>\n",
       "    </tr>\n",
       "  </tbody>\n",
       "</table>\n",
       "</div>"
      ],
      "text/plain": [
       "   DAY_OF_WEEK  FL_DATE Airline_ID  OP_CARRIER_FL_NUM  ORIGIN_AIRPORT_ID  \\\n",
       "0            1  8/12/19         9E               5001              10397   \n",
       "1            1  8/19/19         9E               5001              10397   \n",
       "2            1  8/26/19         9E               5001              10397   \n",
       "3            1   8/5/19         9E               5001              10781   \n",
       "4            1  8/12/19         9E               5001              10781   \n",
       "\n",
       "   DEST_AIRPORT_ID  CRS_DEP_TIME  DEP_DELAY_NEW  CANCELLED  WEATHER_DELAY  \n",
       "0            10781          1050            0.0          0            NaN  \n",
       "1            10781          1050            0.0          0            NaN  \n",
       "2            10781          1050            0.0          0            NaN  \n",
       "3            10397          1159           74.0          0            0.0  \n",
       "4            10397          1159            0.0          0            NaN  "
      ]
     },
     "metadata": {},
     "output_type": "display_data"
    },
    {
     "data": {
      "text/html": [
       "<div>\n",
       "<style scoped>\n",
       "    .dataframe tbody tr th:only-of-type {\n",
       "        vertical-align: middle;\n",
       "    }\n",
       "\n",
       "    .dataframe tbody tr th {\n",
       "        vertical-align: top;\n",
       "    }\n",
       "\n",
       "    .dataframe thead th {\n",
       "        text-align: right;\n",
       "    }\n",
       "</style>\n",
       "<table border=\"1\" class=\"dataframe\">\n",
       "  <thead>\n",
       "    <tr style=\"text-align: right;\">\n",
       "      <th></th>\n",
       "      <th>Airport_ID</th>\n",
       "      <th>Description</th>\n",
       "    </tr>\n",
       "  </thead>\n",
       "  <tbody>\n",
       "    <tr>\n",
       "      <th>0</th>\n",
       "      <td>10001</td>\n",
       "      <td>Afognak Lake, AK: Afognak Lake Airport</td>\n",
       "    </tr>\n",
       "    <tr>\n",
       "      <th>1</th>\n",
       "      <td>10003</td>\n",
       "      <td>Granite Mountain, AK: Bear Creek Mining Strip</td>\n",
       "    </tr>\n",
       "    <tr>\n",
       "      <th>2</th>\n",
       "      <td>10004</td>\n",
       "      <td>Lik, AK: Lik Mining Camp</td>\n",
       "    </tr>\n",
       "    <tr>\n",
       "      <th>3</th>\n",
       "      <td>10005</td>\n",
       "      <td>Little Squaw, AK: Little Squaw Airport</td>\n",
       "    </tr>\n",
       "    <tr>\n",
       "      <th>4</th>\n",
       "      <td>10006</td>\n",
       "      <td>Kizhuyak, AK: Kizhuyak Bay</td>\n",
       "    </tr>\n",
       "  </tbody>\n",
       "</table>\n",
       "</div>"
      ],
      "text/plain": [
       "   Airport_ID                                    Description\n",
       "0       10001         Afognak Lake, AK: Afognak Lake Airport\n",
       "1       10003  Granite Mountain, AK: Bear Creek Mining Strip\n",
       "2       10004                       Lik, AK: Lik Mining Camp\n",
       "3       10005         Little Squaw, AK: Little Squaw Airport\n",
       "4       10006                     Kizhuyak, AK: Kizhuyak Bay"
      ]
     },
     "metadata": {},
     "output_type": "display_data"
    },
    {
     "data": {
      "text/html": [
       "<div>\n",
       "<style scoped>\n",
       "    .dataframe tbody tr th:only-of-type {\n",
       "        vertical-align: middle;\n",
       "    }\n",
       "\n",
       "    .dataframe tbody tr th {\n",
       "        vertical-align: top;\n",
       "    }\n",
       "\n",
       "    .dataframe thead th {\n",
       "        text-align: right;\n",
       "    }\n",
       "</style>\n",
       "<table border=\"1\" class=\"dataframe\">\n",
       "  <thead>\n",
       "    <tr style=\"text-align: right;\">\n",
       "      <th></th>\n",
       "      <th>Airline_ID</th>\n",
       "      <th>Description</th>\n",
       "    </tr>\n",
       "  </thead>\n",
       "  <tbody>\n",
       "    <tr>\n",
       "      <th>0</th>\n",
       "      <td>02Q</td>\n",
       "      <td>Titan Airways</td>\n",
       "    </tr>\n",
       "    <tr>\n",
       "      <th>1</th>\n",
       "      <td>04Q</td>\n",
       "      <td>Tradewind Aviation</td>\n",
       "    </tr>\n",
       "    <tr>\n",
       "      <th>2</th>\n",
       "      <td>05Q</td>\n",
       "      <td>Comlux Aviation, AG</td>\n",
       "    </tr>\n",
       "    <tr>\n",
       "      <th>3</th>\n",
       "      <td>06Q</td>\n",
       "      <td>Master Top Linhas Aereas Ltd.</td>\n",
       "    </tr>\n",
       "    <tr>\n",
       "      <th>4</th>\n",
       "      <td>07Q</td>\n",
       "      <td>Flair Airlines Ltd.</td>\n",
       "    </tr>\n",
       "  </tbody>\n",
       "</table>\n",
       "</div>"
      ],
      "text/plain": [
       "  Airline_ID                    Description\n",
       "0        02Q                  Titan Airways\n",
       "1        04Q             Tradewind Aviation\n",
       "2        05Q            Comlux Aviation, AG\n",
       "3        06Q  Master Top Linhas Aereas Ltd.\n",
       "4        07Q            Flair Airlines Ltd."
      ]
     },
     "metadata": {},
     "output_type": "display_data"
    }
   ],
   "source": [
    "# Let's look at all the data in each table (generally you don't want to do this if the tables are very large)\n",
    "flights_df = pd.read_sql_query(\"SELECT * FROM Flights\", conn)\n",
    "airports_df = pd.read_sql_query(\"SELECT * FROM Airports\", conn)\n",
    "airlines_df = pd.read_sql_query(\"SELECT * FROM Airlines\", conn)\n",
    "display(flights_df.head())\n",
    "display(airports_df.head())\n",
    "display(airlines_df.head())\n"
   ]
  },
  {
   "cell_type": "markdown",
   "metadata": {
    "deletable": false,
    "editable": false,
    "nbgrader": {
     "cell_type": "markdown",
     "checksum": "1a8dc5e954ee6987b4aecb3f3e50f319",
     "grade": false,
     "grade_id": "cell-53c0e0624b9d7007",
     "locked": true,
     "schema_version": 3,
     "solution": false,
     "task": false
    }
   },
   "source": [
    "### Question 1 [10 pts]\n",
    "Complete the below function `get_airport_description()` which receives an Airport_ID as input and returns the airport's Description from the Airports table (exactly as stated in the Description field) **as a string**.  Your function must perform a SQL query (you cannot simply extract the Description from the above DataFrame)."
   ]
  },
  {
   "cell_type": "code",
   "execution_count": 197,
   "metadata": {
    "deletable": false,
    "nbgrader": {
     "cell_type": "code",
     "checksum": "b5746e170870b19e5b47f85c0f0ee0c7",
     "grade": false,
     "grade_id": "cell-ee95c0b51c20ee6d",
     "locked": false,
     "schema_version": 3,
     "solution": true,
     "task": false
    }
   },
   "outputs": [],
   "source": [
    "def get_airport_description(airport_id,db_name='flights.db'):\n",
    "    # YOUR CODE HERE\n",
    "    conn = db.connect(db_name)\n",
    "    c = conn.cursor()\n",
    "    query = '''\n",
    "            SELECT Airports.Airport_ID  , Airports.Description\n",
    "            FROM Airports\n",
    "            '''\n",
    "    c.execute(query)\n",
    "    results = c.fetchall()\n",
    "    c.close()\n",
    "    conn.close()\n",
    "    desc = str(dict(results)[int(airport_id)])\n",
    "    return desc\n",
    "    raise NotImplementedError()"
   ]
  },
  {
   "cell_type": "code",
   "execution_count": 198,
   "metadata": {
    "deletable": false,
    "editable": false,
    "nbgrader": {
     "cell_type": "code",
     "checksum": "36cada9b1b1f0d52582d526d108635fa",
     "grade": true,
     "grade_id": "cell-81d33bf3636f39d2",
     "locked": true,
     "points": 10,
     "schema_version": 3,
     "solution": false,
     "task": false
    }
   },
   "outputs": [],
   "source": [
    "# Test cell for get_airport_description\n",
    "airport = get_airport_description(11995,'flights.db')\n",
    "assert airport=='Greensboro/High Point, NC: Piedmont Triad International'\n"
   ]
  },
  {
   "cell_type": "markdown",
   "metadata": {
    "deletable": false,
    "editable": false,
    "nbgrader": {
     "cell_type": "markdown",
     "checksum": "4d5dece62d34c31b3a13974828bf3283",
     "grade": false,
     "grade_id": "cell-442c88c0fe96ea02",
     "locked": true,
     "schema_version": 3,
     "solution": false,
     "task": false
    }
   },
   "source": [
    "### Question 2 [10 pts]\n",
    "Complete the below function `get_airline_id()` which takes as input an airline's Description as a string (e.g. 'Titan Airways') and returns the airline's Airline_ID **as a string**.  Your function must perform a SQL query to get the answer."
   ]
  },
  {
   "cell_type": "code",
   "execution_count": 195,
   "metadata": {
    "deletable": false,
    "nbgrader": {
     "cell_type": "code",
     "checksum": "b1255321c5e5f3aafd36f4b82e7364c4",
     "grade": false,
     "grade_id": "cell-2ac9454b2d28fc4a",
     "locked": false,
     "schema_version": 3,
     "solution": true,
     "task": false
    }
   },
   "outputs": [],
   "source": [
    "def get_airline_id(airline_description,db_name='flights.db'):\n",
    "    # YOUR CODE HERE\n",
    "    conn = db.connect(db_name)\n",
    "    c = conn.cursor()\n",
    "    query = '''\n",
    "            SELECT Airlines.Description, Airlines.Airline_ID\n",
    "            FROM Airlines\n",
    "            '''\n",
    "    c.execute(query)\n",
    "    results = c.fetchall()\n",
    "    c.close()\n",
    "    conn.close()\n",
    "    airline_id = str(dict(results)[airline_description])\n",
    "    return airline_id\n",
    "    \n",
    "    raise NotImplementedError()\n"
   ]
  },
  {
   "cell_type": "code",
   "execution_count": 196,
   "metadata": {
    "deletable": false,
    "editable": false,
    "nbgrader": {
     "cell_type": "code",
     "checksum": "4b9d7c6cde5948ad0788fbb701216a64",
     "grade": true,
     "grade_id": "cell-a983a744461b16e3",
     "locked": true,
     "points": 10,
     "schema_version": 3,
     "solution": false,
     "task": false
    }
   },
   "outputs": [
    {
     "name": "stdout",
     "output_type": "stream",
     "text": [
      "Your function returned the Airline_ID for Skytrain as: SKT\n"
     ]
    }
   ],
   "source": [
    "# Test cell for get_airline_id()\n",
    "print('Your function returned the Airline_ID for Skytrain as: {}'.format(get_airline_id('Skytrain','flights.db')))\n"
   ]
  },
  {
   "cell_type": "markdown",
   "metadata": {
    "deletable": false,
    "editable": false,
    "nbgrader": {
     "cell_type": "markdown",
     "checksum": "4a21a2e306fb00ef4fc9de88eec2df42",
     "grade": false,
     "grade_id": "cell-b0460813adea4409",
     "locked": true,
     "schema_version": 3,
     "solution": false,
     "task": false
    }
   },
   "source": [
    "### Question 3 [10 pts]\n",
    "Complete the below function `get_airport_destinations_for_airline()` which takes as input a string Airline_ID and returns a **list of the unique airport ids (DEST_AIRPORT_ID) as integers** for all the airports to which the the airline flew at least once (with no duplicates). Your function must perform a SQL query to get the answer.\n"
   ]
  },
  {
   "cell_type": "code",
   "execution_count": 193,
   "metadata": {
    "deletable": false,
    "nbgrader": {
     "cell_type": "code",
     "checksum": "a59979aaabdd2ec3c546dbc22784050d",
     "grade": false,
     "grade_id": "cell-773de67d170407ea",
     "locked": false,
     "schema_version": 3,
     "solution": true,
     "task": false
    }
   },
   "outputs": [],
   "source": [
    "def get_airport_destinations_for_airline(airline_id,db_name='flights.db'):\n",
    "    # YOUR CODE HERE\n",
    "    conn = db.connect('flights.db')\n",
    "    c = conn.cursor()\n",
    "    query = '''\n",
    "            SELECT Flights.Airline_ID, Flights.DEST_AIRPORT_ID\n",
    "            FROM Flights\n",
    "            '''\n",
    "    c.execute(query)\n",
    "    results = c.fetchall()\n",
    "    c.close()\n",
    "    conn.close()\n",
    "    new_list = [int(x[1]) for x in results if (x[0] == airline_id) ]\n",
    "    seen = set()\n",
    "    seen_add = seen.add\n",
    "    final_list=  [int(x) for x in new_list if not (x in seen or seen_add(x))]\n",
    "    return final_list\n",
    "    raise NotImplementedError()"
   ]
  },
  {
   "cell_type": "code",
   "execution_count": 194,
   "metadata": {
    "deletable": false,
    "editable": false,
    "nbgrader": {
     "cell_type": "code",
     "checksum": "0b2a9d04ffa63508c25e00d822bf04e2",
     "grade": true,
     "grade_id": "cell-c56f69f2b21b7e5f",
     "locked": true,
     "points": 10,
     "schema_version": 3,
     "solution": false,
     "task": false
    }
   },
   "outputs": [],
   "source": [
    "# Test cell\n",
    "airports = get_airport_destinations_for_airline('9E','flights.db')\n",
    "assert airports == [10781, 10397, 14098, 13931, 12478, 10792, 11721, 12953, 10868, 11057, 11193, \n",
    "                    10185, 11042, 11433, 11003, 10581, 15412, 11977, 11278, 10821, 10990, 10721, \n",
    "                    12266, 13487, 11612, 14814, 10431, 11953, 11617, 10529, 10980, 12197, 12339, \n",
    "                    14524, 12945, 14492, 12884, 10685, 15249, 11150, 10785, 15919, 13244, 11973, \n",
    "                    11986, 10208, 14122, 14685, 10408, 11267, 13930, 14783, 12951, 14321, 11298, \n",
    "                    14100, 11996, 13198, 11066, 14576, 11423, 13795, 13367, 10693, 11995, 13184, \n",
    "                    12264, 13422, 13485, 15096, 13230, 14683, 14574, 13342, 11203, 12451, 15370, \n",
    "                    15016, 10257, 11823, 11618, 10874, 10135, 13495, 13029, 14633, 13433, 10423, \n",
    "                    13577, 13296, 15380, 13541, 10154, 10994, 15304, 13303, 14457, 14027, 13204, \n",
    "                    15323, 10599]\n"
   ]
  },
  {
   "cell_type": "markdown",
   "metadata": {
    "deletable": false,
    "editable": false,
    "nbgrader": {
     "cell_type": "markdown",
     "checksum": "a4098145ddf1b028bc05d8829ba4e36e",
     "grade": false,
     "grade_id": "cell-57de9019a65eacf2",
     "locked": true,
     "schema_version": 3,
     "solution": false,
     "task": false
    }
   },
   "source": [
    "### Question 4 [10 pts]\n",
    "Complete the below function `get_airport_descriptions_for_airline()` which takes as input an airline's string Description (in the format of the Description field) and returns a **list of the unique airport Descriptions as strings** (the Description field in the Airports table) to which the airline flew one or more flights (with no duplicates).  Your function must perform a SQL query to get the answer."
   ]
  },
  {
   "cell_type": "code",
   "execution_count": 13,
   "metadata": {
    "deletable": false,
    "nbgrader": {
     "cell_type": "code",
     "checksum": "7daa66c045f29c8ea424932ad0712d0f",
     "grade": false,
     "grade_id": "cell-19ff1971b2e98640",
     "locked": false,
     "schema_version": 3,
     "solution": true,
     "task": false
    }
   },
   "outputs": [],
   "source": [
    "def get_airport_descriptions_for_airline(airline_description,db_name='flights.db'):\n",
    "    # YOUR CODE HERE\n",
    "    airline_id = get_airline_id(airline_description,db_name='flights.db')\n",
    "    airports_id = get_airport_destinations_for_airline(airline_id,'flights.db')\n",
    "    airport_description_list = [get_airport_description(x, db_name='flights.db') for x in airports_id ]\n",
    "    return airport_description_list\n",
    "    \n",
    "#     conn = db.connect('flights.db')\n",
    "#     c = conn.cursor()\n",
    "#     query = '''\n",
    "#             SELECT Airports.Airport_ID, Airports.Description\n",
    "#             FROM Airports \n",
    "\n",
    "#             '''\n",
    "#     c.execute(query)\n",
    "#     results = c.fetchall()\n",
    "#     c.close()\n",
    "#     conn.close()\n",
    "#     results\n",
    "#     unique = []\n",
    "#     for tup in results:\n",
    "#         if tup not in unique:\n",
    "#             unique.append(tup)\n",
    "#     desc_dict = dict(unique)\n",
    "#     airline_id = get_airline_id(airline_description,db_name='flights.db')\n",
    "#     airports_id_lis = get_airport_destinations_for_airline(airline_id,'flights.db')\n",
    "#     final = [desc_dict[x] for x in airports_id_lis]\n",
    "#     return final\n",
    "    raise NotImplementedError()"
   ]
  },
  {
   "cell_type": "code",
   "execution_count": 121,
   "metadata": {
    "deletable": false,
    "editable": false,
    "nbgrader": {
     "cell_type": "code",
     "checksum": "99f49991203265da3e19bb8e91a84f13",
     "grade": true,
     "grade_id": "cell-aa20480e24b39dc4",
     "locked": true,
     "points": 10,
     "schema_version": 3,
     "solution": false,
     "task": false
    }
   },
   "outputs": [
    {
     "name": "stdout",
     "output_type": "stream",
     "text": [
      "Republic Airline flew to 97 destination airports\n",
      "['Houston, TX: George Bush Intercontinental/Houston', 'Washington, DC: Ronald Reagan Washington National', 'Pittsburgh, PA: Pittsburgh International', 'Philadelphia, PA: Philadelphia International', 'New Orleans, LA: Louis Armstrong New Orleans International', 'Miami, FL: Miami International', 'Kansas City, MO: Kansas City International', 'Raleigh/Durham, NC: Raleigh-Durham International', 'New York, NY: LaGuardia', 'Nashville, TN: Nashville International', 'Louisville, KY: Louisville Muhammad Ali International', 'Richmond, VA: Richmond International', 'Boston, MA: Logan International', 'Buffalo, NY: Buffalo Niagara International', 'Sarasota/Bradenton, FL: Sarasota/Bradenton International', 'Indianapolis, IN: Indianapolis International', 'Columbus, OH: John Glenn Columbus International', 'St. Louis, MO: St Louis Lambert International', 'New York, NY: John F. Kennedy International', 'Detroit, MI: Detroit Metro Wayne County', 'Lexington, KY: Blue Grass', 'Charlotte, NC: Charlotte Douglas International', 'Rochester, NY: Greater Rochester International', 'Atlanta, GA: Hartsfield-Jackson Atlanta International', 'Madison, WI: Dane County Regional-Truax Field', 'Jacksonville, FL: Jacksonville International', 'Grand Rapids, MI: Gerald R. Ford International', 'Hilton Head, SC: Hilton Head Airport', 'Omaha, NE: Eppley Airfield', 'Newark, NJ: Newark Liberty International', 'Denver, CO: Denver International', 'Minneapolis, MN: Minneapolis-St Paul International', 'Memphis, TN: Memphis International', \"Chicago, IL: Chicago O'Hare International\", 'Oklahoma City, OK: Will Rogers World', 'Salt Lake City, UT: Salt Lake City International', 'Durango, CO: Durango La Plata County', 'Burlington, VT: Burlington International', 'Cleveland, OH: Cleveland-Hopkins International', 'Midland/Odessa, TX: Midland International Air and Space Port', 'Fayetteville, AR: Northwest Arkansas Regional', 'Milwaukee, WI: General Mitchell International', 'Key West, FL: Key West International', 'Lafayette, LA: Lafayette Regional Paul Fournet Field', 'Savannah, GA: Savannah/Hilton Head International', 'Albuquerque, NM: Albuquerque International Sunport', 'Traverse City, MI: Cherry Capital', 'Grand Junction, CO: Grand Junction Regional', 'Cincinnati, OH: Cincinnati/Northern Kentucky International', 'Wichita, KS: Wichita Dwight D Eisenhower National', 'Austin, TX: Austin - Bergstrom International', 'Dayton, OH: James M Cox/Dayton International', 'Charleston, SC: Charleston AFB/International', 'Pensacola, FL: Pensacola International', 'Birmingham, AL: Birmingham-Shuttlesworth International', 'San Antonio, TX: San Antonio International', 'Cedar Rapids/Iowa City, IA: The Eastern Iowa', 'Billings, MT: Billings Logan International', 'Colorado Springs, CO: City of Colorado Springs Municipal', 'Tulsa, OK: Tulsa International', 'Knoxville, TN: McGhee Tyson', 'Syracuse, NY: Syracuse Hancock International', 'Portland, ME: Portland International Jetport', 'Des Moines, IA: Des Moines International', 'Norfolk, VA: Norfolk International', 'New Haven, CT: Tweed New Haven', 'Providence, RI: Theodore Francis Green State', 'Manchester, NH: Manchester-Boston Regional', 'West Palm Beach/Palm Beach, FL: Palm Beach International', 'Myrtle Beach, SC: Myrtle Beach International', 'Baltimore, MD: Baltimore/Washington International Thurgood Marshall', 'Wilmington, NC: Wilmington International', 'Huntsville, AL: Huntsville International-Carl T Jones Field', 'Nantucket, MA: Nantucket Memorial', 'Hartford, CT: Bradley International', 'Dallas/Fort Worth, TX: Dallas/Fort Worth International', 'Greer, SC: Greenville-Spartanburg International', 'El Paso, TX: El Paso International', 'Bangor, ME: Bangor International', 'Corpus Christi, TX: Corpus Christi International', 'Brownsville, TX: Brownsville South Padre Island International', 'Fargo, ND: Hector International', 'Rapid City, SD: Rapid City Regional', 'Harlingen/San Benito, TX: Valley International', 'Greensboro/High Point, NC: Piedmont Triad International', \"Martha's Vineyard, MA: Martha's Vineyard Airport\", 'Harrisburg, PA: Harrisburg International', 'Albany, NY: Albany International', 'Sioux Falls, SD: Joe Foss Field', 'Spokane, WA: Spokane International', 'Fort Myers, FL: Southwest Florida International', 'Roanoke, VA: Roanoke Blacksburg Regional Woodrum Field', 'Little Rock, AR: Bill and Hillary Clinton Nat Adams Field', 'Bozeman, MT: Bozeman Yellowstone International', 'Asheville, NC: Asheville Regional', 'Melbourne, FL: Melbourne International', 'Daytona Beach, FL: Daytona Beach International']\n"
     ]
    }
   ],
   "source": [
    "# Test cell\n",
    "dests = get_airport_descriptions_for_airline('Republic Airline','flights.db')\n",
    "print('Republic Airline flew to {} destination airports'.format(len(dests)))\n",
    "print(dests)\n"
   ]
  },
  {
   "cell_type": "markdown",
   "metadata": {
    "deletable": false,
    "editable": false,
    "nbgrader": {
     "cell_type": "markdown",
     "checksum": "f5eaa9e224c49204bd63c1e5931b0cf2",
     "grade": false,
     "grade_id": "cell-3367fc6019cadd91",
     "locked": true,
     "schema_version": 3,
     "solution": false,
     "task": false
    }
   },
   "source": [
    "### Question 5 [10 pts]\n",
    "Complete the below function `get_airlines_with_no_flights()` which takes as input the name of the database and returns a **list of tuples** each containing the string Airline_ID and string airline Description (from the Airlines table) of the unique set of airlines (no duplicates) which had no flights (e.g. ('02Q', 'Titan Airways')).  Your function must perform a SQL query to get the answer."
   ]
  },
  {
   "cell_type": "code",
   "execution_count": 151,
   "metadata": {
    "deletable": false,
    "nbgrader": {
     "cell_type": "code",
     "checksum": "6e69f4d44da797b068adad5bb6ac2bfc",
     "grade": false,
     "grade_id": "cell-408a74b0afb59181",
     "locked": false,
     "schema_version": 3,
     "solution": true,
     "task": false
    }
   },
   "outputs": [],
   "source": [
    " def get_airlines_with_no_flights(db_name='flights.db'):\n",
    "    # YOUR CODE HERE\n",
    "    conn = db.connect(db_name)\n",
    "    c = conn.cursor()\n",
    "    query = '''\n",
    "            SELECT Airlines.Airline_ID  , Airlines.Description\n",
    "            FROM Airlines INNER JOIN Flights on Airlines.Airline_ID = Flights.Airline_ID\n",
    "            '''\n",
    "    c.execute(query)\n",
    "    results = c.fetchall()\n",
    "    c.close()\n",
    "    conn.close()\n",
    "\n",
    "    seen = set()\n",
    "    seen_add = seen.add\n",
    "    check_list=  [x for x in results if not (x in seen or seen_add(x))]\n",
    "\n",
    "    conn = db.connect('flights.db')\n",
    "    c = conn.cursor()\n",
    "    query = '''\n",
    "            SELECT Airlines.Airline_ID , Airlines.Description\n",
    "            FROM Airlines \n",
    "            '''\n",
    "    c.execute(query)\n",
    "    results_2 = c.fetchall()\n",
    "    c.close()\n",
    "    conn.close()\n",
    "    final_list = [ x for x in results_2 if x not in results]\n",
    "    return final_list\n",
    "    \n",
    "    raise NotImplementedError()"
   ]
  },
  {
   "cell_type": "code",
   "execution_count": 153,
   "metadata": {
    "deletable": false,
    "editable": false,
    "nbgrader": {
     "cell_type": "code",
     "checksum": "9c66a7cda795a13fec3120bd5c3b1b1f",
     "grade": true,
     "grade_id": "cell-dfacf9caec654937",
     "locked": true,
     "points": 10,
     "schema_version": 3,
     "solution": false,
     "task": false
    }
   },
   "outputs": [
    {
     "name": "stdout",
     "output_type": "stream",
     "text": [
      "Your function found 1656 airlines with no flights\n",
      "[('02Q', 'Titan Airways'), ('04Q', 'Tradewind Aviation'), ('05Q', 'Comlux Aviation, AG'), ('06Q', 'Master Top Linhas Aereas Ltd.'), ('07Q', 'Flair Airlines Ltd.'), ('09Q', 'Swift Air, LLC d/b/a Eastern Air Lines d/b/a Eastern'), ('0BQ', 'DCA'), ('0CQ', 'ACM AIR CHARTER GmbH'), ('0FQ', 'Maine Aviation Aircraft Charter, LLC'), ('0GQ', 'Inter Island Airways, d/b/a Inter Island Air'), ('0HQ', 'Polar Airlines de Mexico d/b/a Nova Air'), ('0J', 'JetClub AG'), ('0JQ', 'Vision Airlines'), ('0LQ', 'Metropix UK, LLP.'), ('0OQ', 'Open Skies'), ('0Q', 'Flying Service N.V.'), ('0QQ', 'TAG Aviation (UK) Ltd.'), ('0RQ', 'TAG Aviation Espana S.L.'), ('0TQ', 'Corporatejets, XXI'), ('0UQ', 'Comlux Malta, Ltd.'), ('0VQ', 'Ocean Sky (UK) Limited'), ('0WQ', 'Avjet Corporation'), ('0YQ', 'Comlux Malta Ltd.'), ('10Q', 'Swiss Air Ambulance'), ('12Q', 'Unijet'), ('13Q', 'Chartright Air Inc.'), ('14Q', 'London Air Services Limited'), ('15Q', 'Air Alsie A/S'), ('17Q', 'Albinati Aeronautics SA'), ('1AQ', 'Via Airlines d/b/a Charter Air Transport'), ('1BQ', 'Eastern Airlines f/k/a Dynamic Airways, LLC'), ('1DQ', 'Island Airlines LLC'), ('1EQ', 'KaiserAir, Inc.'), ('1FQ', 'Alsek Air'), ('1HQ', 'International Jet Management GmbH'), ('1I', 'Sky Trek International Airlines'), ('1IQ', 'Jet link AG'), ('1JQ', 'Exec Direct Aviation Services Limited'), ('1LQ', 'Bertelsmann Aviation GmbH'), ('1MQ', 'Twin Cities Air Service LLC'), ('1NQ', 'JSC The 224th Flight Unit State Airlines'), ('1PQ', 'Makani Kai Air Charters'), ('1QQ', 'City Wings Inc dba Seaflight'), ('1RQ', 'Sun Air Express LLC dba Sun Air International'), ('1SQ', 'Star Marianas Air Inc.'), ('1TQ', 'Rhoades Aviation dba Transair'), ('1UQ', 'Gainjet Aviation SA'), ('1WQ', 'Ultimate JetCharters LLC dba Ultimate Air Shuttle'), ('1XQ', 'Dassault Falcon Service'), ('1YQ', 'Air Charter, Inc d/b/a Air Flamenco'), ('1ZQ', 'Comlux Aruba NV'), ('20Q', 'Orange Air'), ('22Q', 'Gem Air LLC'), ('23Q', 'Songbird Airways Inc.'), ('24Q', 'Blue Jet SP Z o o'), ('25Q', 'Mjet GmbH'), ('26Q', 'Albinati aviation Limited'), ('27Q', 'Jet Aviation Flight Services, Inc.'), ('28Q', 'Menagerie Enterprises Inc d/b/a Monarch Air'), ('29Q', 'Erickson Helicopters'), ('2AQ', 'ABS JETS A.S'), ('2BQ', 'Air Medical Ltd.'), ('2E', 'Smokey Bay Air Inc.'), ('2EQ', 'J&M Alaska Air Tours, Inc. d/b/a Alaska Air Transit'), ('2F', 'Frontier Flying Service'), ('2GQ', 'Cavok Air LLC'), ('2HQ', 'Elite Airways LLC'), ('2JQ', 'Delux Public Charter LLC'), ('2K', 'Aerolineas Galapagos S A Aerogal'), ('2KQ', 'Longtail Aviation Ltd.'), ('2LQ', 'Tropic Ocean Airways LLC'), ('2M', 'Midway Express Airlines'), ('2NQ', 'LIMA NY Corp d/b/a Fly The Whale d/b/a Tailwind'), ('2O', 'Island Air Service'), ('2OQ', 'Talofa Airways Limited'), ('2P', 'Air Philippines Corp d/b/a Airphil Express, Philippines Airlines'), ('2PQ', '21 Air LLC'), ('2R', 'Regal Air'), ('2RQ', 'Luxaviation S A'), ('2T', 'Canada 3000 Airlines Ltd.'), ('2TQ', 'Trans Northern Airways d/b/a Air Unlimited Charter Services'), ('2U', 'Valley Air Express Inc.'), ('2UQ', 'Svenskt Industriflyg AB'), ('30Q', 'Public Charters, Inc. d/b/a North Country Sky d/b/a Regional Sky d/b/a Texas Sky'), ('34Q', 'Polaris Aviation Solutions, LLC'), ('35Q', 'Aztec Worldwide Airlines, Inc.  d/b/a  Aztec Airways'), ('36Q', 'Air Hamburg Luftverkehrsgesellschaft mbH'), ('37', 'Zeal 320'), ('37Q', 'Hillwood Airways, LLC  f/k/a   ATX Air Services, LLC'), ('38Q', 'Key Lime Air Corporation'), ('3AA', 'Airgate Aviation, Inc.'), ('3AQ', 'Maritime Helicopters, Inc.'), ('3BQ', 'Nealco Air Charter Services, Inc.  d/b/a  Watermakers Air'), ('3C', 'Regions Air, Inc.'), ('3CQ', 'Andrew Airways, Inc.'), ('3DQ', 'Rectrix Aviation, Inc.'), ('3E', 'Multi-Aero, Inc. d/b/a Air Choice One'), ('3EQ', 'Scott Aviation, LLC  d/b/a  Silver Air'), ('3F', 'Pacific Airways, Inc.'), ('3FQ', 'Western Air Charter, Inc.  d/b/a  Jet Edge'), ('3M', 'Silver Airways'), ('3S', 'AeroLogic GmbH'), ('3SD', 'Compagnie Aerienne Inter Regionale Express dba Air Antilles Express & Air Guyane'), ('3U', 'Sichuan Airlines Co Ltd.'), ('4B', 'Boutique Air'), ('4B (1)', 'Olson Air Service'), ('4C', 'Aerovias de Intergracian Regional'), ('4E', 'British Airtours Limited'), ('4H', 'Belize Trans Air'), ('4M', 'LAN Argentina'), ('4M (1)', 'Lan Dominica'), ('4N', 'Air North'), ('4O', 'ABC Aerolineas SA de CV dba Interjet'), ('4R', 'Regent Air Corporation'), ('4S', 'Sol Air (Aero Hunduras)'), ('4S (1)', 'Conner Air Lines Inc.'), ('4T', 'Belair Airlines Ltd.'), ('4W', 'Warbelow'), ('4Y', 'Yute Air Aka Flight Alaska'), ('5B', 'Bellair Inc.'), ('5C', 'C.A.L Cargo Airlines'), ('5D', 'Aerolitoral'), ('5F', 'Arctic Circle Air Service'), ('5G', 'Skyservice Airlines, Inc.'), ('5G (1)', 'Queen Air'), ('5J', 'Cebu Air Inc d/b/a Cebu Pacific Air'), ('5J (1)', 'Private Jet Expeditions'), ('5L', 'Aerosur'), ('5V', 'Tatonduk Outfitters Limited d/b/a Everts Air Alaska and Everts Air Cargo'), ('5X', 'United Parcel Service'), ('5Y', 'Atlas Air Inc.'), ('6A', 'Aviacsa Airlines'), ('6B', 'TUIfly Nordic A.B.'), ('6C', 'Cape Smythe Air Service'), ('6F', 'Laker Airways Inc.'), ('6H', 'Israir Airlines'), ('6P', 'Pacific East Air Inc.'), ('6R', 'Aerounion Aerotransporte de Carga Union SA de CV'), ('6U', 'Air Ukraine'), ('6Y', 'Nicaraguense De Aviacion Sa'), ('7B', 'Krasair'), ('7C', 'Jeju Air Co Ltd.'), ('7F', 'First Air'), ('7G', 'MK Airlines Ltd.'), ('7G (1)', 'Bellair Inc. (1)'), ('7H', 'Corvus Airlines, Inc d/b/a Era Aviation d/b/a Ravn Alaska'), ('7I', 'Insel Air International B V'), ('7L', 'Silk Way West Airlines'), ('7M', 'Aeromonterrey S.A.'), ('7N', 'Inland Aviation Services'), ('7P', 'Apa International Air S.A.'), ('7Q', 'Pan American World Airways Dominicana'), ('7S', 'Ryan Air f/k/a Arctic Transportation'), ('7S (1)', 'Skystar International Inc.'), ('7Z', 'Lb Limited'), ('8C', 'Air Transport International'), ('8D', 'Dynamic Aviation, Inc. d/b/a Beacon'), ('8E', 'Bering Air Inc.'), ('8F', 'Wilburs Inc.'), ('8I', 'Inselair Aruba NV'), ('8J', 'Jetall Airways'), ('8L', 'Servicio Aereo Leo Lopez'), ('8N', 'Flagship Airlines Inc.'), ('8Q', 'Baker Aviation Inc.'), ('8R', 'Edelweiss Air Ag'), ('8V', 'Wright Air Service'), ('9J', 'Pacific Island Aviation'), ('9K', 'Cape Air'), ('9L', 'Colgan Air'), ('9M', 'Central Mountain Air'), ('9N', 'ANA & JP Express Co. Ltd.'), ('9R', 'Flagship Express Services'), ('9S', 'Southern Air Inc.'), ('9T', 'TravelspanGT, Inc. S.A.'), ('9V', 'Avior Airlines, C.A.'), ('9W', 'Jet Airways (India) Limited'), ('A0', \"Elysair d/b/a L'Avion\"), ('A2', 'Cielos De Peru'), ('A4', 'Southern Wind Airlines'), ('A7', 'Air Comet S.A.'), ('A7 (1)', 'Air 21'), ('AAA', 'Associated Aviation Act.'), ('AAB', 'Abelag Aviation AG'), ('AAB (1)', 'Antilles Air Boats Inc.'), ('AAE', 'AAA Airlines'), ('AAI', 'Audi Air Inc.'), ('AAL', 'Argosy Air Lines Inc.'), ('AAP', 'Armstrong Air Service Inc.'), ('AAQ', 'Advance Air Charters'), ('AAR', 'Altair Airlines Inc.'), ('AAT', 'Air Sunshine Inc.'), ('AAV', 'Alpine Air'), ('AAZ', 'Alaska Aeronautical Indust.'), ('AB', 'Air Berlin PLC and CO'), ('ABH', 'Air Bahia'), ('ABI', 'Airbama Incorporated'), ('ABO', 'Aeronaves Boringuena Inc.'), ('ABX', 'ABX Air Inc'), ('AC', 'Air Canada'), ('ACA', 'Alaska Central Airways Inc.'), ('ACD', 'Academy Airlines'), ('ACG', 'Air Cargo Express Inc.'), ('ACH', 'Island Airlines Hawaii Inc.'), ('ACI', 'AAA-Action Air Carrier Inc.'), ('ACJ', 'Atlantic Coast Jet Inc.'), ('ACK', 'Air Central Inc.'), ('ACL', 'Check-Air Inc.'), ('ACN', 'Alliance Airlines'), ('ACO', 'Air Cargo Enterprises Inc.'), ('ACP', 'Air Chaparral Inc.'), ('ACQ', 'Aeronautica De Cancun'), ('ACS', 'Alamo Commuter Airlines'), ('ACT', 'Air Central Inc. (1)'), ('ACW', 'Transwest Air Express'), ('AD', 'Azul Linhas Aereas Brazileiras S A'), ('AD (1)', 'Avia Leasing Company'), ('ADB', 'Antonov Company'), ('ADQ', 'Aeronaves Del Peru'), ('ADR', 'Adirondack Airlines'), ('ADV', 'Advantage Airlines'), ('AE', 'Air Europe Limited'), ('AEC', 'Astec Air East Inc.'), ('AED', 'Air East Of Delaware Inc.'), ('AEF', 'Aero Freight'), ('AEO', 'Aero Coach'), ('AEQ', 'Air Caravane Inc.'), ('AEX', 'Air Excursions LLC (1)'), ('AF', 'Compagnie Natl Air France'), ('AFA', 'American Flag Airlines Inc.'), ('AFE', 'Air Florida Express'), ('AFG', 'American Flight Group'), ('AFQ', 'Aero B Venezuela C.A.'), ('AFS', 'Arcata Flying Service'), ('AG', 'Arubaanse Luchtvaart Maatschappij NV dba Aruba Airlines'), ('AGA', 'Air Cargo America Inc.'), ('AGQ', 'Argo S. A.'), ('AHA', 'Air Alpha'), ('AHC', 'Air Hawaii'), ('AHQ', 'Air National'), ('AI', 'National Aviation Company of India Limited d/b/a Air India'), ('AIA', 'All Island Air'), ('AIC', 'Air Caribbean'), ('AIE', 'Air Express Inc.'), ('AIG', 'Airgo Inc.'), ('AIK', 'Air Ketchum Idaho Inc.'), ('AIM', 'Air Mont. Inc.'), ('AIN', 'Air Indiana'), ('AIQ', 'Norontair'), ('AIT', 'Airways International'), ('AIY', 'Alliance Air'), ('AJ', 'Air Micronesia Inc.'), ('AJQ', 'Aerodynamics Inc. d/b/a SkyValue d/b/a SkyValue Airways'), ('AKQ', 'Airmark Airlines Inc.'), ('AL', 'Skyway Airlines'), ('ALD', 'Allied Airlines'), ('ALE', 'Air-Lift Associates Inc.'), ('ALI', 'Brandt Air'), ('ALK', 'Air Link Airways'), ('ALL', 'All Seasons Air Pacific'), ('ALQ', 'Alberta Northern Airlines'), ('ALS', 'Air L.A.'), ('ALT', 'Altus Airlines'), ('ALU', 'Aleutian Air'), ('ALX', 'Atlanta Express'), ('AM', 'Aeromexico'), ('AMA', 'North American Airlines Inc.'), ('AME', 'Americair Inc.'), ('AMI', 'American Inter-Island Inc.'), ('AMQ', 'Ameristar Air Cargo'), ('AMR', 'AvAir'), ('AMT', 'American Air Transport'), ('AN', 'ADVANCED AIR, LLC'), ('ANB', 'Air Nebraska Inc.'), ('ANC', 'Atlantic Air'), ('AND', 'Southcentral Air Inc.'), ('ANI', 'Dash Air Corporation'), ('ANM', 'Airways Of New Mexico Inc.'), ('ANO', 'Metro Air Northeast Vermont'), ('ANT', 'Air North/Nenana'), ('AO', 'Aviacion Y Comercio S.A.'), ('AOI', 'Trans New York'), ('AON', 'Action Airlines'), ('AOQ', 'Aerovias S.A.'), ('AOR', 'Air New Orleans'), ('APE', 'Air Cape'), ('APH', 'Alpha Air'), ('API', 'Arizona Pacific Inc.'), ('APL', 'Appalachian Flying Service'), ('APN', 'Aspen Airways Inc.'), ('APQ', 'Alas De Transporte International'), ('APS', 'Air Spirit Inc.'), ('APY', 'Air Polynesia Inc.'), ('AQ', 'Aloha Airlines Inc.'), ('AQQ', 'Air Charter (Safa)'), ('AR', 'Aerolineas Argentinas'), ('ARA', 'Air Resorts Airlines'), ('ARB', 'Air Caribe International'), ('ARD', 'Airlift International'), ('ARI', 'Arizona Aero Corp.'), ('ARM', 'Airmarc Airlines Inc.'), ('ARN', 'Arnold Aviation'), ('ARO', 'Air Oregon'), ('ARP', 'Airspur Helicopters Inc.'), ('ARQ', 'Aerovias Colombianas Arca'), ('ARR', 'Arrowhead Airways Inc.'), ('ARS', 'Air Sedona'), ('ARZ', 'Arizona Airways'), ('ASC', 'Air South Inc.'), ('ASD', 'Amistad Airlines'), ('ASH', 'Air South'), ('ASI', 'Alpine Air Services Inc.'), ('ASN', 'Air Casino'), ('ASP', 'Asap Air Inc.'), ('ASQ', 'Aerosur (1)'), ('ASR', 'Astor Air'), ('AST', 'Astro Airways'), ('ASU', 'Air South (1)'), ('ASW', 'Sunrise Airlines Inc.'), ('AT', 'Royal Air Maroc'), ('ATH', 'Air Southeast'), ('ATN', 'Air Atlantic Airlines Inc.'), ('ATO', 'Pacific National Airways'), ('ATQ', 'Aero Tranportes Panamenos'), ('ATS', 'Atlantis Airlines Inc.'), ('ATT', 'Aerotransit Inc.'), ('ATX', 'Air Carolina'), ('AUX', 'Austin Express Inc.'), ('AV', 'Aerovias Nacl De Colombia'), ('AVA', 'Air Vectors Airways'), ('AVC', 'Av Center Inc.'), ('AVG', 'Airvantage'), ('AVI', 'Aero Virgin Islands Corp.'), ('AVL', 'Aviation Sales'), ('AVQ', 'Aero Laguna S.A. De C.V.'), ('AVR', 'Air Vermont Inc.'), ('AVS', 'Aviation Services'), ('AVZ', 'Southern Jersey Airways'), ('AWA', 'Air West Airlines'), ('AWQ', 'Aermediterranea S.P.A.'), ('AX', 'Trans States Airlines'), ('AXQ', 'Aeron International Airlines Inc.'), ('AY', 'Finnair Oy'), ('AYQ', 'Aerodan S.A. De C.V.'), ('AZ', 'Compagnia Aerea Italiana'), ('AZP', 'Arizona Pacific Airways'), ('AZQ', 'Anglo Airlines Ltd.'), ('B0', 'Dreamjet SAS Dba La Compagnie'), ('BA', 'British Airways Plc'), ('BAA', 'Aero International Airlines'), ('BAC', 'Business Aircraft Corp.'), ('BAH', 'Brennan & Hargreaves Inc.'), ('BAK', 'Bankair Inc.'), ('BAN', 'Bangor International Air'), ('BAQ', 'Aero Rentas De Coahuila S.A. De C.V.'), ('BAR', 'Bard-Air Corp.'), ('BAT', 'West Penn Commuter'), ('BAY', 'Burlington Aeroplane Co.'), ('BBQ', 'Balair Ag'), ('BC', 'Skymark Airlines Inc.'), ('BCA', 'Baja Cortez Airlines'), ('BCQ', 'Bradley Air Services Ltd.'), ('BD', 'British Midland Airways Ltd.'), ('BDE', 'Jet Express'), ('BDQ', 'Aerotaxis De Aguascalientes S.A. De C.V.'), ('BE', 'Braniff International Airlines Inc.'), ('BEA', 'Business Express Airlines'), ('BEN', 'Bennington Aviation Inc.'), ('BEQ', 'Air Belgium'), ('BES', 'Aeroservices Executive'), ('BEY', 'Beyer Aviation'), ('BF', 'French bee'), ('BF (1)', 'Markair Inc.'), ('BFG', 'Million Air'), ('BFQ', 'Buffalo Airways Inc.'), ('BG', 'Biman Bangladesh Airlines'), ('BGQ', \"Airbus Transport Internat'l\"), ('BHK', 'Blackhawk Airways Inc.'), ('BHO', 'Bighorn Airways Inc.'), ('BHQ', 'Turks Air Ltd. (1)'), ('BIA', 'Big Island Air'), ('BIQ', 'Servicios Aeronauticos Z S.A. De C.V.'), ('BIR', 'Birchwood Air Service'), ('BJQ', 'Taxirey S.A. De C.V.'), ('BLQ', 'Air Bvi Limited'), ('BM', 'Belize Air International Ltd.'), ('BMT', 'Bremerton Aviation Inc.'), ('BN', 'Britannia Airways GmbH'), ('BN (1)', 'Braniff Inc.'), ('BNQ', 'NetJets Large Aircraft Company L.L.C.'), ('BOA', 'Boise Air Service'), ('BOI', 'Bo-S-Aire Airlines Inc.'), ('BOQ', 'Transp. Aereos Bolivianos'), ('BQ', 'Aeromar C. Por A.'), ('BR', 'Eva Airways Corporation'), ('BR (1)', 'Cal Air International Ltd.'), ('BRK', 'Barken International'), ('BRO', 'Brower Airways Inc.'), ('BRW', 'Barrow Air'), ('BTQ', 'Brasair Transportes Aereos'), ('BUH', 'Business Helicopters'), ('BUQ', 'Wrangler Aviation Inc.'), ('BUQ (1)', 'Blue Bell Inc.'), ('BUR', 'Burlington Airways Inc.'), ('BW', 'Caribbean Airlines Limited'), ('BX', 'Air Busan'), ('BXQ', 'Spantax S. A.'), ('BY', 'Britannia Airways Ltd.'), ('BYA', 'Bay Air'), ('BZQ', 'Abaco Air, Ltd.'), ('C5', 'Commutair Aka Champlain Enterprises, Inc.'), ('C6', 'Canjet Airlines'), ('C8', 'Cargolux Italia SpA'), ('C8 (1)', 'Chicago Express Airlines'), ('CA', 'Air China'), ('CAC', 'Coleman Air Transport'), ('CAF', 'California Seaboard'), ('CAI', 'Crawford Aviation Inc.'), ('CAM', 'C & M Airlines'), ('CAP', 'Metro Air Northeast N Y'), ('CAQ', 'Challenge Air Luftverkehrs GmbH'), ('CAT', 'Catalina Airlines Inc.'), ('CAV', 'Air Virginia'), ('CAZ', 'CAT Aviation'), ('CB', 'Air One Inc.'), ('CBA', 'Carriba Air Inc.'), ('CC', 'Air Atlanta Icelandic'), ('CC (1)', 'Air Atlanta Inc.'), ('CCA', 'Cityhop'), ('CCO', 'Chester County Aviation'), ('CDQ', 'Kitty Hawk International'), ('CEN', 'Cen-Tex Airlines Inc.'), ('CEQ', 'All Canada Express'), ('CET', 'Century Airlines (Cal)'), ('CF', 'Compan. De Aviacion Faucett'), ('CGA', 'Chicago Airlines'), ('CGL', 'Viking International Airlines Inc.'), ('CGO', 'Chicago Air Taxi'), ('CH', 'Bemidji Airlines'), ('CHD', 'Chandler Flyer'), ('CHE', 'Charter Airlines'), ('CHF', 'Hammonds Commuter Air Serv.'), ('CHI', 'Chitina Air Service'), ('CHL', 'Channel Flying Inc.'), ('CHO', 'Choi Aviation Inc.'), ('CHS', 'Christman Air System'), ('CHT', 'Charter One'), ('CI', 'China Airlines Ltd.'), ('CIQ', 'A/S Conair'), ('CIS', 'Cal Sierra Airlines'), ('CJ', 'Colgan Airways Inc.'), ('CK', 'China Cargo Airline'), ('CKI', 'Inlet Airlines'), ('CL', 'Capitol International Inc.'), ('CLB', 'Columbia Pacific Airlines'), ('CLD', 'Hawaii Pacific Helicopters'), ('CLF', 'California Air Shuttle'), ('CLQ', 'Aero Transcolombiana'), ('CM', 'Compania Panamena (Copa)'), ('CMB', 'Combs Airways Inc.'), ('CMD', 'Command Airways Inc.'), ('CMQ', 'Servicio De Carga Aerea Sa'), ('CMR', 'Commuter Airlines (Ca)'), ('CNN', 'Centennial Airlines'), ('CO', 'Continental Air Lines Inc.'), ('COB', 'Cotton Belt Aviation Inc.'), ('COC', 'Cochise Airlines Inc.'), ('COK', 'Coker Aviation Inc.'), ('COL', 'Presidential Express'), ('COM', 'Commutair'), ('COR', 'Coral Air Inc.'), ('COS', 'Cosmopolitan Comm. Airline'), ('COT', 'Southeastern Commuter'), ('COU', 'Courtesy Air Service Inc.'), ('CP', 'Compass Airlines'), ('CP (1)', 'Canadian Airlines International Ltd.'), ('CPA', 'Capitol Air Lines'), ('CPC', 'Coastal Plains Commuter Inc.'), ('CPQ', 'Capitol Air Express Inc.'), ('CPT', 'Capitol Air'), ('CQI', 'Conquest Airline Corp.'), ('CRA', 'Commuter Airlines'), ('CRB', 'Caribair'), ('CRE', 'Caribbean Express Inc.'), ('CRH', 'Cresent Medivac'), ('CRN', 'Crown Aviaiton Inc.'), ('CRO', 'Crown Airways Inc.'), ('CRP', 'Corporate Air'), ('CRT', 'Crested Butte Air Service'), ('CRV', 'Acropolis Aviation Ltd.'), ('CS', 'Continental Micronesia'), ('CSA', 'Casino Airlines'), ('CSK', 'Catskill Airways Inc.'), ('CSL', 'Central States Air Lines'), ('CSM', 'Chisum Flying Service'), ('CSN', 'Casino Airlines (1)'), ('CSQ', 'Celtic Tech Jet Ltd.'), ('CTA', 'Century Airlines'), ('CTH', 'Cothron Aviation'), ('CTL', 'Coastal Air Transport'), ('CTQ', 'Custom Air Transport'), ('CTR', 'Chartair'), ('CUQ', 'Caicos Caribbean Airways'), ('CUS', 'Custom Air Service'), ('CV', 'Cargolux Airlines International S.A'), ('CVA', 'Catalina-Vegas Airlines'), ('CVQ', 'Caraven S.A.'), ('CW', 'Air Marshall Islands Inc.'), ('CWQ', 'Canadian Aviation Express'), ('CX', 'Cathay Pacific Airways Ltd.'), ('CYQ', 'Corse Air International'), ('CZ', 'China Southern Airlines'), ('CZ (1)', 'Cascade Airways Inc.'), ('CZQ', 'Aviation Concepts'), ('D7', 'Air Asia X Berhad dba Airasia X'), ('D8', 'Norwegian Air International Ltd.'), ('DA', 'Dan Air Services'), ('DAN', 'Danbury Airlines'), ('DAU', 'Dauphin Island Airways'), ('DC', 'Caribbean Air Cargo Co Ltd.'), ('DE', 'Condor Flugdienst'), ('DEA', 'Downeast Airlines Inc.'), ('DEC', 'Decatur Aviation'), ('DFS', 'Downeast Flying Service'), ('DH', 'Independence Air'), ('DH (1)', 'Discovery Airways Inc.'), ('DHL', 'DHL Airlines Inc.'), ('DHQ', 'DHL Aero Expresso'), ('DI', 'Norwegian Air UK Limited'), ('DIA', 'Drummond Island Air'), ('DIC', 'Dickman Aviation Services'), ('DIR', 'Northern Star'), ('DM', 'Maersk Air I/S'), ('DO', 'Compania Dominicana De Avia'), ('DOL', 'Dolphin Airways Inc.'), ('DOQ', 'Aerolineas Dominicanas S A'), ('DPA', 'Desert Pacific Airways'), ('DPI', 'Desert Pacific Airlines Inc.'), ('DQQ', 'Caribwest Airways Ltd.'), ('DSA', 'Desert Sun Airlines'), ('DST', 'Desert Airlines'), ('DUL', 'Dulles Express'), ('DUZ', 'Summit Airlines Inc.'), ('DVO', 'Devoe Airlines'), ('DWN', 'Dawn Air'), ('DXA', 'Dolphin Express'), ('DY', 'Norwegian Air Shuttle ASA'), ('E0', 'EOS Airlines, Inc.'), ('E7', 'Estafeta Carga Aereas'), ('E72', 'European Aviation Air Charter'), ('E8', 'USAfrica Airways Inc.'), ('E9', 'Evelop Airlines SL'), ('E9 (1)', 'Boston-Maine Airways'), ('EA', 'Eastern Air Lines Inc.'), ('EAI', 'Executive Aviation Inc.'), ('EAQ', 'Executive Airlines, SL'), ('EAS', 'Eastern Caribbean Airways'), ('EAT', 'Eastman Airways Inc.'), ('EAU', 'Elitavia Malta Limited'), ('EBQ', 'Execaire Aviation Ltd.'), ('ECA', 'Eagle Airlines (1)'), ('ECI', 'Eastern Carolina Aviation'), ('ECL', 'Eclipse Airlines'), ('ECQ', 'Trans American Charter'), ('ECR', 'East Coast Airways'), ('ED', 'Andes'), ('EDE', 'Ede Aire'), ('EE', 'Eastern Airlines Group Inc.'), ('EET', 'Exec Express II'), ('EEX', 'Exec Express'), ('EEZ', 'Eagle Aviation Inc.'), ('EFA', 'Executive Four Winds'), ('EFQ', 'Trans Europ. Airways France'), ('EGA', 'Eagle Airline'), ('EGJ', 'Eagle Jet Charter'), ('EGL', 'Eagle Commuter Airlines Inc.'), ('EH', 'Saeta Airlines'), ('EHA', 'East Hampton Aire Inc.'), ('EI', 'Aer Lingus Plc'), ('EIA', 'East. Indiana Aviation Sale'), ('EJQ', 'Aeroejecutivos C.A.'), ('EK', 'Emirates'), ('EKA', 'Air Pacific Inc.'), ('ELL', 'Ellis Air Taxi Inc.'), ('EM', 'Empire Airlines Inc.'), ('EMA', 'Emerald Airlines'), ('EME', 'Metro Express'), ('EMP', 'Empire Airlines Inc. (2)'), ('ENT', 'Enterprise Airlines Inc.'), ('EOQ', 'Aeroservicios Ecuatorianos'), ('EP', 'All Star Airlines Inc.'), ('EQ', 'Tame Linea Aerea del Ecuador Tme EP'), ('ER', 'Astar USA, LLC'), ('ERI', 'Erie Airways Inc.'), ('ERO', 'Empire Aero Service'), ('ERQ', 'Aero Trades (Western) Ltd.'), ('ESQ', 'Seagreen Air Transport'), ('ET', 'Ethiopian Airlines'), ('EU', 'Ecuatoriana De Aviacion'), ('EUQ', 'Air Atlanta Europe'), ('EVA', 'Evanston Aviation'), ('EW', 'Eurowings GmbH'), ('EWA', 'Rio Grande Air'), ('EXA', 'Columbia Pacific Airlines (1)'), ('EXC', 'Hapag-Lloyd Executive GmbH'), ('EXC (1)', 'Executive Charter'), ('EXP', 'Express Airlines II'), ('EXQ', 'Export Air Del Peru S.A.'), ('EXR', 'Executive Transport'), ('EY', 'Etihad Airways'), ('EZ', 'Evergreen International Inc.'), ('F2', 'Omega Air Holdings d/b/a Focus Air'), ('F8', 'Freedom Airlines d/b/a HP Expr'), ('FAA', 'Falwell Aviation Inc.'), ('FAC', 'Falcon Airways Inc.'), ('FAQ', 'Fast Air Carrier Ltd. (1)'), ('FAR', 'Federal Armored Service Inc.'), ('FB', 'Translift Airways Limited'), ('FBI', 'Young Flying Service'), ('FCA', 'Southern Airlines Inc.'), ('FCQ', 'Falcon Air Express'), ('FD', 'Air Puerto Rico Airlines'), ('FDA', 'Florida Airlines Inc.'), ('FDM', 'Freedom Airlines Inc.'), ('FDQ', 'Great American Airways'), ('FE', 'Primaris Airlines Inc.'), ('FF', 'Tower Air Inc.'), ('FFQ', 'Five Star Airlines'), ('FH', 'Frontier Horizon Inc.'), ('FI', 'Icelandair'), ('FJ', 'Air Pacific Ltd.'), ('FJ (1)', 'Air Pacific Ltd. (1)'), ('FL', 'AirTran Airways Corporation'), ('FL (1)', 'Frontier Airlines Inc. (1)'), ('FLA', 'Florida Air'), ('FLM', 'Flamenco Airways Inc.'), ('FLR', 'Flirite Inc.'), ('FNQ', 'Fine Airlines Inc.'), ('FOR', 'Ford-Aire Inc.'), ('FOS', 'Foster Aviation'), ('FP', 'TAG Aviation S.A.'), ('FQ', 'Air Aruba'), ('FRA', 'Freedom Air'), ('FRS', 'Four Star Aviation'), ('FRT', 'Frontier Commuter'), ('FRW', 'Farwest Airlines'), ('FS', 'Serv De Trans Aereos Fuegui'), ('FSA', 'F.S. Air Service'), ('FT', 'Flying Tiger Line Inc.'), ('FTI', 'Southern Airways'), ('FVA', 'Skycraft Inc.'), ('FW', 'Skybus Inc.'), ('FWA', 'Far West Airlines'), ('FX', 'Federal Express Corporation'), ('FYB', 'Flying Boat'), ('FYQ', 'Flying Group Lux S.A.'), ('G3', 'VRG Linhas Aereas S A'), ('G3 (1)', 'Aerochago S.A.'), ('G7', 'GoJet Airlines LLC d/b/a United Express'), ('GA', 'P.T. Garuda Indonesian Arwy'), ('GAL', 'Galena Air Service'), ('GAQ', 'Galaxy Airlines Inc.'), ('GAS', 'General Aviation Inc.'), ('GAT', 'Gulf Air Taxi'), ('GAV', 'Gromer Aviation Inc.'), ('GBA', 'Central States Airline'), ('GBQ', 'G5 Executive Ag'), ('GCA', 'Golden Carriage Aire'), ('GCH', 'Grand Canyon Helicopters'), ('GCQ', 'Glock Aviation GmbH'), ('GCQ (1)', 'General Air Cargo'), ('GCS', 'Midway Commuter'), ('GD', 'Transp. Aereos Ejecutivos'), ('GDW', 'Golden West Airlines Inc.'), ('GE', 'Lufthansa Cargo Airlines'), ('GEQ', 'Gestair, S.A.'), ('GF', 'Gulf Air Company'), ('GF (1)', 'Gulf Air Transport Inc.'), ('GFC', 'Gulf Flite Center'), ('GFQ', 'Gulf And Caribbean Cargo'), ('GG', 'Cargo 360, Inc.'), ('GG (1)', 'Tropical Airways Inc.'), ('GG (2)', 'Grenada Airways Ltd.'), ('GH', 'Ghana Airways Corporation'), ('GHA', 'Green Hills Aviation Ltd.'), ('GIQ', 'Global International Airways Corp.'), ('GJ', 'Eurofly S.p.A'), ('GJ (1)', 'Mexicargo'), ('GKQ', 'Laker Airways'), ('GL', 'Miami Air International'), ('GLW', 'Golden West Airlines Co.'), ('GM', 'Air America'), ('GMA', 'Green Mountain Airlines Ltd.'), ('GOF', 'Copper State Airlines'), ('GPA', 'GP Express Airlines'), ('GQ', 'Big Sky Airlines Inc.'), ('GR', 'Gemini Air Cargo Airways'), ('GRA', 'Gorda Aero Service'), ('GRD', 'Grand Canyon Airlines'), ('GRO', 'Isle Royale Seaplane Serv.'), ('GS', 'Air Foyle Limited'), ('GSA', 'Golden Gate Airlines Inc.'), ('GSC', 'GCS Air Service'), ('GSL', 'Golden South Airlines Inc.'), ('GSQ', 'Global Supply System'), ('GST', 'Golden State Airlines'), ('GU', 'Aviateca, S.A.'), ('GU (1)', 'Aviateca'), ('GUL', 'Gull Air Inc.'), ('GUN', 'Gunnel Aviation Inc.'), ('GV', 'Grant Aviation'), ('GW', 'SkyGreece Airlines S A'), ('GW (1)', 'Central American Airlines'), ('GWA', 'Great Western Aviation'), ('GWE', 'Ross Aviation Inc.'), ('GX', 'Air Ontario Limited'), ('GY', 'Guyana Airways Corporation'), ('H2', 'City Bird'), ('H5', 'Magadan Airlines'), ('H6', 'Hageland Aviation Service'), ('HAQ', 'Hapag Lloyd Flug.'), ('HAR', 'Friendship Air Alaska'), ('HB', 'Homer Air'), ('HB (1)', 'Air Club International'), ('HBQ', 'Harris Air Services'), ('HCQ', 'Av Atlantic'), ('HEL', 'Helitrans'), ('HEP', 'Hub Express'), ('HER', 'Markair Express'), ('HET', 'Helitac Aviation'), ('HEU', 'Heussler Air Service Corp'), ('HFQ', 'Haiti Air Freight Intl'), ('HFS', 'Hensley Flying Service Inc.'), ('HIQ', 'Business Flights Ltd.'), ('HJ', 'Air Haiti S. A.'), ('HK', 'Time Air Sweden Ab'), ('HLQ', 'Heavylift Cargo Airlines Lt'), ('HMZ', 'Long Island Airlines'), ('HNS', 'Haines Airways'), ('HOL', 'Holiday Airlines Inc.'), ('HOQ', 'Holidair Airways'), ('HOR', 'Iowa Airlines'), ('HP', 'America West Airlines Inc. (Merged with US Airways 9/05. Stopped reporting 10/07.)'), ('HPZ', 'Pacific Coast Airlines'), ('HQ', 'Harmony Airways'), ('HQ (1)', 'Business Express'), ('HQQ', 'Harlequin Air Corporation'), ('HRA', 'Trans-National Airlines Haw'), ('HRG', 'Heritage Airlines'), ('HRQ', 'Tar Airlines'), ('HRZ', 'Allegheny Airlines'), ('HSV', 'Harbor Air Service'), ('HSZ', 'Scenic Airlines Inc.'), ('HU', 'Hainan Airlines Company Limited'), ('HUB', 'Skystream Airlines'), ('HVQ', 'Transavia Holland B. V.'), ('HWK', 'Hawking Corporation'), ('HX', 'Hong Kong Airlines Limited'), ('HX (1)', 'Guy-America Airways Inc.'), ('HY', 'Uzbekistan Airways'), ('HYA', 'Hyannis Aviation'), ('HYP', 'Hyperion Aviation Ltd. dba Hyperion'), ('I4', 'Scott Air LLC dba Island Air Express'), ('IA', 'Iraqi Airways'), ('IB', 'Iberia Air Lines Of Spain'), ('ICF', 'Iowa City Flying Service'), ('ICH', 'Island Air Charters'), ('ICQ', 'Iscargo Hf'), ('IDQ', 'Intl Air Service Co. Ltd.'), ('IEX', 'Island Air Express'), ('IFQ', 'FAI rent-a-jet AG'), ('IG', 'Airitaly S.P.A.'), ('IGA', 'Global Jet Austria, GmbH'), ('III', 'Idee Industries Inc.'), ('IJ', 'Great Wall Airlines Company Limited'), ('IKQ', 'Tradewinds Airways Ltd.'), ('IMP', 'Imperial Airlines Inc.'), ('IN', 'Aerlinte Eireann Teoranta'), ('INA', 'Inland Empire Airlines Inc.'), ('IND', 'Indiana Airways Inc. (Pa)'), ('INQ', 'Independent Air Inc.'), ('IOW', 'Iowa Airways'), ('IPI', 'Indo-Pacific International'), ('IPQ', 'Aruba Cargo'), ('IPS', 'Island Express'), ('IR', 'Iran National Airlines Corp'), ('IRQ', 'Interstate Airlines Inc.'), ('ISL', 'Island Airlines'), ('ITQ', 'Interamericana De Aviacion'), ('IW', 'Air Liberte Aka Aom Minerve'), ('IW (1)', 'Best Airlines Inc.'), ('IXQ', 'Inair'), ('J2', 'Azerbaijan Airlines CJSC'), ('J5', 'Kalinin Aviation LLC d/b/a Alaska Seaplanes'), ('J6', 'Larrys Flying Service'), ('J7', 'Valujet Airlines Inc.'), ('JAG', 'JetAlliance Flugbetriebs d/b/a JAF Airservice'), ('JAM', 'Sunbelt Airlines Inc.'), ('JAQ', 'Jamaica Air Freighters'), ('JB', 'Helijet International Inc.'), ('JCM', 'Air Chico'), ('JCO', 'Concierge U Ltd. d/b/a Jet Concierge Club'), ('JCQ', 'Jet Connection Businessflight Ag'), ('JCZ', 'Rocky Mountain Airways Inc.'), ('JD', 'Beijing Capital Airlines'), ('JD (1)', 'Japan Air System Co. Ltd.'), ('JER', 'Jer-Don Air'), ('JF', 'L.A.B. Flying Service Inc.'), ('JI', 'Jade Cargo International'), ('JI (1)', 'Midway Airlines Inc.'), ('JIQ', 'Jet Fleet Intl. Airlines'), ('JJ', 'Transportes Aeros Meridiona'), ('JK', 'Spanair S.A.'), ('JK (1)', 'Sunworld International Airways Inc.'), ('JKQ', 'Express One International Inc.'), ('JL', 'Japan Air Lines Co. Ltd.'), ('JM', 'Air Jamaica Limited'), ('JMA', 'Jim Air Inc.'), ('JN', 'Excel Airways'), ('JO', 'Jalways Co. Ltd.'), ('JQ', 'Jetstar Airways Pty Limited'), ('JR', 'Aero California'), ('JTA', 'Jetaire Airlines Inc.'), ('JU', 'Air Serbia'), ('JU (1)', 'Yugoslav Airlines'), ('JVQ', 'Prince Aviation'), ('JW', 'Arrow Air Inc.'), ('JX', 'Southeast Airlines'), ('JX (1)', 'Jes Air Ltd.'), ('JXQ', 'Allarco Developments Ltd.'), ('JZ', 'Japan Air Charter Co. Ltd.'), ('K2', 'Paklook Air, Inc d/b/a/ Airlift Alaska d/b/a/ Yute Commuter Service'), ('K3', 'Venture Travel LLC d/b/a Taquan Air Service'), ('K5', 'Seaport Airlines, Inc.'), ('K7', 'Arizona Express'), ('K8', 'Dutch Caribbean Airlines'), ('KA', 'Hong Kong Dragonair'), ('KA1', 'Kenmore Air Express, LLC (subsidiary of Kenmore Air Harbor)'), ('KAH', 'Kenmore Air Harbor'), ('KAI', 'Knight Airlines Inc.'), ('KAQ', 'Kalitta Air LLC'), ('KAT', 'Katmai Air'), ('KB', 'Haiti Air'), ('KD', 'Western Global'), ('KE', 'Korean Air Lines Co. Ltd.'), ('KEA', 'Keene Airways'), ('KEE', 'Key Airlines'), ('KET', 'Ketchikan Air Service'), ('KFQ', 'Skyfirst Limited'), ('KFS', 'King Flying Service'), ('KH', 'Aloha Air Cargo'), ('KI', 'Time Air Ltd.'), ('KIN', 'Golden Pacific Airlines'), ('KKQ', 'Transmeridian Air Cargo Ltd.'), ('KL', 'Klm Royal Dutch Airlines'), ('KLQ', 'Kalitta Charters II'), ('KM', 'Air Malta'), ('KN', 'Morris Air Corporation'), ('KO', 'Alaska Central Express'), ('KOD', 'Kodiak Airways Inc.'), ('KP', 'Kiwi International'), ('KQ', 'Kenya Airways PLC'), ('KR', 'Kitty Hawk Aircargo'), ('KR (1)', 'Kar-Air Oy'), ('KS', 'Peninsula Airways Inc.'), ('KTQ', 'Turks Air Ltd.'), ('KU', 'Kuwait Airways Corp.'), ('KV', 'Sky Regional Airlines Inc.'), ('KW', 'Carnival Air Lines Inc.'), ('KWQ', 'Kelowna Flightcraft Air Cha'), ('KWZ', 'Crown Air'), ('KX', 'Cayman Airways Limited'), ('KXZ', 'Chaparral Airlines Inc.'), ('KZ', 'Nippon Cargo Airlines'), ('L2', 'Lynden Air Cargo Airlines'), ('L3', 'Lynx Aviation d/b/a Frontier Airlines'), ('L7', 'Lan Colombia'), ('LA', 'Lan-Chile Airlines'), ('LAA', 'La Skycab Airline'), ('LAH', 'La Helicopter'), ('LAN', 'Lancer Aviation Inc.'), ('LAP', 'Lapsa'), ('LAR', 'Laredo Air'), ('LAS', 'Lake Union Air Service'), ('LAW', 'Lawrence Aviation'), ('LB', 'Lloyd Aereo Boliviano S. A.'), ('LBQ', 'Millon Air Inc.'), ('LC', 'Varig Logistica S/A'), ('LC (1)', 'Lineas Aereas Del Caribe'), ('LC (2)', 'Legend Airlines'), ('LCQ', 'Latcr'), ('LCT', 'Lake Coastal'), ('LDM', 'Laudamotion GmbH'), ('LDQ', 'Laudamotion Executive'), ('LEQ', 'Le Point Air'), ('LEX', \"L'Express\"), ('LF', 'CFM Inc d/b/a Contour Airlines d/b/a One Jet Shuttle'), ('LF (1)', 'Jettrain Airlines'), ('LG', 'Luxair'), ('LGQ', 'Lineas Aereas Allegro'), ('LH', 'Lufthansa German Airlines'), ('LHA', 'Havasu Airlines'), ('LIQ', 'Liat (1974) Limited'), ('LJ', 'Jin Air Co Ltd.'), ('LKN', 'Loken Aviation'), ('LLA', 'Lakeland Aviation'), ('LNQ', 'Aerolineas Latinas'), ('LO', 'Polskie Linie Lotnicze'), ('LOQ', 'Lorair Ltd.'), ('LOS', 'Aero Commuter'), ('LP', 'Lan Peru Airlines'), ('LP (1)', 'The Hawaii Express Inc.'), ('LR', 'Lacsa'), ('LRQ', 'Air Liberte'), ('LS', 'Jet2.com'), ('LSQ', 'Lineas Aereas Suramerican'), ('LSZ', 'Alaska Island Air Inc.'), ('LT', 'Luftransport-Unternehmen'), ('LU', 'Air Atlantic Dominicana'), ('LUQ', 'Lineas Aereas La-Tur Sa'), ('LV', 'OPENSKIES SAS'), ('LVA', 'Las Vegas Airlines'), ('LW', 'Pacific Wings Airlines'), ('LX', 'Swiss International Airlines'), ('LXQ', 'Luxaviation Germany GmbH'), ('LXQ (1)', 'Translux Intl Airlines'), ('LY', 'El Al Israel Airlines Ltd.'), ('LZ', 'Balkan Bulgarian Airlines'), ('LZQ', 'Leisure International Airways Ltd.'), ('M3', 'ABSA-Aerolinhas Brasileiras'), ('M6', 'Amerijet International'), ('M7', 'Aerotransportes Mas De Crga'), ('MA', 'Malev Hungarian Airlines'), ('MAA', 'Maui Airlines'), ('MAC', 'Mackey International Inc.'), ('MAE', 'Mid-Atlantic Exp. Airlines'), ('MAG', 'Magum Airlines'), ('MAI', 'The Maui Commuter'), ('MAQ', 'Millardair Limited'), ('MAR', \"Marshall's Air Inc.\"), ('MAV', 'Maverick Airways'), ('MAX', 'Maxair Inc.'), ('MB', 'Samoa Airlines Inc.'), ('MC', 'Transtar Airlines Corp.'), ('MCO', 'Mid Continental Airlines In'), ('MDC', 'Midcontinent Airlines'), ('MDU', 'Metro Airlines'), ('ME', 'Middle East Airlines S.A.L.'), ('MEA', 'Manhattan Express'), ('MET', 'Metroplex Airlines'), ('MEX', 'Metro Express 11'), ('MF', 'Xiamen Airlines Co., Ltd.'), ('MG', 'Champion Air'), ('MGQ', 'Montana Austria Flugetrieb'), ('MH', 'Malaysian Airline System'), ('MHK', 'Mohawk Airlines'), ('MHO', 'Mahalo Air'), ('MIN', 'Minuteman Aviation Inc.'), ('MIS', 'Midstate Airlines Inc.'), ('MIY', 'Midway Aviation Inc.'), ('MJ', 'Lapa-Lineas Aereas Privadas'), ('MKQ', 'Airmark Corporation'), ('ML', 'Aero Costa Rica'), ('ML (1)', 'Midway Airlines Inc. (1)'), ('MLL', 'Miller Air Transportersinc'), ('MLX', 'Merlin Express'), ('MM', 'Euro Atlantic Airways'), ('MM (1)', 'Sociedad Aeronautica De Med'), ('MMH', 'Ocean Airways Inc.'), ('MNA', 'M & N Aviation'), ('MNZ', 'Cumberland Airlines'), ('MOQ', 'Morningstar Air Express'), ('MP', 'Martinair Holland N.V.'), ('MPA', 'Mid Pacific Airlines Inc.'), ('MPC', 'Mid Pacific Air Corp.'), ('MRC', 'Marco Island Airways Inc.'), ('MRR', 'Merrimack Aviation Inc.'), ('MS', 'Egyptair'), ('MST', 'Midwest Aviation'), ('MT', 'Thomas Cook Airlines Uk Ltd.'), ('MT (1)', 'Flying Colours Airlines Ltd.'), ('MTA', 'Arkansas Traveler Airline'), ('MTR', 'Metroflight Airlines'), ('MTV', 'Mst Aviation'), ('MTX', 'Mountain Air Express'), ('MU', 'China Eastern Airlines'), ('MU (1)', 'Mcclain Airlines Inc.'), ('MUA', \"Manu'a Air Transport\"), ('MUQ', 'Aerolineas Mundo'), ('MVA', 'Mississippi Valley Airlines'), ('MW', 'Mokulele Flight Services, Inc.'), ('MWA', 'Mountain West Airlines'), ('MX', 'Compania Mexicana De Aviaci'), ('MY', 'MAXjet'), ('MYQ', 'Lineas Aereas Mayas (Lamsa)'), ('MZ', 'P.N. Merpati Nusantara Air.'), ('N5', 'Skagway Air Service'), ('N5 (1)', 'Nations Air Express Inc.'), ('N6', 'Aero Continente'), ('N7', 'National Airlines'), ('N8', 'National Air Cargo Group Inc d/ba National Airlines'), (None, 'North American Airlines'), ('NAC', 'National Air Commuter Inc.'), ('NAP', 'Npa Inc.'), ('NAQ', 'Nationair'), ('NAS', 'Nasville Eagle'), ('NAT', 'National Air'), ('NB', 'Sterling Cargo'), ('NBQ', 'Sterling Airways A/S'), ('NC', 'Northern Air Cargo Inc.'), ('NCA', 'National Commuter Airlines'), ('NCE', 'Northcoast Executive'), ('ND', 'Intair'), ('NEB', 'New Born Wings Inc.'), ('NEC', 'Nor East Commuter Airlines'), ('NEQ', 'North East Cargo Airlines'), ('NER', 'Northeast Express Regional (1)'), ('NET', 'Nacnet'), ('NEV', 'Nevada Airlines'), ('NEW', 'New England Airlines Inc.'), ('NEX', 'Northeast Express Regional'), ('NFA', 'National Florida Airlines'), ('NFQ', 'North Cariboo Flying Serv.'), ('NG', 'Lauda Air Luftfahrt Ag'), ('NGL', 'Northern Eagle Airways Inc.'), ('NH', 'All Nippon Airways Co.'), ('NHA', 'Newair Flight Inc.'), ('NI', 'Lanica'), ('NI (1)', 'American International Airways Inc.'), ('NJ', 'Vanguard Airlines Inc.'), ('NJA', 'N. J. Merrimack Airlines'), ('NJE', 'NetJets Transportes Aereos, S.A.'), ('NKQ', 'Norcanair'), ('NLQ', 'Nolinor Aviation'), ('NN', 'Northward Airlines Ltd.'), ('NOQ', 'Novair Airlines Ab'), ('NPA', 'North Pacific Airlines Inc.'), ('NPT', 'E. J. A. Newport Inc.'), ('NQ', 'Air Japan Co'), ('NRN', 'Northern Airlines Inc.'), ('NSQ', 'North Coast Air Services'), ('NTH', 'Northaire'), ('NTQ', 'National Aviation Consult.'), ('NUM', 'Lake State Airways'), ('NUQ', 'Air Niugini'), ('NVQ', 'Novair International Airways Ltd.'), ('NVX', 'Nevis Express'), ('NW', 'Northwest Airlines Inc.'), ('NWQ', 'N. W. Territorial Airways'), ('NWS', 'Northwest Seaplanes'), ('NXQ', 'North Vancouver Air'), ('NY', 'New York Air Inc.'), ('NYH', 'New York Helicopter Corp.'), ('NZ', 'Air New Zealand'), ('O6', 'Oceanair Linhas Aereas S A'), ('OA', 'Olympic Airways'), ('OAK', 'Harbor Airlines Inc.'), ('OB', 'Oasis International Airlines S.A.'), ('OC', 'Air California Inc.'), ('OCR', 'Ocean Reef Airways Inc.'), ('OD', 'Emerald Airlines Inc.'), ('OD (1)', 'Aerocondor'), ('OE', 'Westair Airlines Inc.'), ('OF', 'Air Finland Ltd.'), ('OFF', 'Offshore Logistics'), ('OH (1)', 'Comair Inc.'), ('OHA', 'Omaha Aviation'), ('OHZ', 'Caribbean Air Services Inc.'), ('OI', 'Prestige Airways'), ('OIZ', 'Corporate Air Inc.'), ('OJ', 'Fly Jamaica Airways Limited'), ('OK', 'Czech Airlines'), ('OMH', 'Omniflight Helicopters'), ('OMI', 'Omniflight Airways'), ('OMK', 'Omak Aviation Airlines'), ('OMN', 'Omni Pacific Airline'), ('OMQ', 'Quassar De Mexico'), ('ON', 'Air Nauru'), ('ONQ', 'Nunasi-Central Airlines Ltd.'), ('OOZ', 'Sun Aire Lines'), ('OP', 'Flying Boat Inc.'), ('OP (1)', 'Air Panama Internacional'), ('OPQ', 'Orion Air'), ('OR', 'TUI Airlines Nederland B.V.'), ('ORI', 'Orion Air Inc.'), ('OS', 'Austrian Airlines'), ('OTT', 'Otter Air'), ('OV', 'Aeromaritime'), ('OW', 'Executive Airlines'), ('OWQ', 'Ontario Worldair Limited'), ('OWS', 'Air Kentucky Air Lines'), ('OZ', 'Asiana Airlines Inc.'), ('OZ (1)', 'Ozark Air Lines Inc. (1)'), ('OZA', 'Ozark Air Lines Inc.'), ('P3', 'Cargologicair Limited'), ('P9', 'Pro Air Inc.'), ('PA', 'Florida Coastal Airlines'), ('PA (1)', 'Pan American World Airways (1)'), ('PA (2)', 'Pan American World Airways'), ('PAI', 'Permian Airways Inc.'), ('PAQ', 'Patriot Airlines Inc.'), ('PAT', 'Panorama Air Tours'), ('PBA', 'Provincetown Boston'), ('PBQ', 'Privatair'), ('PCA', 'Piasa Commuter Airlines'), ('PCL', 'Pacific Cal Air'), ('PCQ', 'Pace Airlines'), ('PCR', 'Pacair'), ('PD', 'Porter Airlines, Inc.'), ('PD (1)', 'Pem-Air Limited'), ('PDA', 'Trans Southern Airways'), ('PDQ', 'Antigua Paradise Airways'), ('PE', 'Air Europe S.P.A.'), ('PE (1)', 'People Express Airlines Inc.'), ('PEA', 'Pearson Aircraft'), ('PEQ', 'SkyLink Express Inc.'), ('PER', 'Air Pennsylvania'), ('PET', 'Petro Aviation Corp.'), ('PF', 'Primera Air Scandinavia'), ('PFA', 'Pacificair'), ('PFQ', 'Asia Pacific'), ('PH', 'Polynesian Airlines Ltd.'), ('PHL', 'Phillips Airlines'), ('PHR', 'Pinehurst Airlines Inc.'), ('PHX', 'Phoenix Airlines'), ('PI', 'Piedmont Aviation Inc.'), ('PIA', 'Pacific Island Airways'), ('PIQ', 'Pacific International Airlines'), ('PK', 'Pakistan International Airlines'), ('PKQ', 'Skyworld Airlines Inc.'), ('PL', 'Aero Peru'), ('PLA', 'Planes Inc.'), ('PLQ', 'Planet Airways'), ('PLZ', 'Polar Airways Inc.'), ('PM', 'Prescott Support Company, Inc.'), ('PMA', 'Pacific Missionary Aviation'), ('PMT', 'Pilgrim Aviation & Airlines'), ('PN', 'Pan American Airways Corp.'), ('PNM', 'Panama Aviation'), ('PNQ', 'Panagra Airways'), ('PNR', 'Pioneer Airways'), ('PNS', 'Pine State Airlines'), ('PO', 'Polar Air Cargo Airways'), ('POA', 'Potomac Air'), ('POC', 'Pocono Airlines Inc.'), ('POL', 'Polar International'), ('POM', 'Pompano Airways'), ('PON', 'Ponderosa Aviation Inc.'), ('POQ', 'Polyot Airlines'), ('PP', 'Jet Aviation Business Jets AG'), ('PPQ', 'Propair'), ('PR', 'Philippine Airlines Inc.'), ('PRA', 'Princeton Aviation Corp'), ('PRD', 'Paradise Island Airlines'), ('PRM', 'Prime Air Inc.'), ('PRN', 'Puerto Rico Intl Airlines'), ('PRO', 'Sundance Airlines'), ('PRP', 'Propheter Aviation'), ('PRQ', 'Florida West Airlines Inc.'), ('PRR', 'Pro Air Services'), ('PS', 'Ukraine International Airlines'), ('PS (1)', 'Pacific Southwest Airlines'), ('PSA', 'P.S. Air Freight Inc.'), ('PT', 'Piedmont Airlines'), ('PT (1)', 'Capital Cargo International'), ('PTQ', 'Flight International'), ('PU', 'Primeras Lineas Uruguays For International'), ('PUQ', 'Aeropuma'), ('PV', 'Eastern Provincial Airways'), ('PVA', 'Precision Valley Aviation'), ('PW', 'Pacific Western Airlines'), ('PY', 'Surinam Airways Limited'), ('PZ', 'Lineas Aereas Paraguayas'), ('Q2', 'Zambia Airways Corp.'), ('Q4', 'Master Top Linhas Aereas, Ltda.'), ('Q5', '40-Mile Air'), ('Q6', 'Vuela Aviacion, S.A.'), ('Q7', 'SkyBahamas Airlines Ltd.'), ('Q7 (1)', 'Sobelair'), ('QB', 'Inter-Quebec (Intair)'), ('QD', 'Grand Airways Inc.'), ('QF', 'Qantas Airways Ltd.'), ('QG', 'Sky West Aviation Inc.'), ('QH', 'Air Florida Inc.'), ('QK', 'Jazz Aviation LP'), ('QN', 'Royal Air'), ('QO', 'Aeromexpress'), ('QOZ', 'Bar Harbor Airways'), ('QQ', 'Reno Air Inc.'), ('QR', 'Qatar Airways (Q.C.S.C)'), ('QS', 'Travel Service, a.s. d/b/a SmartWings'), ('QS (1)', 'Northeastern International Airways'), ('QT', 'Transportes Aereos Mercantiles Panamericanos S.A'), ('QTQ', 'Aer Turas Teoranta'), ('QWE', 'Qwest Commuter'), ('QX', 'Horizon Air'), ('QY', 'European Air Transport Leipzig GmbH'), ('R0', 'Tantalus Air Ltd. d/b/a Harbour Air d/b/a Harbour Air Seaplanes'), ('R2', 'Orenburg Airlines'), ('R3', 'Air Company Yakutia'), ('RAL', 'Royal-Air Ltd.'), ('RAN', 'Pan Am Express'), ('RAQ', 'Arista International Airlines Inc.'), ('RAY', 'Royale Airlines Inc.'), ('RB', 'Syrian Arab Airlines'), ('RC', 'P/F Atlantic Airways'), ('RC (1)', 'Republic Airlines Inc.'), ('RCA', 'Mid-South Aviation Inc. (1)'), ('RD', 'Ryan International Airlines'), ('RD (1)', 'Airlift International Inc.'), ('RDR', 'Rader Aviation'), ('RDW', 'Redwing Airways'), ('REA', 'Realwest Airlines'), ('RED', 'Aerosun International Airlines Inc.'), ('REQ', 'Renown Aviation'), ('RES', 'Resort Airlines Inc.'), ('RG', 'Varig S. A.'), ('RGQ', 'Regency Air'), ('RHA', 'Royal Hawaiian Airways Inc.'), ('RIA', 'Trump Air'), ('RIC', 'Richardson Aviation'), ('RID', 'Indiana Airways Inc. (Reid'), ('RIO', 'Rio Airways Inc.'), ('RIQ', 'Rich International Airways'), ('RIV', 'Riverside Air Service'), ('RJ', 'Alia-(The) Royal Jordanian'), ('RJS', 'Michigan Airways Inc.'), ('RK', 'Air Afrique'), ('RL', 'UltrAir'), ('RL (1)', 'Aerolineas Nicaraguenses'), ('RLQ', 'Reliant Airlines'), ('RMH', 'Rocky Mountain Helicopters'), ('RMV', 'Ram Aviation'), ('RNQ', 'Mytravel Airways'), ('RO', 'Tarom Romanian Air Transpor'), ('ROA', 'Royal West Airways Inc.'), ('ROE', 'Roederer Aviation Inc.'), ('ROQ', 'Aero Uruguay (1)'), ('ROS', 'Great Western Airlines Inc.'), ('ROY', 'Royal American Airways Inc.'), ('RP', 'Chautauqua Airlines Inc.'), ('RRT', 'Air Freight Express'), ('RSC', 'Resort Commuter'), ('RSQ', 'Aerotransportes Entre Rios'), ('RSV', 'Air-Serve'), ('RTQ', 'Aerotour Dominicano Cxa'), ('RU', 'AirBridgeCargo Airlines Limited'), ('RV', 'Air Canada rouge LP'), ('RV (1)', 'Reeve Aleutian Airways Inc.'), ('RVA', 'Reeves Air'), ('RVQ', 'Reeve Air Alaska, LLC'), ('RWG', 'Air Rovers Inc.'), ('RY', 'Redcoat Air Cargo Limited'), ('RZZ', 'Aeromech Inc.'), ('S3', 'Santa Barbara Airlines, C.A'), ('S4', 'Sata Internacional'), ('S5', 'Shuttle America Corp.'), ('S6', 'Star Air A/S'), ('S6 (1)', 'Mountain Bird/Salmon Air'), ('SA', 'South African Airways'), ('SAC', 'Sundorph Aeronautical Corp.'), ('SAH', 'Sea Air Shuttle'), ('SAI', 'Seair Alaska Airlines Inc.'), ('SAJ', 'Sajen Air Inc.'), ('SAL', \"Sallee's Aviation\"), ('SAM', 'Samoan Airlines Inc.'), ('SAQ', 'Southern Air Transport Inc.'), ('SAS', 'Air Cortez International'), ('SAX', 'Air Americana'), ('SBA', 'Saber Aviation Inc.'), ('SBN', 'Suburban Airlines'), ('SBQ', 'Skyjet S.A.'), ('SCN', 'Scott Aviation'), ('SCO', 'Seaco Airlines Inc.'), ('SCT', 'Skyline Airlines'), ('SCY', 'South Coast Airways'), ('SDQ', 'St. Lucia Airways Limited'), ('SE', 'XL Airways France'), ('SE (1)', 'Das Air Cargo'), ('SEB', 'Seaborne Virgin Islands, Inc.'), ('SEG', 'Seagull Air Service'), ('SEM', 'Semo Aviation Inc.'), ('SEP', 'Southern Express Airways'), ('SEQ', 'Sky Service F.B.O.'), ('SER', 'Service Aviation Inc.'), ('SFI', 'Stahmannfarms Inc.'), ('SFO', 'Sfo Helicopter Airlines Inc.'), ('SFQ', 'Pacific International Airlines Inc.'), ('SFQ (1)', 'Southern Frontier Air Trans'), ('SFS', 'Sierra Flite Service Inc.'), ('SG', 'Jetsgo'), ('SH', 'Servicio Aereo De Honduras'), ('SHS', 'Shasta Air Inc.'), ('SHV', 'Shavano Air Inc.'), ('SI', 'Sierra Pacific Airlines'), ('SI (1)', 'Jet America Airlines Inc.'), ('SIA', 'Silver State Airlines'), ('SIQ', 'Premiair'), ('SIQ (1)', 'Scanair'), ('SJA', 'San Juan Airlines Inc.'), ('SJQ', 'Skycharter (Malton) Ltd.'), ('SK', 'Scandinavian Airlines Sys.'), ('SKI', 'Sunbird Inc.'), ('SKJ', 'Sky-Jet'), ('SKL', 'Bas Airlines'), ('SKM', 'Scheduled Skyways'), ('SKS', 'Silver Kris Services Ltd.'), ('SKT', 'Skytrain'), ('SLO', 'Slocum Air Inc.'), ('SLQ', 'Sky King Inc.'), ('SLR', 'Salair'), ('SLZ', 'Southeast Airlines Inc.'), ('SM', 'Sunworld International Airlines'), ('SMC', 'Stopher Mechanical Inc.'), ('SMO', 'Samoa Aviation Inc.'), ('SMQ', 'Serv. Aerolineas Mexicanas'), ('SN', 'Brussels Airlines N.V.'), ('SN (1)', 'Sabena Belgian World Air.'), ('SNA', 'Aviation Associates'), ('SNB', 'Ccair'), ('SNC', 'Gelco Courier Services Inc.'), ('SNE', 'Shawnee Airlines'), ('SNK', 'Spernak Airways Inc.'), ('SNV', 'Sierra Nevada Airways'), ('SO', 'Swiss World Airways'), ('SOA', 'Mall Airways Inc.'), ('SOE', 'Sky One Express'), ('SOL', 'Soonair Lines Inc.'), ('SOP', 'South Pacific Island Airway'), ('SPF', 'Springfield Air Service'), ('SPG', 'Springdale Air'), ('SPH', 'Spirit Helicopter'), ('SPQ', 'Sun Pacific International'), ('SPR', 'Sportsman Flying Service'), ('SQ', 'Singapore Airlines Ltd.'), ('SR', 'Swissair Transport Co. Ltd.'), ('SRA', 'Star Aviation'), ('SRL', 'Sterling Air Service'), ('SS', 'Corsair International'), ('SSA', 'S. S. Airways Inc.'), ('SSP', 'Southern Seaplane'), ('SSQ', 'Superior Airways Limited'), ('SSS', 'Sierra Express Inc.'), ('SST', 'Seaplane Shuttle Transport'), ('ST', 'Belize Airways Limited'), ('STA', 'State Airlines Inc.'), ('STF', 'Trans East International'), ('STG', 'Sedalia Marshall Boonvl Stg'), ('STQ', 'Skycraft Air Transport Inc.'), ('STR', 'Star Aviation Corporation'), ('STW', 'Stateswest Airlines'), ('STZ', 'Air America Inc.'), ('SU', 'Aeroflot Russian Airlines'), ('SUA', 'Sunshine Airlines'), ('SUI', 'Sun International Airways'), ('SUT', 'Sunbelt'), ('SUX', 'Sunair Express LLC'), ('SV', 'Saudi Arabian Airlines Corp'), ('SVL', 'Sun Valley Airlines'), ('SVW', 'Global Jet Luxembourg, Sa'), ('SWA', 'Sunwest Airlines'), ('SWT', 'Swift Aire Lines Inc.'), ('SX', 'Skybus Airlines, Inc.'), ('SX (1)', 'Aeroejecutivo S.A.'), ('SXP', 'Sierra Expressway'), ('SY', 'Sun Country Airlines d/b/a MN Airlines'), ('SYB', 'Skybus Express Airlines'), ('SYM', 'Skymaster'), ('SZQ', 'Aerolineas El Salvador S A'), ('T3', 'Tristar Airlines Inc.'), ('T9', 'TransMeridian Airlines'), ('TA', 'Taca International Airlines'), ('TAC', 'Air Colorado'), ('TAF', 'Tri Air Freight'), ('TAL', 'Tejas Airlines Inc.'), ('TAQ', 'Taquan Air Service'), ('TAS', 'Yosemite Airlines Inc.'), ('TAT', 'Talarik Creek Air Taxi'), ('TB', 'TUI Airlines Belgium N.V. d/b/a Jetairfly'), ('TB (1)', 'USAir Shuttle'), ('TBQ', 'Triair Bermuda Flt Operations'), ('TCA', 'Trans Catalina Airlines'), ('TCE', 'Oceanair Line'), ('TCI', 'Trans California Airlines'), ('TCL', 'Trans-Central Airlines Inc.'), ('TCO', 'Trans-Colorado Airlines'), ('TCQ', 'Express.Net Airlines'), ('TDQ', 'Venexcargo'), ('TDQ (1)', 'Transcarga'), ('TEN', 'Tennessee Airways Inc.'), ('TEQ', 'TAG Aviation (Malta) Ltd.'), ('TER', 'Terre Haute Air Commuter'), ('TFQ', 'Trans International Airlines Inc.'), ('TFZ', 'Tri-State Airlines Inc.'), ('TG', 'Thai Airways International Ltd.'), ('TGO', 'Trans Air Cargo Inc.'), ('TGQ', 'Tranps Aereos Guatemaltecos'), ('TH', 'Transmile Air Service'), ('THA', 'Tropical Helicopter Airways'), ('THO', 'Thorson Aviation'), ('THQ', 'T-Bird Air Inc.'), ('TIA', 'Trans Air Inc.'), ('TIE', 'Trans International Express'), ('TIQ', 'Tyrolean Jet Service'), ('TIS', 'Skyfreight'), ('TJ', 'Jet Charter Service Inc.'), ('TK', 'Turk Hava Yollari A.O.'), ('TKQ', 'Trans-Air-Link Corporation'), ('TLQ', 'Trans-Mediterranean Airways'), ('TMA', 'Trans Mo Airlines'), ('TN', 'Air Tahiti Nui'), ('TNQ', 'Emery Worldwide Airlines'), ('TNS', 'Transtate Aviation'), ('TP', 'Tap-Portuguese Airlines'), ('TPQ', 'Aerial Transit Company'), ('TQQ', 'Taca Peru'), ('TR', 'Scoot Tigerair Pte Ltd d/b/a Scoot'), ('TR (1)', 'Transbrasil S.A.'), ('TRA', 'Aeromexico Travel'), ('TRI', 'Great Plains Airlines Inc.'), ('TRO', 'Air Molakai'), ('TRP', 'Trans Pennsylvania Airlines'), ('TRQ', 'Blue Scandinavia Ab'), ('TRR', 'Territorial Airlines'), ('TS', 'Air Transat'), ('TSF', 'American Central Airlines'), ('TSI', 'Trans Sierra Airlines Inc.'), ('TSQ', 'TPI International Airways'), ('TTM', 'The Time Machine'), ('TUL', 'Tulsair Beechcraft Inc.'), ('TUR', 'Turner Aire'), ('TV', 'Haiti Trans Air'), ('TV (1)', 'Transamerica Airlines Inc.'), ('TVL', 'Travelair'), ('TW', 'Trans World Airways LLC'), ('TWA', 'Trans Western Airlines Utah'), ('TWE', 'Trans World Express'), ('TX', 'Soc.Nouvelle Air Guadeloupe'), ('TX (1)', 'Transportes Aereos Nacional'), ('TXA', 'Texas National Airlines'), ('TXE', 'Trans Air (Hawaii)'), ('TXQ', 'British Caribbean Airways'), ('TXY', 'Texas Airways'), ('TYE', 'Temsco Airlines'), ('TZ', 'ATA Airlines d/b/a ATA'), ('TZQ', 'First Choice Airways'), ('U2', 'UFS Inc.'), ('U5', 'USA 3000 Airlines'), ('U7', 'USA Jet Airlines Inc.'), ('UAI', 'Universal Airways Inc.'), ('UC', 'Ladeco'), ('UD', 'Fast Air Carrier Ltd.'), ('UH', 'US Helicopter Corporation'), ('UMQ', 'Air Manila Inc.'), ('UN', 'Transaero Airlines'), ('UNQ', 'Overseas National Airways'), ('UO', 'Hong Kong Express Airways Limited'), ('UP', 'Bahamasair Holding Limited'), ('UR', 'Empire Airlines Inc. (1)'), ('URQ', 'Aero Uruguay'), ('US', 'US Airways Inc.'), ('USA', 'Air U.S.'), ('UT', 'Union De Transports Aeriens'), ('UTQ', 'Universal Airlines Inc.'), ('UX', 'Air Europa'), ('UX (1)', 'Air Illinois Inc.'), ('UYQ', 'Aerolineas Uruguayas S.A.'), ('V4', 'Vensecar International'), ('V5', 'J.D.Valenciana De Aviation'), ('V6', 'CLAIRMONT HOLDINGS d/b/a VI AIRLINK'), ('V8', 'Iliamna Air Taxi'), ('V9', 'Eagle Airlines'), ('VA', 'Virgin Blue International Airlines t/a V Australia'), ('VA (1)', 'Venezuelan International Airways'), ('VAG', 'Vagabond Aviation Inc.'), ('VAQ', 'Vacationair'), ('VAS', 'Valley Air Services'), ('VB', 'Aeroenlaces Nacionales, S.A. de C.V. d/b/a VivaAerobus'), ('VB (1)', 'Pacific Express'), ('VC', 'Servicios Avensa'), ('VCQ', 'Victory Air Transport Inc.'), ('VE', 'Aerovias Venezolanas-Avensa'), ('VER', 'Britt Airlines Inc.'), ('VEZ', 'Valdez Airlines'), ('VH', 'Fast Colombia SAS d/b/a Viva Colombia'), ('VH (1)', 'Aeropostal Alas De Venezuel'), ('VI', 'Vieques Air Link Inc.'), ('VIG', 'Viking Express'), ('VIN', 'Vale International Airlines'), ('VIQ', 'Volga-Dnepr Airlines'), ('VIQ (1)', 'Viscount Air Service Inc.'), ('VIS', 'Virgin Islands Seaplane'), ('VJT', 'VistaJet Limited'), ('VK', 'Air Tungaru Corporation'), ('VL', 'Mid-South Aviation Inc.'), ('VLA', 'Village Aviation'), ('VLY', 'Valley Airlines'), ('VOQ', 'Avalon Aviation Ltd.'), ('VP', 'Viacao Aerea Sao Paulo'), ('VQ', 'Vintage Props & Jets Inc.'), ('VR', 'Transportes Aereos De Cabo'), ('VS', 'Virgin Atlantic Airways'), ('VSA', 'VistaJet Luftfahrtunternehmen GmbH'), ('VV', 'Aerosvit Ukranian Airlines'), ('VV (1)', 'Challenge Air Transport Inc.'), ('VV (2)', 'Challenge Air International Inc.'), ('VW', 'Transportes Aeromar S.A de C.V'), ('VX', 'Virgin America'), ('VX (1)', 'Aces Airlines'), ('VY', 'Highland Express Airways'), ('W3', 'Arik Air International'), ('W4', 'Mn Aviation, Inc.'), ('W7', 'Western Pacific Airlines'), ('W8', 'Cargojet Airways Ltd.'), ('W9', 'Eastwind Airlines Inc.'), ('WA', 'Worldwide Airlines Services'), ('WA (1)', 'Western Air Lines Inc.'), ('WAC', 'Air East Airlines'), ('WAI', 'Wise Airlines Inc.'), ('WAP', 'Arrow Panama'), ('WAQ', 'Air Charter Systems (Acs)'), ('WAR', 'Waring Air'), ('WAW', 'Westward Airways Inc.'), ('WC', 'Wien Air Alaska Inc.'), ('WCA', \"Walker's International\"), ('WCI', 'Mountainwest Airlines'), ('WD', 'Halisa Air'), ('WDQ', 'Wardair Canada Inc.'), ('WE', 'Centurion Cargo Inc.'), ('WEB', 'Southeast Alaska Airlines'), ('WEQ', 'Aero-Services-Corporate'), ('WES', 'Western Star Airlines Inc.'), ('WET', 'Western Charter Inc.'), ('WFS', 'Wheeler Airlines'), ('WFT', 'Westflight Aviation'), ('WG', 'Sunwing Airlines Inc.'), ('WGL', 'Wrangell Air Service'), ('WGQ', 'Gateway Aviation Limited'), ('WGT', 'Volkswagen AirSevice GmbH dba Volkswagon'), ('WI', 'Sky Lease Cargo'), ('WIA', 'Wisc Air'), ('WIL', \"Will's Air\"), ('WIR', 'Williams Air Inc.'), ('WL', 'Caribbean Sun Airlines, Inc. d/b/a World Atlantic Airlines'), ('WL (1)', 'World Air Network'), ('WLH', 'Welch Aviation'), ('WLQ', 'Worldwide Airlines Inc.'), ('WM', 'Windward Islands Airways'), ('WNG', 'Wings Airways'), ('WNQ', 'Winair Inc.'), ('WO', 'SWOOP Inc.'), ('WO (1)', 'World Airways Inc.'), ('WP', 'Island Air Hawaii'), ('WR', 'WestJet Encore Ltd.'), ('WRA', 'Wra Inc.'), ('WRD', 'Ward Air'), ('WRT', 'Wright Airlines Inc.'), ('WS', 'Westjet'), ('WS (1)', 'Suncoast Airlines Inc.'), ('WSK', 'AAR Western Skyways'), ('WST', 'Friday Harbor Seaplanes'), ('WSU', 'Mission Air'), ('WT', 'Nigeria Airways Ltd.'), ('WTA', 'Westates Airlines'), ('WV', 'Air Greco, Inc., d/b/a Wings Air'), ('WV (1)', 'Air South Inc. (1)'), ('WW', 'WOW Air ehf'), ('WWI', 'Wings West Airlines'), ('WWQ', 'Worldways Canada Ltd.'), ('X4', 'Air Excursions LLC'), ('X7', 'ACE Belgium Freighters S.A.'), ('X9', 'Omni Air International LLC'), ('XAA', 'Aero Union Corp'), ('XAB', 'Air Polynesia d/b/a DHL Cargo'), ('XAC', 'Air Express International Airlines'), ('XAE', 'Amerford Airways Inc.'), ('XAF', 'Astro-Wing Airlines Inc.'), ('XAG', 'Ball Brothers Inc.'), ('XAH', 'Hawaii Pacific Air'), ('XAI', 'Burlington Northern Inc.'), ('XAJ', 'Central American International'), ('XAK', 'Century Airlines Inc.'), ('XAM', 'Cohlmia Aviation'), ('XAO', 'Dallas Flight Center'), ('XAQ', 'Cam Air International Inc.'), ('XAR', 'Jet Way Inc.'), ('XAS', 'Klondike Air Inc.'), ('XAT', 'Michigan Peninsula Airways'), ('XAU', 'Flight Line Inc.'), ('XAY', 'Pat Air'), ('XAZ', 'Purolator Sky Courier Inc.'), ('XBC', 'Jet East Inc.'), ('XBF', 'WTC Airlines'), ('XBH', 'Profit Airlines Inc.'), ('XBI', 'CF Air Freight'), ('XBJ', 'International Air Service'), ('XBM', 'Phh Air Inc.'), ('XBP', 'Circle Airfreight Corp.'), ('XBQ', 'Aeronaves De Puerto Rico'), ('XBR', 'Allstates Air Cargo Inc.'), ('XBT', 'Pacific Alaska Airlines Inc.'), ('XBV', 'Nal Inc.'), ('XBX', 'Icb International Airlines'), ('XBZ', 'Air Natl Aircraft Sal & Ser'), ('XC', 'Air Caribbean (1)'), ('XCA', 'Hawkins And Powers Aviation'), ('XDA', 'Pacific Air Express Inc.'), ('XDC', 'Hemisphere Air Charter'), ('XDD', 'International Parcel Express Inc.'), ('XDE', 'Air Train Inc.'), ('XDF', 'Salair Inc.'), ('XDH', 'Kitty Hawk Air Cargo'), ('XE', 'ExpressJet Airlines Inc.'), ('XF', 'Vladivostok Air'), ('XJ', 'Mesaba Airlines'), ('XK', 'Aerotal'), ('XL', 'Lan Ecuador'), ('XP', 'XTRA Airways'), ('XPA', 'Express Air d/b/a Sunrise'), ('XPQ', 'International Cargo Xpress'), ('XV', 'Presidential Airways Inc.'), ('XY', 'Munz Northern Airlines Inc.'), ('XYZ', 'Airpac Inc.'), ('Y2', 'Globespan Airways Limited d/b/a Flyglobespan'), ('Y4', 'Concesionaria Vuela Compania De Aviacion SA de CV (Volaris)'), ('Y7', 'Flyjet Limited d/b/a Silverjet'), ('Y8', 'Yangtze River Express Airlines Company'), ('YB', 'Trans Continental Airlines'), ('YBQ', 'Yellow Bird Air'), ('YM', 'Royal West Airlines'), ('YR', 'Grand Canyon Airlines, Inc. d/b/a Grand Canyon Airlines d/b/a Scenic Airlines'), ('YX (1)', 'Midwest Airline, Inc.'), ('Z3', 'Bidzy Ta Hot Aana, Inc. d/b/a Tanana Air Service'), ('Z3 (1)', 'Promech'), ('Z3Q', 'PM Air, LLC'), ('ZA', 'Accessair Holdings'), ('ZAQ', 'Zas Airline Of Egypt'), ('ZB', 'Monarch Airlines'), ('ZE', 'Eastar Jet Co Ltd.'), ('ZE (1)', 'Lineas Aereas Azteca'), ('ZFZ', 'Mcphillips Flying Service'), ('ZIA', 'Air New Mexico'), ('ZK', 'Great Lakes Airlines'), ('ZKQ', 'Zantop International'), ('ZL', 'Affretair'), ('ZMZ', 'Winnipesaukee Aviation Inc.'), ('ZN', 'Key Airlines Inc.'), ('ZO', 'Florida Express Inc.'), ('ZP', 'Air St. Thomas'), ('ZS', 'Hispaniola Airways'), ('ZUQ', 'Zuliana De Aviacion'), ('ZV', 'Air Midwest Inc.'), ('ZW', 'Air Wisconsin Airlines Corp'), ('ZX', 'Air Georgian'), ('ZX (1)', 'Airbc Ltd.'), ('ZY', 'Atlantic Gulf Airlines'), ('ZYZ', 'Skyway Aviation Inc.')]\n"
     ]
    }
   ],
   "source": [
    "# Test cell\n",
    "results = get_airlines_with_no_flights('flights.db')\n",
    "print('Your function found {} airlines with no flights'.format(len(results)))\n",
    "print(results)\n"
   ]
  },
  {
   "cell_type": "markdown",
   "metadata": {
    "deletable": false,
    "editable": false,
    "nbgrader": {
     "cell_type": "markdown",
     "checksum": "d2a25b3004d75f912e82b27262c013e6",
     "grade": false,
     "grade_id": "cell-e890b563d8e910c8",
     "locked": true,
     "schema_version": 3,
     "solution": false,
     "task": false
    }
   },
   "source": [
    "### Question 6 [10 pts]\n",
    "Complete the below function `get_n_flights_for_airport_id()` which takes an integer input Airport_ID and returns a tuple containing the airport's Description (as a string) and the count of how many flights landed there (as an integer).  Your function must perform a SQL query to get the answer."
   ]
  },
  {
   "cell_type": "code",
   "execution_count": 191,
   "metadata": {
    "deletable": false,
    "nbgrader": {
     "cell_type": "code",
     "checksum": "8c298d1cd4a1b718a677b008c68bb8a7",
     "grade": false,
     "grade_id": "cell-d91bd082b383e48b",
     "locked": false,
     "schema_version": 3,
     "solution": true,
     "task": false
    }
   },
   "outputs": [],
   "source": [
    "def get_n_flights_for_airport_id(airport_id,db_name='flights.db'):\n",
    "    # YOUR CODE HERE\n",
    "    conn = db.connect('flights.db')\n",
    "    c = conn.cursor()\n",
    "    query = '''\n",
    "            SELECT Flights.DEST_AIRPORT_ID  ,  Airports.Description, COUNT(Flights.DEST_AIRPORT_ID)\n",
    "            FROM Flights Left Join Airports on Flights.DEST_AIRPORT_ID = Airports.Airport_ID\n",
    "            GROUP BY Flights.DEST_AIRPORT_ID\n",
    "            '''\n",
    "    c.execute(query)\n",
    "    results = c.fetchall()\n",
    "    c.close()\n",
    "    conn.close()\n",
    "    dic = dict([( x[0] , (x[1], int(x[2])) ) for x in results])\n",
    "    return dic[airport_id]\n",
    "    raise NotImplementedError()"
   ]
  },
  {
   "cell_type": "code",
   "execution_count": 192,
   "metadata": {
    "deletable": false,
    "editable": false,
    "nbgrader": {
     "cell_type": "code",
     "checksum": "4e00098c60058291819a7046c0f74452",
     "grade": true,
     "grade_id": "cell-48fb97f94601f1fc",
     "locked": true,
     "points": 10,
     "schema_version": 3,
     "solution": false,
     "task": false
    }
   },
   "outputs": [
    {
     "name": "stdout",
     "output_type": "stream",
     "text": [
      "For the airport Baton Rouge, LA: Baton Rouge Metropolitan/Ryan Field there were 635 flights\n"
     ]
    }
   ],
   "source": [
    "# Test cell\n",
    "flight_cnt = get_n_flights_for_airport_id(10781)\n",
    "print(f'For the airport {flight_cnt[0]} there were {flight_cnt[1]} flights')\n"
   ]
  },
  {
   "cell_type": "markdown",
   "metadata": {
    "deletable": false,
    "editable": false,
    "nbgrader": {
     "cell_type": "markdown",
     "checksum": "04e3bdc897bddf3261a391d8257941f0",
     "grade": false,
     "grade_id": "cell-833ef14a755def20",
     "locked": true,
     "schema_version": 3,
     "solution": false,
     "task": false
    }
   },
   "source": [
    "### Question 7 [10 pts]\n",
    "Complete the below function `get_airports_with_max_flights()` which returns a list of tuples containing the Airport_ID (as an integer), Description (as a string) and number of flights (as an integer) for the 10 airports which had the most flights landing there.  Your function must perform a SQL query to get the answer."
   ]
  },
  {
   "cell_type": "code",
   "execution_count": 74,
   "metadata": {
    "deletable": false,
    "nbgrader": {
     "cell_type": "code",
     "checksum": "8925e1cd0012db0a4a63926b749de40f",
     "grade": false,
     "grade_id": "cell-9d1dda3b6b164556",
     "locked": false,
     "schema_version": 3,
     "solution": true,
     "task": false
    }
   },
   "outputs": [],
   "source": [
    "def get_airports_with_max_flights(db_name='flights.db'):\n",
    "    # YOUR CODE HERE\n",
    "    conn = db.connect('flights.db')\n",
    "    c = conn.cursor()\n",
    "    query = '''\n",
    "            SELECT Flights.DEST_AIRPORT_ID  ,  Airports.Description, COUNT(Flights.DEST_AIRPORT_ID)\n",
    "            FROM Flights Left Join Airports on Flights.DEST_AIRPORT_ID = Airports.Airport_ID\n",
    "            GROUP BY Flights.DEST_AIRPORT_ID\n",
    "            '''\n",
    "    c.execute(query)\n",
    "    results = c.fetchall()\n",
    "    c.close()\n",
    "    conn.close()\n",
    "\n",
    "    df = pd.DataFrame(results, columns = ['DEST_AIRPORT_ID', 'Airports.Description', 'COUNT'])\n",
    "\n",
    "    df = df.sort_values(by=['COUNT'], ascending = False )\n",
    "    df[['DEST_AIRPORT_ID', 'COUNT']].astype(int)\n",
    "\n",
    "    records = df.iloc[:10].to_records(index=False)\n",
    "    final = list(records)\n",
    "    return final\n",
    "    \n",
    "    raise NotImplementedError()"
   ]
  },
  {
   "cell_type": "code",
   "execution_count": 75,
   "metadata": {
    "deletable": false,
    "editable": false,
    "nbgrader": {
     "cell_type": "code",
     "checksum": "a56fa35e85a9dac41d8cb01612130563",
     "grade": true,
     "grade_id": "cell-30fff12b534cdbe8",
     "locked": true,
     "points": 10,
     "schema_version": 3,
     "solution": false,
     "task": false
    }
   },
   "outputs": [
    {
     "name": "stdout",
     "output_type": "stream",
     "text": [
      "[(10397, 'Atlanta, GA: Hartsfield-Jackson Atlanta International', 35434), (13930, \"Chicago, IL: Chicago O'Hare International\", 30770), (11298, 'Dallas/Fort Worth, TX: Dallas/Fort Worth International', 27827), (11292, 'Denver, CO: Denver International', 23302), (11057, 'Charlotte, NC: Charlotte Douglas International', 20317), (12892, 'Los Angeles, CA: Los Angeles International', 19818), (14771, 'San Francisco, CA: San Francisco International', 16721), (12953, 'New York, NY: LaGuardia', 15269), (13487, 'Minneapolis, MN: Minneapolis-St Paul International', 15200), (12266, 'Houston, TX: George Bush Intercontinental/Houston', 15200)]\n"
     ]
    }
   ],
   "source": [
    "# Test cell\n",
    "airports = get_airports_with_max_flights('flights.db')\n",
    "print(airports)\n"
   ]
  },
  {
   "cell_type": "markdown",
   "metadata": {
    "deletable": false,
    "editable": false,
    "nbgrader": {
     "cell_type": "markdown",
     "checksum": "4fdd39867bde5bdf8e738ab064cf4568",
     "grade": false,
     "grade_id": "cell-4ec390340c430e59",
     "locked": true,
     "schema_version": 3,
     "solution": false,
     "task": false
    }
   },
   "source": [
    "### Question 8 [10 pts]\n",
    "Complete the function `get_average_delay()` which takes as input a string Airline_ID and returns the total average departure delay (DEP_DELAY_NEW) for the airport as a float.  Your function must perform a SQL query to get the answer."
   ]
  },
  {
   "cell_type": "code",
   "execution_count": 81,
   "metadata": {
    "deletable": false,
    "nbgrader": {
     "cell_type": "code",
     "checksum": "19019fda6f90a649ef669fbc8cc3c3f9",
     "grade": false,
     "grade_id": "cell-a608e3e66dd21058",
     "locked": false,
     "schema_version": 3,
     "solution": true,
     "task": false
    }
   },
   "outputs": [],
   "source": [
    "def get_average_delay(airline_id,db_name='flights.db'):\n",
    "    # YOUR CODE HERE\n",
    "    conn = db.connect('flights.db')\n",
    "    c = conn.cursor()\n",
    "    query = '''\n",
    "            SELECT Flights.Airline_ID  , AVG(Flights.DEP_DELAY_NEW)\n",
    "            FROM Flights Left Join Airlines on Flights.Airline_ID = Airlines.Airline_ID\n",
    "            GROUP BY Airlines.Airline_ID\n",
    "            '''\n",
    "    c.execute(query)\n",
    "    results = c.fetchall()\n",
    "    c.close()\n",
    "    conn.close()\n",
    "    return dict(results)[airline_id]\n",
    "    raise NotImplementedError()"
   ]
  },
  {
   "cell_type": "code",
   "execution_count": 82,
   "metadata": {
    "deletable": false,
    "editable": false,
    "nbgrader": {
     "cell_type": "code",
     "checksum": "4f1893a99c1dcbe4d2a5be42f071e5f4",
     "grade": true,
     "grade_id": "cell-3fd0f197045734d0",
     "locked": true,
     "points": 10,
     "schema_version": 3,
     "solution": false,
     "task": false
    }
   },
   "outputs": [
    {
     "name": "stdout",
     "output_type": "stream",
     "text": [
      "Your function calculated the average delay for airline with id 9E as 15.097\n"
     ]
    }
   ],
   "source": [
    "# Test cell\n",
    "delay = get_average_delay('9E','flights.db')\n",
    "print('Your function calculated the average delay for airline with id 9E as {:.3f}'.format(delay))\n"
   ]
  },
  {
   "cell_type": "markdown",
   "metadata": {
    "deletable": false,
    "editable": false,
    "nbgrader": {
     "cell_type": "markdown",
     "checksum": "a0e9d22f46705603e4e98605701a0f49",
     "grade": false,
     "grade_id": "cell-61be7b1fe6321efd",
     "locked": true,
     "schema_version": 3,
     "solution": false,
     "task": false
    }
   },
   "source": [
    "### Question 9 [10 pts]\n",
    "Complete the below function `get_longest_delay()` which returns a tuple containing the Airline_ID (as a string), the airline's Description (as a string), the weather delay (WEATHER_DELAY) as a float, the origin airport string Description, and the destination airport string Description for the flight with the longest weather delay (in the order specified). Your function must perform a SQL query to get the answer."
   ]
  },
  {
   "cell_type": "code",
   "execution_count": 189,
   "metadata": {
    "deletable": false,
    "nbgrader": {
     "cell_type": "code",
     "checksum": "707a0ed44892681fe35847656259655a",
     "grade": false,
     "grade_id": "cell-07d96e202a4c7063",
     "locked": false,
     "schema_version": 3,
     "solution": true,
     "task": false
    }
   },
   "outputs": [],
   "source": [
    "def get_longest_delay(db_name='flights.db'):\n",
    "    # YOUR CODE HERE\n",
    "    conn = db.connect('flights.db')\n",
    "    c = conn.cursor()\n",
    "    query = '''\n",
    "            SELECT Flights.Airline_ID, air.Description, max(Flights.WEATHER_DELAY), ori.Description, des.Description \n",
    "            FROM Flights Left Join Airlines air on Flights.Airline_ID = air.Airline_ID\n",
    "            Left Join Airports ori on Flights.ORIGIN_AIRPORT_ID = ori.Airport_ID\n",
    "            Left Join Airports des on Flights.DEST_AIRPORT_ID = des.Airport_ID\n",
    "            GROUP BY  Flights.Airline_ID, Flights.ORIGIN_AIRPORT_ID, Flights.DEST_AIRPORT_ID\n",
    "            '''\n",
    "    c.execute(query)\n",
    "    results = c.fetchall()\n",
    "    c.close()\n",
    "    conn.close()\n",
    "\n",
    "    results\n",
    "    df = pd.DataFrame(results, columns = ['airline_id', 'airline_des', 'weather_delay', 'ori_airport', 'des_airport'])\n",
    "    df['weather_delay'] = df['weather_delay'].fillna(0)\n",
    "    df['weather_delay'].astype(float)\n",
    "    df[ ['airline_id', 'airline_des','ori_airport', 'des_airport'] ].astype(str)\n",
    "    df_final = df.iloc[df['weather_delay'].idxmax()]\n",
    "    final = tuple(df_final.to_list()) \n",
    "\n",
    "    return final\n",
    "\n",
    "    raise NotImplementedError()"
   ]
  },
  {
   "cell_type": "code",
   "execution_count": 190,
   "metadata": {
    "deletable": false,
    "editable": false,
    "nbgrader": {
     "cell_type": "code",
     "checksum": "d8e9648cf051a65bf70ae108dc42ced0",
     "grade": true,
     "grade_id": "cell-52613e8661b9fe12",
     "locked": true,
     "points": 10,
     "schema_version": 3,
     "solution": false,
     "task": false
    }
   },
   "outputs": [
    {
     "name": "stdout",
     "output_type": "stream",
     "text": [
      "('OO', 'SkyWest Airlines Inc.', 1440.0, 'Hartford, CT: Bradley International', \"Chicago, IL: Chicago O'Hare International\")\n"
     ]
    }
   ],
   "source": [
    "# Test cell\n",
    "longest_delay = get_longest_delay('flights.db')\n",
    "print(longest_delay)\n"
   ]
  },
  {
   "cell_type": "markdown",
   "metadata": {
    "deletable": false,
    "editable": false,
    "nbgrader": {
     "cell_type": "markdown",
     "checksum": "6c136246da198d23543a5be8d351e550",
     "grade": false,
     "grade_id": "cell-e173b854cb9253d8",
     "locked": true,
     "schema_version": 3,
     "solution": false,
     "task": false
    }
   },
   "source": [
    "### Question 10 [10 pts]\n",
    "Complete the below function `get_n_airports_serviced()` which takes a string Airline_ID as input and returns the number of airports the airline departs from, as an integer.  Your function must perform a SQL query to get the answer."
   ]
  },
  {
   "cell_type": "code",
   "execution_count": 100,
   "metadata": {
    "deletable": false,
    "nbgrader": {
     "cell_type": "code",
     "checksum": "1cc2bd3a14d0aa10fdca8c01c5f87732",
     "grade": false,
     "grade_id": "cell-49170656e2c75c24",
     "locked": false,
     "schema_version": 3,
     "solution": true,
     "task": false
    }
   },
   "outputs": [],
   "source": [
    "def get_n_airports_serviced(airline_id,db_name='flights.db'):\n",
    "    # YOUR CODE HERE\n",
    "    conn = db.connect('flights.db')\n",
    "    c = conn.cursor()\n",
    "    query = '''\n",
    "            SELECT Flights.Airline_ID , Flights.ORIGIN_AIRPORT_ID, Count(Flights.ORIGIN_AIRPORT_ID)\n",
    "            FROM Flights Left Join Airlines on Flights.Airline_ID = Airlines.Airline_ID\n",
    "            GROUP BY Airlines.Airline_ID, Flights.ORIGIN_AIRPORT_ID\n",
    "            '''\n",
    "    c.execute(query)\n",
    "    results = c.fetchall()\n",
    "    c.close()\n",
    "    conn.close()\n",
    "\n",
    "    lis =[x[0] for x in results]\n",
    "    num = lis.count(airline_id)\n",
    "    return num \n",
    "    raise NotImplementedError()"
   ]
  },
  {
   "cell_type": "code",
   "execution_count": 101,
   "metadata": {
    "deletable": false,
    "editable": false,
    "nbgrader": {
     "cell_type": "code",
     "checksum": "a5fe2601909f10a048f3f3f4f6b4109f",
     "grade": true,
     "grade_id": "cell-6d60140427d24569",
     "locked": true,
     "points": 10,
     "schema_version": 3,
     "solution": false,
     "task": false
    }
   },
   "outputs": [
    {
     "name": "stdout",
     "output_type": "stream",
     "text": [
      "Your function found that airline with Airline_ID 9E departs from 101 airports\n"
     ]
    }
   ],
   "source": [
    "# Test cell\n",
    "count = get_n_airports_serviced('9E','flights.db')\n",
    "print(f'Your function found that airline with Airline_ID 9E departs from {count} airports')\n"
   ]
  },
  {
   "cell_type": "code",
   "execution_count": null,
   "metadata": {},
   "outputs": [],
   "source": []
  }
 ],
 "metadata": {
  "kernelspec": {
   "display_name": "Python 3",
   "language": "python",
   "name": "python3"
  },
  "language_info": {
   "codemirror_mode": {
    "name": "ipython",
    "version": 3
   },
   "file_extension": ".py",
   "mimetype": "text/x-python",
   "name": "python",
   "nbconvert_exporter": "python",
   "pygments_lexer": "ipython3",
   "version": "3.8.2"
  }
 },
 "nbformat": 4,
 "nbformat_minor": 5
}
