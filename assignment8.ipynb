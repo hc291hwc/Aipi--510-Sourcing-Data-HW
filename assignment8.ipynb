{
 "cells": [
  {
   "cell_type": "markdown",
   "metadata": {},
   "source": [
    "Before you turn this problem in, make sure everything runs as expected. First, **restart the kernel** (in the menubar, select Kernel$\\rightarrow$Restart) and then **run all cells** (in the menubar, select Cell$\\rightarrow$Run All).\n",
    "\n",
    "Make sure you fill in any place that says `YOUR CODE HERE` or \"YOUR ANSWER HERE\", as well as your name and collaborators below:"
   ]
  },
  {
   "cell_type": "code",
   "execution_count": 1,
   "metadata": {},
   "outputs": [],
   "source": [
    "NAME = \"Hung-Wei Chang\"\n",
    "COLLABORATORS = \"\""
   ]
  },
  {
   "cell_type": "markdown",
   "metadata": {},
   "source": [
    "---"
   ]
  },
  {
   "cell_type": "markdown",
   "metadata": {
    "deletable": false,
    "editable": false,
    "nbgrader": {
     "cell_type": "markdown",
     "checksum": "b54985960c5949af1f3d70f8c6e71787",
     "grade": false,
     "grade_id": "cell-76cc4089fa27207f",
     "locked": true,
     "schema_version": 3,
     "solution": false,
     "task": false
    }
   },
   "source": [
    "<a href='https://ai.meng.duke.edu'> = <img align=\"left\" style=\"padding-top:10px;\" src=https://storage.googleapis.com/aipi_datasets/Duke-AIPI-Logo.png>"
   ]
  },
  {
   "cell_type": "markdown",
   "metadata": {
    "deletable": false,
    "editable": false,
    "nbgrader": {
     "cell_type": "markdown",
     "checksum": "3bd1a77789a5091c27854374d4aceec5",
     "grade": false,
     "grade_id": "cell-2cee72f9ca1c93d6",
     "locked": true,
     "schema_version": 3,
     "solution": false,
     "task": false
    }
   },
   "source": [
    "# Assignment 8"
   ]
  },
  {
   "cell_type": "code",
   "execution_count": 2,
   "metadata": {
    "deletable": false,
    "editable": false,
    "nbgrader": {
     "cell_type": "code",
     "checksum": "ceb6c90f5a070f2f57febe8d957c46f6",
     "grade": false,
     "grade_id": "cell-a73188ded3801cf4",
     "locked": true,
     "schema_version": 3,
     "solution": false,
     "task": false
    }
   },
   "outputs": [],
   "source": [
    "import pandas as pd\n",
    "import numpy as np\n",
    "import matplotlib.pyplot as plt\n",
    "import statsmodels.api as sm\n",
    "from statsmodels.formula.api import ols\n",
    "from scipy.stats import ttest_ind\n",
    "import seaborn as sns\n",
    "\n",
    "import warnings\n",
    "warnings.filterwarnings(\"ignore\")"
   ]
  },
  {
   "cell_type": "markdown",
   "metadata": {
    "deletable": false,
    "editable": false,
    "nbgrader": {
     "cell_type": "markdown",
     "checksum": "d50adaa93a73693cb06dbd74f6264008",
     "grade": false,
     "grade_id": "cell-3e920bcedb3a1a14",
     "locked": true,
     "schema_version": 3,
     "solution": false,
     "task": false
    }
   },
   "source": [
    "## Question 1\n",
    "In this question we will be working with three sets of data related to patients who have been diagnosed with severe tumors.  Some patients have received a new experimental drug and others have not.  Our objective is to analyze the effect that the drug has had on mean survival time of the patients.  \n",
    "\n",
    "We have the following columns in our data (after running the below cell to rename):  \n",
    "- `Patient`: patient id number. \n",
    "- `Received`: whether the patient received the new drug (1) or did not (2). \n",
    "- `Diagnosis`: whether the initial tumor diagnosis was a state 3 (1) or 4 (2). \n",
    "- `Days`: the survival time in days from time of diagnosis"
   ]
  },
  {
   "cell_type": "code",
   "execution_count": 3,
   "metadata": {
    "deletable": false,
    "editable": false,
    "nbgrader": {
     "cell_type": "code",
     "checksum": "9bcd9ace50d4c11de8a6fdbb0910f2ff",
     "grade": false,
     "grade_id": "cell-1bcce25307591905",
     "locked": true,
     "schema_version": 3,
     "solution": false,
     "task": false
    }
   },
   "outputs": [
    {
     "data": {
      "text/html": [
       "<div>\n",
       "<style scoped>\n",
       "    .dataframe tbody tr th:only-of-type {\n",
       "        vertical-align: middle;\n",
       "    }\n",
       "\n",
       "    .dataframe tbody tr th {\n",
       "        vertical-align: top;\n",
       "    }\n",
       "\n",
       "    .dataframe thead th {\n",
       "        text-align: right;\n",
       "    }\n",
       "</style>\n",
       "<table border=\"1\" class=\"dataframe\">\n",
       "  <thead>\n",
       "    <tr style=\"text-align: right;\">\n",
       "      <th></th>\n",
       "      <th>Patient</th>\n",
       "      <th>Received</th>\n",
       "      <th>Diagnosis</th>\n",
       "      <th>Other major illness</th>\n",
       "      <th>Days</th>\n",
       "    </tr>\n",
       "  </thead>\n",
       "  <tbody>\n",
       "    <tr>\n",
       "      <th>0</th>\n",
       "      <td>1</td>\n",
       "      <td>2</td>\n",
       "      <td>1</td>\n",
       "      <td>4.0</td>\n",
       "      <td>NaN</td>\n",
       "    </tr>\n",
       "    <tr>\n",
       "      <th>1</th>\n",
       "      <td>2</td>\n",
       "      <td>1</td>\n",
       "      <td>1</td>\n",
       "      <td>5.0</td>\n",
       "      <td>NaN</td>\n",
       "    </tr>\n",
       "    <tr>\n",
       "      <th>2</th>\n",
       "      <td>3</td>\n",
       "      <td>2</td>\n",
       "      <td>2</td>\n",
       "      <td>5.0</td>\n",
       "      <td>789.0</td>\n",
       "    </tr>\n",
       "    <tr>\n",
       "      <th>3</th>\n",
       "      <td>4</td>\n",
       "      <td>1</td>\n",
       "      <td>2</td>\n",
       "      <td>5.0</td>\n",
       "      <td>700.0</td>\n",
       "    </tr>\n",
       "    <tr>\n",
       "      <th>4</th>\n",
       "      <td>5</td>\n",
       "      <td>2</td>\n",
       "      <td>1</td>\n",
       "      <td>5.0</td>\n",
       "      <td>NaN</td>\n",
       "    </tr>\n",
       "  </tbody>\n",
       "</table>\n",
       "</div>"
      ],
      "text/plain": [
       "   Patient  Received  Diagnosis  Other major illness   Days\n",
       "0        1         2          1                  4.0    NaN\n",
       "1        2         1          1                  5.0    NaN\n",
       "2        3         2          2                  5.0  789.0\n",
       "3        4         1          2                  5.0  700.0\n",
       "4        5         2          1                  5.0    NaN"
      ]
     },
     "execution_count": 3,
     "metadata": {},
     "output_type": "execute_result"
    }
   ],
   "source": [
    "# Read in and format the data\n",
    "data_mar = pd.read_csv('Data_MAR.csv')\n",
    "data_mcar = pd.read_csv('Data_MCAR.csv')\n",
    "data_mnar = pd.read_csv('Data_MNAR.csv')\n",
    "\n",
    "for df in [data_mar,data_mcar,data_mnar]:\n",
    "    df.rename({'Patient ID Number': 'Patient',\n",
    "                          'Received New Medicine Yes  (1)   No (2)':'Received',\n",
    "                          'Initial Tumor Diagnosis State 3-4':'Diagnosis',\n",
    "                         'Survival Time - Days': 'Days'}, axis=1, inplace=True)\n",
    "    \n",
    "data_mar.head()"
   ]
  },
  {
   "cell_type": "markdown",
   "metadata": {
    "deletable": false,
    "editable": false,
    "nbgrader": {
     "cell_type": "markdown",
     "checksum": "791750258ee0a7f574843dcc37eff767",
     "grade": false,
     "grade_id": "cell-1d2af422b131a362",
     "locked": true,
     "schema_version": 3,
     "solution": false,
     "task": false
    }
   },
   "source": [
    "### Q1.1\n",
    "Now, complete the below function `sample_stats_control()` which takes as input a dataframe of patient data and calculates basic statistics for the control group (the patients who did not receive the new drug).  The function should first remove any rows with null values in the `Days` column.  It should then calculate and return the sample size for the control group (number of patients who did not receive the medicine) as an integer and the mean survival time (`Days`) for the control group as a float."
   ]
  },
  {
   "cell_type": "code",
   "execution_count": 4,
   "metadata": {
    "deletable": false,
    "nbgrader": {
     "cell_type": "code",
     "checksum": "4606f79b5b3cea017219ff90e9d9a9cc",
     "grade": false,
     "grade_id": "cell-e321e38ab586ed00",
     "locked": false,
     "schema_version": 3,
     "solution": true,
     "task": false
    }
   },
   "outputs": [],
   "source": [
    "def sample_stats_control(df):\n",
    "    # YOUR CODE HERE\n",
    "    df_test = df.copy()\n",
    "    df_final = df_test.loc[ (df_test['Received'] == 2 ) & (  ~df_test['Days'].isnull() )]\n",
    "    samp_size = int(len(df_final.index))\n",
    "    mean_surv = float(df_final['Days'].mean())\n",
    "    return samp_size, mean_surv\n",
    "    raise NotImplementedError()"
   ]
  },
  {
   "cell_type": "code",
   "execution_count": 5,
   "metadata": {
    "deletable": false,
    "editable": false,
    "nbgrader": {
     "cell_type": "code",
     "checksum": "580a587b8e05d48945dca83da39932bb",
     "grade": true,
     "grade_id": "cell-243d12f7298bc8b5",
     "locked": true,
     "points": 16,
     "schema_version": 3,
     "solution": false,
     "task": false
    }
   },
   "outputs": [
    {
     "name": "stdout",
     "output_type": "stream",
     "text": [
      "For the control group in dataset data_mar your function calculated the following:\n",
      "Sample size: 91\n",
      "Sample mean: 507.65\n",
      "For the control group in dataset data_mcar your function calculated the following:\n",
      "Sample size: 72\n",
      "Sample mean: 556.56\n",
      "For the control group in dataset data_mnar your function calculated the following:\n",
      "Sample size: 90\n",
      "Sample mean: 503.71\n"
     ]
    }
   ],
   "source": [
    "# Test cell for sample_stats_control()\n",
    "for df in [data_mar,data_mcar,data_mnar]:\n",
    "    size,mean_days = sample_stats_control(df)\n",
    "    print('For the control group in dataset {} your function calculated the following:'.\n",
    "          format([x for x in globals() if globals()[x] is df][0]))\n",
    "    print('Sample size: {}'.format(size))\n",
    "    print('Sample mean: {:.2f}'.format(mean_days))\n",
    "    "
   ]
  },
  {
   "cell_type": "markdown",
   "metadata": {
    "deletable": false,
    "editable": false,
    "nbgrader": {
     "cell_type": "markdown",
     "checksum": "68c160fc9619fbb1ffe9f8bb9c7491fd",
     "grade": false,
     "grade_id": "cell-ab8a5742c8028839",
     "locked": true,
     "schema_version": 3,
     "solution": false,
     "task": false
    }
   },
   "source": [
    "### Q1.2\n",
    "Now, complete the below function `sample_stats_treatment()` which takes as input a dataframe of patient data and calculates basic statistics for the group of patients who did receive the new drug.  The function should first remove any rows with null values in the `Days` column.  It should then calculate and return the sample size for the group of patients who received the drug as an integer, and the mean survival time (`Days`) for this group as a float."
   ]
  },
  {
   "cell_type": "code",
   "execution_count": 6,
   "metadata": {
    "deletable": false,
    "nbgrader": {
     "cell_type": "code",
     "checksum": "bd2bd7b05044b6641505580897bb08ab",
     "grade": false,
     "grade_id": "cell-af55d18cd887907a",
     "locked": false,
     "schema_version": 3,
     "solution": true,
     "task": false
    }
   },
   "outputs": [],
   "source": [
    "def sample_stats_treatment(df):\n",
    "    # YOUR CODE HERE\n",
    "    df_test = df.copy()\n",
    "    df_final = df_test.loc[ (df_test['Received'] == 1 ) & (  ~df_test['Days'].isnull() )]\n",
    "    samp_size = int(len(df_final.index))\n",
    "    mean_surv = float(df_final['Days'].mean())\n",
    "    return samp_size, mean_surv\n",
    "\n",
    "    raise NotImplementedError()"
   ]
  },
  {
   "cell_type": "code",
   "execution_count": 7,
   "metadata": {
    "deletable": false,
    "editable": false,
    "nbgrader": {
     "cell_type": "code",
     "checksum": "20be1035437b598d27d80f92c4c66eae",
     "grade": true,
     "grade_id": "cell-7ade43d5be18a592",
     "locked": true,
     "points": 16,
     "schema_version": 3,
     "solution": false,
     "task": false
    }
   },
   "outputs": [
    {
     "name": "stdout",
     "output_type": "stream",
     "text": [
      "For the treatment group in dataset data_mar your function calculated the following:\n",
      "Sample size: 89\n",
      "Sample mean: 592.53\n",
      "For the treatment group in dataset data_mcar your function calculated the following:\n",
      "Sample size: 63\n",
      "Sample mean: 665.87\n",
      "For the treatment group in dataset data_mnar your function calculated the following:\n",
      "Sample size: 100\n",
      "Sample mean: 648.48\n"
     ]
    }
   ],
   "source": [
    "# Test cell for sample_stats_treatment()\n",
    "for df in [data_mar,data_mcar,data_mnar]:\n",
    "    size,mean_days = sample_stats_treatment(df)\n",
    "    print('For the treatment group in dataset {} your function calculated the following:'.\n",
    "          format([x for x in globals() if globals()[x] is df][0]))\n",
    "    print('Sample size: {}'.format(size))\n",
    "    print('Sample mean: {:.2f}'.format(mean_days))\n",
    "    "
   ]
  },
  {
   "cell_type": "markdown",
   "metadata": {
    "deletable": false,
    "editable": false,
    "nbgrader": {
     "cell_type": "markdown",
     "checksum": "b4d57c5ed3bb915fc90a6158d40712f6",
     "grade": false,
     "grade_id": "cell-dff27aaf61e89610",
     "locked": true,
     "schema_version": 3,
     "solution": false,
     "task": false
    }
   },
   "source": [
    "### Q1.3\n",
    "Let's now calculate the p-value of the new medicine against the control group for each dataset.  Complete the below function `calc_pval()` which takes a dataframe of patient data as input and determines if there is a statistically significant difference in mean survival time (`Days`) of the patients receiving the medicine versus those that do not receive it, using a two-sided Student's t-test, at an alpha=0.05.  Be sure to first remove any rows with null values for `Days`.  Your function should return the p-value of the t-test as a float."
   ]
  },
  {
   "cell_type": "code",
   "execution_count": 8,
   "metadata": {
    "deletable": false,
    "nbgrader": {
     "cell_type": "code",
     "checksum": "00de7615c3eda1eba64f9542254b37be",
     "grade": false,
     "grade_id": "cell-df4ea3bc0c109c29",
     "locked": false,
     "schema_version": 3,
     "solution": true,
     "task": false
    }
   },
   "outputs": [],
   "source": [
    "def calc_pval(df):\n",
    "    # YOUR CODE HERE\n",
    "    df_test = df.copy()\n",
    "    col_1 = df_test.loc[ (df_test['Received'] == 2 ) & (  ~df_test['Days'].isnull() )]['Days']\n",
    "    col_2 = df_test.loc[ (df_test['Received'] == 1 ) & (  ~df_test['Days'].isnull() )]['Days']\n",
    "    results = ttest_ind(col_1, col_2)\n",
    "    return float(results.pvalue)\n",
    "    \n",
    "    raise NotImplementedError()"
   ]
  },
  {
   "cell_type": "code",
   "execution_count": 9,
   "metadata": {
    "deletable": false,
    "editable": false,
    "nbgrader": {
     "cell_type": "code",
     "checksum": "b14be14aac1bab945b86cd080288e1b9",
     "grade": true,
     "grade_id": "cell-bb22cbc85ddecbb4",
     "locked": true,
     "points": 20,
     "schema_version": 3,
     "solution": false,
     "task": false
    }
   },
   "outputs": [
    {
     "name": "stdout",
     "output_type": "stream",
     "text": [
      "For the dataset data_mar your function calculated the p-value as 0.0142\n",
      "For the dataset data_mcar your function calculated the p-value as 0.0205\n",
      "For the dataset data_mnar your function calculated the p-value as 0.0001\n"
     ]
    }
   ],
   "source": [
    "# Test cell for calc_pval()\n",
    "for df in [data_mar,data_mcar,data_mnar]:\n",
    "    p_value = calc_pval(df)\n",
    "    print('For the dataset {} your function calculated the p-value as {:.4f}'.\n",
    "          format([x for x in globals() if globals()[x] is df][0],p_value))\n",
    "    "
   ]
  },
  {
   "cell_type": "markdown",
   "metadata": {
    "deletable": false,
    "editable": false,
    "nbgrader": {
     "cell_type": "markdown",
     "checksum": "f358f71d1225982947c3f26e472b8cc6",
     "grade": false,
     "grade_id": "cell-3ea3c4620526169e",
     "locked": true,
     "schema_version": 3,
     "solution": false,
     "task": false
    }
   },
   "source": [
    "## Question 2\n",
    "Each of the three data sets A, B, C are drawn from one of the three continuous distributions discussed in class: gaussian, exponential and continuous distributions.  Our objective in this question is to identify the underlying distribution behind each of these datasets and the maximum likelihood parameters(s) for each.\n"
   ]
  },
  {
   "cell_type": "code",
   "execution_count": 10,
   "metadata": {
    "deletable": false,
    "editable": false,
    "nbgrader": {
     "cell_type": "code",
     "checksum": "f89d3df5f5862a5c0d23b1feb27f224c",
     "grade": false,
     "grade_id": "cell-bfc11405d75a0cff",
     "locked": true,
     "schema_version": 3,
     "solution": false,
     "task": false
    }
   },
   "outputs": [],
   "source": [
    "# Read in data and separate it into the 3 datasets\n",
    "data = pd.read_csv('data_kde.csv')\n",
    "data_A = data['Data Set A']\n",
    "data_B = data['Data Set B']\n",
    "data_C = data['Data Set C']"
   ]
  },
  {
   "cell_type": "markdown",
   "metadata": {
    "deletable": false,
    "editable": false,
    "nbgrader": {
     "cell_type": "markdown",
     "checksum": "258c407d788b2736c6ff982653e21ec4",
     "grade": false,
     "grade_id": "cell-c1262a208f35bc20",
     "locked": true,
     "schema_version": 3,
     "solution": false,
     "task": false
    }
   },
   "source": [
    "### Q2.1\n",
    "Complete the below function `analyze_A()` which takes as input the `data_A` dataset.  Your function should visualize the data using a histogram and/or kde plot to evaluate the distribution.  Your function should then return the following:  \n",
    "- The name of the distribution as a string (choose from 'gaussian','exponential' or 'continuous'. \n",
    "- A **list** containing the key parameter or parameters required to fully describe the distribution"
   ]
  },
  {
   "cell_type": "code",
   "execution_count": 11,
   "metadata": {
    "deletable": false,
    "nbgrader": {
     "cell_type": "code",
     "checksum": "67920def0ed8956b2882c0825a097ac3",
     "grade": false,
     "grade_id": "cell-b9342fe3183b934f",
     "locked": false,
     "schema_version": 3,
     "solution": true,
     "task": false
    }
   },
   "outputs": [],
   "source": [
    "def analyze_A(df):\n",
    "    # YOUR CODE HERE\n",
    "    param_list = [ float ( 1 / df.mean() ) ] \n",
    "    return 'exponential', param_list\n",
    "    raise NotImplementedError()"
   ]
  },
  {
   "cell_type": "code",
   "execution_count": 12,
   "metadata": {},
   "outputs": [],
   "source": [
    "# df = data_C\n",
    "# # View histogram of each feature amygdala and acc\n",
    "# fig,ax = plt.subplots(2,2,figsize=(15,10))\n",
    "# ax[0,0].hist(df, bins=5)\n",
    "# ax[0,0].set_title('amygdala, bins=5')\n",
    "# ax[0,1].hist(df,bins=5)\n",
    "# ax[0,1].set_title('acc, bins=5')\n",
    "# ax[1,0].hist(df,bins=20)\n",
    "# ax[1,0].set_title('amygdala, bins=20')\n",
    "# ax[1,1].hist(df,bins=20)\n",
    "# ax[1,1].set_title('acc, bins=20')\n",
    "# plt.show()"
   ]
  },
  {
   "cell_type": "code",
   "execution_count": 13,
   "metadata": {},
   "outputs": [],
   "source": [
    "# # View KDE plot of amygdala and acc\n",
    "# df = [data_A, data_B, data_C]\n",
    "# for i in df:\n",
    "#     sns.kdeplot(i)\n",
    "#     plt.show()"
   ]
  },
  {
   "cell_type": "code",
   "execution_count": 14,
   "metadata": {
    "deletable": false,
    "editable": false,
    "nbgrader": {
     "cell_type": "code",
     "checksum": "123c41b23d827fc43ca1e7ea47f2adec",
     "grade": true,
     "grade_id": "cell-63fb29cc9496d2c7",
     "locked": true,
     "points": 16,
     "schema_version": 3,
     "solution": false,
     "task": false
    }
   },
   "outputs": [
    {
     "name": "stdout",
     "output_type": "stream",
     "text": [
      "Your function identified the distribution as: exponential\n",
      "Your function identified the parameter(s) as: [0.09]\n"
     ]
    }
   ],
   "source": [
    "# Test cell for analyze_A\n",
    "dist,params = analyze_A(data_A)\n",
    "print('Your function identified the distribution as: {}'.format(dist))\n",
    "print('Your function identified the parameter(s) as: {}'.format([np.round(i,2) for i in params]))\n",
    "assert len(params)==1\n",
    "assert type(dist) == str\n"
   ]
  },
  {
   "cell_type": "markdown",
   "metadata": {
    "deletable": false,
    "editable": false,
    "nbgrader": {
     "cell_type": "markdown",
     "checksum": "67ff2c80c0527ac24e7ea56b853cc493",
     "grade": false,
     "grade_id": "cell-e2cb4db885fe9dfc",
     "locked": true,
     "schema_version": 3,
     "solution": false,
     "task": false
    }
   },
   "source": [
    "### Q2.2\n",
    "Complete the below function `analyze_B()` which takes as input the `data_B` dataset.  Your function should visualize the data using a histogram and/or kde plot to evaluate the distribution.  Your function should then return the following:  \n",
    "- The name of the distribution as a string (choose from 'gaussian','exponential' or 'continuous'. \n",
    "- A **list** containing the key parameter or parameters required to fully describe the distribution (in any order)"
   ]
  },
  {
   "cell_type": "code",
   "execution_count": 15,
   "metadata": {
    "deletable": false,
    "nbgrader": {
     "cell_type": "code",
     "checksum": "b1b1bd12aa42ec3ab3b04a4c9618f3d9",
     "grade": false,
     "grade_id": "cell-c4ab99ea3925f1ef",
     "locked": false,
     "schema_version": 3,
     "solution": true,
     "task": false
    }
   },
   "outputs": [],
   "source": [
    "def analyze_B(df):\n",
    "    # YOUR CODE HERE\n",
    "    mean = df.mean()\n",
    "    stddev = df.std()\n",
    "    param_list = [mean, stddev]\n",
    "    return 'gaussian', param_list\n",
    "    \n",
    "    raise NotImplementedError()"
   ]
  },
  {
   "cell_type": "code",
   "execution_count": 16,
   "metadata": {
    "deletable": false,
    "editable": false,
    "nbgrader": {
     "cell_type": "code",
     "checksum": "b1ef840bfa52365fdd0960a5a3d19979",
     "grade": true,
     "grade_id": "cell-2bc084275bcc4553",
     "locked": true,
     "points": 16,
     "schema_version": 3,
     "solution": false,
     "task": false
    }
   },
   "outputs": [
    {
     "name": "stdout",
     "output_type": "stream",
     "text": [
      "Your function identified the distribution as: gaussian\n",
      "Your function identified the parameter(s) as: [14.08, 3.67]\n"
     ]
    }
   ],
   "source": [
    "# Test cell for analyze_B\n",
    "dist,params = analyze_B(data_B)\n",
    "print('Your function identified the distribution as: {}'.format(dist))\n",
    "print('Your function identified the parameter(s) as: {}'.format([np.round(i,2) for i in params]))\n",
    "assert len(params)==2\n",
    "assert type(dist) == str\n"
   ]
  },
  {
   "cell_type": "markdown",
   "metadata": {
    "deletable": false,
    "editable": false,
    "nbgrader": {
     "cell_type": "markdown",
     "checksum": "149f604449f1f6bd7ce681430f6508a9",
     "grade": false,
     "grade_id": "cell-cff3e5ae30734b58",
     "locked": true,
     "schema_version": 3,
     "solution": false,
     "task": false
    }
   },
   "source": [
    "### Q2.3\n",
    "Complete the below function `analyze_C()` which takes as input the `data_C` dataset.  Your function should visualize the data using a histogram and/or kde plot to evaluate the distribution.  Your function should then return the following:  \n",
    "- The name of the distribution as a string (choose from 'gaussian','exponential' or 'continuous'. \n",
    "- A **list** containing the key parameter or parameters required to fully describe the distribution (in any order)"
   ]
  },
  {
   "cell_type": "code",
   "execution_count": 17,
   "metadata": {
    "deletable": false,
    "nbgrader": {
     "cell_type": "code",
     "checksum": "1ab0898113cf62b0f5cecb53a2982f3f",
     "grade": false,
     "grade_id": "cell-78a1af671fcb478e",
     "locked": false,
     "schema_version": 3,
     "solution": true,
     "task": false
    }
   },
   "outputs": [],
   "source": [
    "def analyze_C(df):\n",
    "    # YOUR CODE HERE\n",
    "    params_list = [df.min(), df.max()  ]\n",
    "    return 'continuous', params_list\n",
    "\n",
    "    raise NotImplementedError()"
   ]
  },
  {
   "cell_type": "code",
   "execution_count": 18,
   "metadata": {
    "deletable": false,
    "editable": false,
    "nbgrader": {
     "cell_type": "code",
     "checksum": "bcfc1f2acc9917ce398f76140babd358",
     "grade": true,
     "grade_id": "cell-a1ec8b1bc371987c",
     "locked": true,
     "points": 16,
     "schema_version": 3,
     "solution": false,
     "task": false
    }
   },
   "outputs": [
    {
     "name": "stdout",
     "output_type": "stream",
     "text": [
      "Your function identified the distribution as: continuous\n",
      "Your function identified the parameter(s) as: [-48.84, 49.25]\n"
     ]
    }
   ],
   "source": [
    "# Test cell for analyze_C\n",
    "dist,params = analyze_C(data_C)\n",
    "print('Your function identified the distribution as: {}'.format(dist))\n",
    "print('Your function identified the parameter(s) as: {}'.format([np.round(i,2) for i in params]))\n",
    "assert len(params)==2\n",
    "assert type(dist) == str\n"
   ]
  },
  {
   "cell_type": "code",
   "execution_count": null,
   "metadata": {},
   "outputs": [],
   "source": []
  }
 ],
 "metadata": {
  "kernelspec": {
   "display_name": "Python 3",
   "language": "python",
   "name": "python3"
  },
  "language_info": {
   "codemirror_mode": {
    "name": "ipython",
    "version": 3
   },
   "file_extension": ".py",
   "mimetype": "text/x-python",
   "name": "python",
   "nbconvert_exporter": "python",
   "pygments_lexer": "ipython3",
   "version": "3.8.2"
  }
 },
 "nbformat": 4,
 "nbformat_minor": 5
}
