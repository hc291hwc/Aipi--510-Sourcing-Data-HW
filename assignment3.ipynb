{
 "cells": [
  {
   "cell_type": "markdown",
   "metadata": {},
   "source": [
    "Before you turn this problem in, make sure everything runs as expected. First, **restart the kernel** (in the menubar, select Kernel$\\rightarrow$Restart) and then **run all cells** (in the menubar, select Cell$\\rightarrow$Run All).\n",
    "\n",
    "Make sure you fill in any place that says `YOUR CODE HERE` or \"YOUR ANSWER HERE\", as well as your name and collaborators below:"
   ]
  },
  {
   "cell_type": "code",
   "execution_count": 1,
   "metadata": {},
   "outputs": [],
   "source": [
    "NAME = \"Hung-Wei Chang\"\n",
    "COLLABORATORS = \"\""
   ]
  },
  {
   "cell_type": "markdown",
   "metadata": {},
   "source": [
    "---"
   ]
  },
  {
   "cell_type": "markdown",
   "metadata": {
    "deletable": false,
    "editable": false,
    "nbgrader": {
     "cell_type": "markdown",
     "checksum": "e8e8349f966538e017e0afd688d2c81d",
     "grade": false,
     "grade_id": "cell-04f7ce70d118e4aa",
     "locked": true,
     "schema_version": 3,
     "solution": false,
     "task": false
    }
   },
   "source": [
    "<a href='https://ai.meng.duke.edu'> = <img align=\"left\" style=\"padding-top:10px;\" src=https://storage.googleapis.com/aipi_datasets/Duke-AIPI-Logo.png>"
   ]
  },
  {
   "cell_type": "code",
   "execution_count": 2,
   "metadata": {
    "deletable": false,
    "editable": false,
    "nbgrader": {
     "cell_type": "code",
     "checksum": "04440ab478fd45c201c9349b867cc5db",
     "grade": false,
     "grade_id": "cell-2681187ef890f31b",
     "locked": true,
     "schema_version": 3,
     "solution": false,
     "task": false
    }
   },
   "outputs": [],
   "source": [
    "import pandas as pd\n",
    "import numpy as np\n",
    "import matplotlib.pyplot as plt\n",
    "\n",
    "import warnings\n",
    "warnings.filterwarnings(\"ignore\")"
   ]
  },
  {
   "cell_type": "markdown",
   "metadata": {
    "deletable": false,
    "editable": false,
    "nbgrader": {
     "cell_type": "markdown",
     "checksum": "b9a24a1281c4e6b5a97f9d4617f2ca7b",
     "grade": false,
     "grade_id": "cell-c18fd3b9ab7ee94c",
     "locked": true,
     "schema_version": 3,
     "solution": false,
     "task": false
    }
   },
   "source": [
    "# Assignment 4\n",
    "We are going to do some analysis on flight delays using a data source from the US Bureau of Transportation Statistics (https://www.transtats.bts.gov/DL_SelectFields.asp?Table_ID=236), which provides historical data for every commercial flight in the U.S. since 1987.  In this exercise we will work  small subset of this data for all flights in the U.S. during the month of August 2019.  \n",
    "\n",
    "Let's suppose we would like to build a model to be able to predict expected delay on a flight at any given point in the future.  We might consider using factors such as the following in our predictive model:  \n",
    "- Origin airport (certain airports may have more delays on average) \n",
    "- Airline (certain airlines might have higher delays) \n",
    "- Time of day, day of week  \n",
    "- Season of year and/or month\n",
    "- Forecasted weather conditions  \n",
    "- Etc.\n",
    "\n",
    "Think for a moment about whether you would expect each of the above factors to influence expected delay, and if so, why?  \n",
    "\n",
    "In this exercise we will explore a couple of those factors to see if they influence the amount of delay we would expect, given the historical data we have available.\n",
    "\n",
    "Before you go any further please run the following code cell to download the data you need to your laptop.  After doing so, please ensure that you are able to locate the csv files in the same folder as this notebook."
   ]
  },
  {
   "cell_type": "code",
   "execution_count": 3,
   "metadata": {
    "deletable": false,
    "editable": false,
    "nbgrader": {
     "cell_type": "code",
     "checksum": "eb7605cb0e8596c85cde3fbbf9f79304",
     "grade": false,
     "grade_id": "cell-342feea8fce21ab6",
     "locked": true,
     "schema_version": 3,
     "solution": false,
     "task": false
    }
   },
   "outputs": [],
   "source": [
    "# Run this before any other code cell\n",
    "# This downloads the csv data files into the same directory where you have saved this notebook\n",
    "\n",
    "import urllib.request\n",
    "from pathlib import Path\n",
    "import os\n",
    "path = Path()\n",
    "\n",
    "# Dictionary of file names and download links\n",
    "files = {'Aug2019_flights.csv':'https://storage.googleapis.com/aipi_datasets/Aug2019_flights.csv',\n",
    "        'Airport_codes.csv': 'https://storage.googleapis.com/aipi_datasets/Airport_codes.csv',\n",
    "        'Airline_codes.csv': 'https://storage.googleapis.com/aipi_datasets/Airline_codes.csv'}\n",
    "\n",
    "# Download each file\n",
    "for key,value in files.items():\n",
    "    filename = path/key\n",
    "    url = value\n",
    "    # If the file does not already exist in the directory, download it\n",
    "    if not os.path.exists(filename):\n",
    "        urllib.request.urlretrieve(url,filename)"
   ]
  },
  {
   "cell_type": "markdown",
   "metadata": {
    "deletable": false,
    "editable": false,
    "nbgrader": {
     "cell_type": "markdown",
     "checksum": "1f326f141d596fc21c9ce080a9a42c78",
     "grade": false,
     "grade_id": "cell-1bed640f523f0b55",
     "locked": true,
     "schema_version": 3,
     "solution": false,
     "task": false
    }
   },
   "source": [
    "### Question 0 [10 pts]\n",
    "Before we dive into any analysis, let's load our data, see how much we have, and take a look at the structure.  We have our main data file 'Aug2019_flights.csv' and we also have a separate mapper file 'Airport_codes.csv' which we will later use to map numerical airport codes to the airport names.  \n",
    "\n",
    "Complete the below function `load_data()` which loads the two files, converts them both to dataframes, and then returns the two dataframes."
   ]
  },
  {
   "cell_type": "code",
   "execution_count": 4,
   "metadata": {
    "deletable": false,
    "nbgrader": {
     "cell_type": "code",
     "checksum": "8c060b0a69c3a14e552210ba04976d97",
     "grade": false,
     "grade_id": "cell-9074aa5fca88ecf1",
     "locked": false,
     "schema_version": 3,
     "solution": true,
     "task": false
    }
   },
   "outputs": [],
   "source": [
    "def load_data(data_filename, mapper_filename):\n",
    "    # YOUR CODE HERE\n",
    "    df_filename = pd.read_csv(data_filename)\n",
    "    df_mapper = pd.read_csv(mapper_filename)\n",
    "    \n",
    "    return (df_filename, df_mapper)\n",
    "    raise NotImplementedError()"
   ]
  },
  {
   "cell_type": "code",
   "execution_count": 5,
   "metadata": {
    "deletable": false,
    "editable": false,
    "nbgrader": {
     "cell_type": "code",
     "checksum": "05fad799c37ffa2e9e4f8d084a009538",
     "grade": true,
     "grade_id": "cell-303cdf9749781155",
     "locked": true,
     "points": 10,
     "schema_version": 3,
     "solution": false,
     "task": false
    }
   },
   "outputs": [
    {
     "name": "stdout",
     "output_type": "stream",
     "text": [
      "During the month of August 2019 there were 658461 flights\n"
     ]
    },
    {
     "data": {
      "text/html": [
       "<div>\n",
       "<style scoped>\n",
       "    .dataframe tbody tr th:only-of-type {\n",
       "        vertical-align: middle;\n",
       "    }\n",
       "\n",
       "    .dataframe tbody tr th {\n",
       "        vertical-align: top;\n",
       "    }\n",
       "\n",
       "    .dataframe thead th {\n",
       "        text-align: right;\n",
       "    }\n",
       "</style>\n",
       "<table border=\"1\" class=\"dataframe\">\n",
       "  <thead>\n",
       "    <tr style=\"text-align: right;\">\n",
       "      <th></th>\n",
       "      <th>DAY_OF_WEEK</th>\n",
       "      <th>FL_DATE</th>\n",
       "      <th>OP_UNIQUE_CARRIER</th>\n",
       "      <th>OP_CARRIER_FL_NUM</th>\n",
       "      <th>ORIGIN_AIRPORT_ID</th>\n",
       "      <th>DEST_AIRPORT_ID</th>\n",
       "      <th>CRS_DEP_TIME</th>\n",
       "      <th>DEP_DELAY_NEW</th>\n",
       "      <th>CANCELLED</th>\n",
       "      <th>WEATHER_DELAY</th>\n",
       "    </tr>\n",
       "  </thead>\n",
       "  <tbody>\n",
       "    <tr>\n",
       "      <th>0</th>\n",
       "      <td>1</td>\n",
       "      <td>8/12/19</td>\n",
       "      <td>9E</td>\n",
       "      <td>5001</td>\n",
       "      <td>10397</td>\n",
       "      <td>10781</td>\n",
       "      <td>1050</td>\n",
       "      <td>0.0</td>\n",
       "      <td>0</td>\n",
       "      <td>NaN</td>\n",
       "    </tr>\n",
       "    <tr>\n",
       "      <th>1</th>\n",
       "      <td>1</td>\n",
       "      <td>8/19/19</td>\n",
       "      <td>9E</td>\n",
       "      <td>5001</td>\n",
       "      <td>10397</td>\n",
       "      <td>10781</td>\n",
       "      <td>1050</td>\n",
       "      <td>0.0</td>\n",
       "      <td>0</td>\n",
       "      <td>NaN</td>\n",
       "    </tr>\n",
       "    <tr>\n",
       "      <th>2</th>\n",
       "      <td>1</td>\n",
       "      <td>8/26/19</td>\n",
       "      <td>9E</td>\n",
       "      <td>5001</td>\n",
       "      <td>10397</td>\n",
       "      <td>10781</td>\n",
       "      <td>1050</td>\n",
       "      <td>0.0</td>\n",
       "      <td>0</td>\n",
       "      <td>NaN</td>\n",
       "    </tr>\n",
       "    <tr>\n",
       "      <th>3</th>\n",
       "      <td>1</td>\n",
       "      <td>8/5/19</td>\n",
       "      <td>9E</td>\n",
       "      <td>5001</td>\n",
       "      <td>10781</td>\n",
       "      <td>10397</td>\n",
       "      <td>1159</td>\n",
       "      <td>74.0</td>\n",
       "      <td>0</td>\n",
       "      <td>0.0</td>\n",
       "    </tr>\n",
       "    <tr>\n",
       "      <th>4</th>\n",
       "      <td>1</td>\n",
       "      <td>8/12/19</td>\n",
       "      <td>9E</td>\n",
       "      <td>5001</td>\n",
       "      <td>10781</td>\n",
       "      <td>10397</td>\n",
       "      <td>1159</td>\n",
       "      <td>0.0</td>\n",
       "      <td>0</td>\n",
       "      <td>NaN</td>\n",
       "    </tr>\n",
       "  </tbody>\n",
       "</table>\n",
       "</div>"
      ],
      "text/plain": [
       "   DAY_OF_WEEK  FL_DATE OP_UNIQUE_CARRIER  OP_CARRIER_FL_NUM  \\\n",
       "0            1  8/12/19                9E               5001   \n",
       "1            1  8/19/19                9E               5001   \n",
       "2            1  8/26/19                9E               5001   \n",
       "3            1   8/5/19                9E               5001   \n",
       "4            1  8/12/19                9E               5001   \n",
       "\n",
       "   ORIGIN_AIRPORT_ID  DEST_AIRPORT_ID  CRS_DEP_TIME  DEP_DELAY_NEW  CANCELLED  \\\n",
       "0              10397            10781          1050            0.0          0   \n",
       "1              10397            10781          1050            0.0          0   \n",
       "2              10397            10781          1050            0.0          0   \n",
       "3              10781            10397          1159           74.0          0   \n",
       "4              10781            10397          1159            0.0          0   \n",
       "\n",
       "   WEATHER_DELAY  \n",
       "0            NaN  \n",
       "1            NaN  \n",
       "2            NaN  \n",
       "3            0.0  \n",
       "4            NaN  "
      ]
     },
     "metadata": {},
     "output_type": "display_data"
    },
    {
     "name": "stdout",
     "output_type": "stream",
     "text": [
      "Mapper file:\n"
     ]
    },
    {
     "data": {
      "text/html": [
       "<div>\n",
       "<style scoped>\n",
       "    .dataframe tbody tr th:only-of-type {\n",
       "        vertical-align: middle;\n",
       "    }\n",
       "\n",
       "    .dataframe tbody tr th {\n",
       "        vertical-align: top;\n",
       "    }\n",
       "\n",
       "    .dataframe thead th {\n",
       "        text-align: right;\n",
       "    }\n",
       "</style>\n",
       "<table border=\"1\" class=\"dataframe\">\n",
       "  <thead>\n",
       "    <tr style=\"text-align: right;\">\n",
       "      <th></th>\n",
       "      <th>Code</th>\n",
       "      <th>Description</th>\n",
       "    </tr>\n",
       "  </thead>\n",
       "  <tbody>\n",
       "    <tr>\n",
       "      <th>0</th>\n",
       "      <td>10001</td>\n",
       "      <td>Afognak Lake, AK: Afognak Lake Airport</td>\n",
       "    </tr>\n",
       "    <tr>\n",
       "      <th>1</th>\n",
       "      <td>10003</td>\n",
       "      <td>Granite Mountain, AK: Bear Creek Mining Strip</td>\n",
       "    </tr>\n",
       "    <tr>\n",
       "      <th>2</th>\n",
       "      <td>10004</td>\n",
       "      <td>Lik, AK: Lik Mining Camp</td>\n",
       "    </tr>\n",
       "    <tr>\n",
       "      <th>3</th>\n",
       "      <td>10005</td>\n",
       "      <td>Little Squaw, AK: Little Squaw Airport</td>\n",
       "    </tr>\n",
       "    <tr>\n",
       "      <th>4</th>\n",
       "      <td>10006</td>\n",
       "      <td>Kizhuyak, AK: Kizhuyak Bay</td>\n",
       "    </tr>\n",
       "  </tbody>\n",
       "</table>\n",
       "</div>"
      ],
      "text/plain": [
       "    Code                                    Description\n",
       "0  10001         Afognak Lake, AK: Afognak Lake Airport\n",
       "1  10003  Granite Mountain, AK: Bear Creek Mining Strip\n",
       "2  10004                       Lik, AK: Lik Mining Camp\n",
       "3  10005         Little Squaw, AK: Little Squaw Airport\n",
       "4  10006                     Kizhuyak, AK: Kizhuyak Bay"
      ]
     },
     "metadata": {},
     "output_type": "display_data"
    }
   ],
   "source": [
    "# Read in the data and display the head to see what data we have\n",
    "flight_data, airport_map = load_data(\"Aug2019_flights.csv\",\"Airport_codes.csv\")\n",
    "print('During the month of August 2019 there were {} flights'.format(len(flight_data)))\n",
    "display(flight_data.head())\n",
    "print('Mapper file:')\n",
    "display(airport_map.head())\n",
    "\n",
    "# Hidden tests below\n",
    "assert flight_data.shape==(658461, 10)\n",
    "assert airport_map.shape==(6545, 2)"
   ]
  },
  {
   "cell_type": "markdown",
   "metadata": {
    "deletable": false,
    "editable": false,
    "nbgrader": {
     "cell_type": "markdown",
     "checksum": "d30b2ecf5114c678bfd2ad7585d8fd7a",
     "grade": false,
     "grade_id": "cell-20135d24de1fe8a4",
     "locked": true,
     "schema_version": 3,
     "solution": false,
     "task": false
    }
   },
   "source": [
    "We can see above that our data contains several pieces of information about each flight:  \n",
    "    - DAY_OF_WEEK: Day of week (1-7)  \n",
    "    - FL_DATE: Flight date  \n",
    "    - OP_UNIQUE_CARRIER: Airline (represented using an airline code)  \n",
    "    - OP_CARRIER_FL_NUM: Flight number  \n",
    "    - ORIGIN_AIRPORT_ID: ID number of origin airport \n",
    "    - DEST_AIRPORT_ID: ID number of destination airport  \n",
    "    - CRS_DEP_TIME: departure time  \n",
    "    - DEP_DELAY_NEW: minutes of departure delay  \n",
    "    - CANCELLED: 0 if not cancelled, 1 if cancelled  \n",
    "    - WEATHER DELAY: minutes of weather delay\n",
    " "
   ]
  },
  {
   "cell_type": "markdown",
   "metadata": {
    "deletable": false,
    "editable": false,
    "nbgrader": {
     "cell_type": "markdown",
     "checksum": "12e95dc6f3acb6cd5608e571aaad0420",
     "grade": false,
     "grade_id": "cell-36becb276c88a341",
     "locked": true,
     "schema_version": 3,
     "solution": false,
     "task": false
    }
   },
   "source": [
    "### Question 1 [30 pts]\n",
    "Before we do any analysis on our data, the first thing we want to do is clean it up by adding the origin airport name using our mapping file.\n",
    "\n",
    "Let's write a function `add_origin_airports(flight_data, mapper_file)` which takes as input a dataframe of flight data ('flight_data') and a dataframe of the same form as `airport_map` which maps airport codes to airport names ('mapper_file').  The function should do the following to the input dataframe:  \n",
    "- Add a new column 'ORIGIN_AIRPORT' which contains the name of the origin airport from the mapper_file. You should do this by merging the data from the mapper_file into the input dataframe using a 'left' merge. Hint: you may have to rename the column after the merge.\n",
    "- Add a new column 'ORIGIN_CITY' which lists the city location of the origin airport.  This can be obtained by splitting the city name out of the 'ORIGIN_AIRPORT' column.  For example, for the airport 'Atlanta, GA: Hartsfield-Jackson Atlanta International' the ORIGIN_CITY entry should be 'Atlanta, GA'.\n",
    "\n",
    "The function should return a dataframe which contains all the columns of 'flight_data' in their original format and adds two new columns: 'ORIGIN_AIRPORT' and 'ORIGIN_CITY' as described above.  Be sure that your function does not perform any operations (e.g. any sorting or filtering) other than what is noted above.  "
   ]
  },
  {
   "cell_type": "code",
   "execution_count": 6,
   "metadata": {
    "deletable": false,
    "nbgrader": {
     "cell_type": "code",
     "checksum": "3ba7ba651e337e0b5723871bb1d4f513",
     "grade": false,
     "grade_id": "cell-5ca950c40965aaae",
     "locked": false,
     "schema_version": 3,
     "solution": true,
     "task": false
    }
   },
   "outputs": [],
   "source": [
    "def add_origin_airports(flight_data, mapper_file):\n",
    "    # YOUR CODE HERE\n",
    "    flight_merge = flight_data.merge(mapper_file, left_on='ORIGIN_AIRPORT_ID', right_on='Code', how=\"left\")\n",
    "    flight_merge.rename(columns={'Description':'ORIGIN_AIRPORT'},inplace=True)\n",
    "    flight_merge['ORIGIN_CITY']=flight_merge[\"ORIGIN_AIRPORT\"].apply(lambda x: x.split(':')[0])  \n",
    "    return flight_merge\n",
    "    raise NotImplementedError()"
   ]
  },
  {
   "cell_type": "code",
   "execution_count": 7,
   "metadata": {
    "deletable": false,
    "editable": false,
    "nbgrader": {
     "cell_type": "code",
     "checksum": "30697bd2cebc4d37afcc86c28730953e",
     "grade": true,
     "grade_id": "cell-5e44b9dfe3d45174",
     "locked": true,
     "points": 30,
     "schema_version": 3,
     "solution": false,
     "task": false
    }
   },
   "outputs": [
    {
     "data": {
      "text/html": [
       "<div>\n",
       "<style scoped>\n",
       "    .dataframe tbody tr th:only-of-type {\n",
       "        vertical-align: middle;\n",
       "    }\n",
       "\n",
       "    .dataframe tbody tr th {\n",
       "        vertical-align: top;\n",
       "    }\n",
       "\n",
       "    .dataframe thead th {\n",
       "        text-align: right;\n",
       "    }\n",
       "</style>\n",
       "<table border=\"1\" class=\"dataframe\">\n",
       "  <thead>\n",
       "    <tr style=\"text-align: right;\">\n",
       "      <th></th>\n",
       "      <th>DAY_OF_WEEK</th>\n",
       "      <th>FL_DATE</th>\n",
       "      <th>OP_UNIQUE_CARRIER</th>\n",
       "      <th>OP_CARRIER_FL_NUM</th>\n",
       "      <th>ORIGIN_AIRPORT_ID</th>\n",
       "      <th>DEST_AIRPORT_ID</th>\n",
       "      <th>CRS_DEP_TIME</th>\n",
       "      <th>DEP_DELAY_NEW</th>\n",
       "      <th>CANCELLED</th>\n",
       "      <th>WEATHER_DELAY</th>\n",
       "      <th>Code</th>\n",
       "      <th>ORIGIN_AIRPORT</th>\n",
       "      <th>ORIGIN_CITY</th>\n",
       "    </tr>\n",
       "  </thead>\n",
       "  <tbody>\n",
       "    <tr>\n",
       "      <th>0</th>\n",
       "      <td>1</td>\n",
       "      <td>8/12/19</td>\n",
       "      <td>9E</td>\n",
       "      <td>5001</td>\n",
       "      <td>10397</td>\n",
       "      <td>10781</td>\n",
       "      <td>1050</td>\n",
       "      <td>0.0</td>\n",
       "      <td>0</td>\n",
       "      <td>NaN</td>\n",
       "      <td>10397</td>\n",
       "      <td>Atlanta, GA: Hartsfield-Jackson Atlanta Intern...</td>\n",
       "      <td>Atlanta, GA</td>\n",
       "    </tr>\n",
       "    <tr>\n",
       "      <th>1</th>\n",
       "      <td>1</td>\n",
       "      <td>8/19/19</td>\n",
       "      <td>9E</td>\n",
       "      <td>5001</td>\n",
       "      <td>10397</td>\n",
       "      <td>10781</td>\n",
       "      <td>1050</td>\n",
       "      <td>0.0</td>\n",
       "      <td>0</td>\n",
       "      <td>NaN</td>\n",
       "      <td>10397</td>\n",
       "      <td>Atlanta, GA: Hartsfield-Jackson Atlanta Intern...</td>\n",
       "      <td>Atlanta, GA</td>\n",
       "    </tr>\n",
       "    <tr>\n",
       "      <th>2</th>\n",
       "      <td>1</td>\n",
       "      <td>8/26/19</td>\n",
       "      <td>9E</td>\n",
       "      <td>5001</td>\n",
       "      <td>10397</td>\n",
       "      <td>10781</td>\n",
       "      <td>1050</td>\n",
       "      <td>0.0</td>\n",
       "      <td>0</td>\n",
       "      <td>NaN</td>\n",
       "      <td>10397</td>\n",
       "      <td>Atlanta, GA: Hartsfield-Jackson Atlanta Intern...</td>\n",
       "      <td>Atlanta, GA</td>\n",
       "    </tr>\n",
       "    <tr>\n",
       "      <th>3</th>\n",
       "      <td>1</td>\n",
       "      <td>8/5/19</td>\n",
       "      <td>9E</td>\n",
       "      <td>5001</td>\n",
       "      <td>10781</td>\n",
       "      <td>10397</td>\n",
       "      <td>1159</td>\n",
       "      <td>74.0</td>\n",
       "      <td>0</td>\n",
       "      <td>0.0</td>\n",
       "      <td>10781</td>\n",
       "      <td>Baton Rouge, LA: Baton Rouge Metropolitan/Ryan...</td>\n",
       "      <td>Baton Rouge, LA</td>\n",
       "    </tr>\n",
       "    <tr>\n",
       "      <th>4</th>\n",
       "      <td>1</td>\n",
       "      <td>8/12/19</td>\n",
       "      <td>9E</td>\n",
       "      <td>5001</td>\n",
       "      <td>10781</td>\n",
       "      <td>10397</td>\n",
       "      <td>1159</td>\n",
       "      <td>0.0</td>\n",
       "      <td>0</td>\n",
       "      <td>NaN</td>\n",
       "      <td>10781</td>\n",
       "      <td>Baton Rouge, LA: Baton Rouge Metropolitan/Ryan...</td>\n",
       "      <td>Baton Rouge, LA</td>\n",
       "    </tr>\n",
       "  </tbody>\n",
       "</table>\n",
       "</div>"
      ],
      "text/plain": [
       "   DAY_OF_WEEK  FL_DATE OP_UNIQUE_CARRIER  OP_CARRIER_FL_NUM  \\\n",
       "0            1  8/12/19                9E               5001   \n",
       "1            1  8/19/19                9E               5001   \n",
       "2            1  8/26/19                9E               5001   \n",
       "3            1   8/5/19                9E               5001   \n",
       "4            1  8/12/19                9E               5001   \n",
       "\n",
       "   ORIGIN_AIRPORT_ID  DEST_AIRPORT_ID  CRS_DEP_TIME  DEP_DELAY_NEW  CANCELLED  \\\n",
       "0              10397            10781          1050            0.0          0   \n",
       "1              10397            10781          1050            0.0          0   \n",
       "2              10397            10781          1050            0.0          0   \n",
       "3              10781            10397          1159           74.0          0   \n",
       "4              10781            10397          1159            0.0          0   \n",
       "\n",
       "   WEATHER_DELAY   Code                                     ORIGIN_AIRPORT  \\\n",
       "0            NaN  10397  Atlanta, GA: Hartsfield-Jackson Atlanta Intern...   \n",
       "1            NaN  10397  Atlanta, GA: Hartsfield-Jackson Atlanta Intern...   \n",
       "2            NaN  10397  Atlanta, GA: Hartsfield-Jackson Atlanta Intern...   \n",
       "3            0.0  10781  Baton Rouge, LA: Baton Rouge Metropolitan/Ryan...   \n",
       "4            NaN  10781  Baton Rouge, LA: Baton Rouge Metropolitan/Ryan...   \n",
       "\n",
       "       ORIGIN_CITY  \n",
       "0      Atlanta, GA  \n",
       "1      Atlanta, GA  \n",
       "2      Atlanta, GA  \n",
       "3  Baton Rouge, LA  \n",
       "4  Baton Rouge, LA  "
      ]
     },
     "metadata": {},
     "output_type": "display_data"
    }
   ],
   "source": [
    "# 'add_origin_airports()' test cell - contains hidden tests which are run during grading\n",
    "new_df = add_origin_airports(flight_data,airport_map)\n",
    "display(new_df.head())\n"
   ]
  },
  {
   "cell_type": "markdown",
   "metadata": {
    "deletable": false,
    "editable": false,
    "nbgrader": {
     "cell_type": "markdown",
     "checksum": "08f412de863eb4e87a28318a9c6f37e6",
     "grade": false,
     "grade_id": "cell-166811a4a7da7d96",
     "locked": true,
     "schema_version": 3,
     "solution": false,
     "task": false
    }
   },
   "source": [
    "### Question 2 [30 pts]\n",
    "Let's start by looking at how much the average delay varies based on the origin airport of a flight.  It might be logical to expect different airports to have different patterns of delayed flights, based on things such as:  \n",
    "- Weather patterns at the airport location (airports in areas of extreme weather such as thunderstorms or snowstorms may have higher average delays). \n",
    "- Operational efficiency of the airport (some airports may run more smoothly than others). \n",
    "- Flight traffic at the airport (busy airports might have higher delays due to more complicated logistics when events such as weather cause problems)\n",
    "\n",
    "Complete the below function `airport_mean_delay(flight_data,airport_map,airport_name)` which takes the following inputs:  \n",
    "- The raw DataFrame of flight data ('flight_data')\n",
    "- A DataFrame which maps airport codes to airport names ('airport_map')  \n",
    "- Name of an airport 'airport_name' (string). \n",
    "\n",
    "The function should calculate the mean delay for all flights originating from the airport specified as the input 'airport_name' during the month for which we have data.  It should return the mean delay as a *float* value."
   ]
  },
  {
   "cell_type": "code",
   "execution_count": 8,
   "metadata": {
    "deletable": false,
    "nbgrader": {
     "cell_type": "code",
     "checksum": "637a2e6c896a061ea3974694061acde7",
     "grade": false,
     "grade_id": "cell-83172916da8c3553",
     "locked": false,
     "schema_version": 3,
     "solution": true,
     "task": false
    }
   },
   "outputs": [],
   "source": [
    "def airport_mean_delay(flight_data,airport_map,airport_name):\n",
    "    # YOUR CODE HERE\n",
    "    flight_data\n",
    "    new_df = add_origin_airports(flight_data, airport_map)\n",
    "    mean_delay = new_df.groupby(['ORIGIN_AIRPORT']).mean()['DEP_DELAY_NEW']\n",
    "    return mean_delay.loc[airport_name] \n",
    "    raise NotImplementedError()"
   ]
  },
  {
   "cell_type": "code",
   "execution_count": 9,
   "metadata": {
    "deletable": false,
    "editable": false,
    "nbgrader": {
     "cell_type": "code",
     "checksum": "3c640cf718bf96d7784533910ec93447",
     "grade": true,
     "grade_id": "cell-5ee9f5e5a8db65d0",
     "locked": true,
     "points": 30,
     "schema_version": 3,
     "solution": false,
     "task": false
    }
   },
   "outputs": [
    {
     "name": "stdout",
     "output_type": "stream",
     "text": [
      "Average delay for flights from Spokane International in Washington is 9.84 minutes\n",
      "Average delay for flights from Palm Beach International in Florida is 24.81 minutes\n"
     ]
    }
   ],
   "source": [
    "# 'add_origin_airports()' test cell\n",
    "d1 = airport_mean_delay(flight_data,airport_map,'Spokane, WA: Spokane International')\n",
    "print('Average delay for flights from Spokane International in Washington is {:.2f} minutes'.format(d1))\n",
    "\n",
    "d2 = airport_mean_delay(flight_data,airport_map,\"West Palm Beach/Palm Beach, FL: Palm Beach International\")\n",
    "print('Average delay for flights from Palm Beach International in Florida is {:.2f} minutes'.format(d2))\n"
   ]
  },
  {
   "cell_type": "code",
   "execution_count": 10,
   "metadata": {},
   "outputs": [
    {
     "name": "stdout",
     "output_type": "stream",
     "text": [
      "Houston, TX: William P Hobby\n",
      "13.769169960474308\n"
     ]
    }
   ],
   "source": [
    "import random \n",
    "n = random.randint(0, len(new_df['ORIGIN_AIRPORT']) + 1) \n",
    "\n",
    "print(new_df['ORIGIN_AIRPORT'][n])\n",
    "print(airport_mean_delay(flight_data,airport_map, new_df['ORIGIN_AIRPORT'][n]) )\n",
    "\n",
    "# Yes, the mean delay time depends on different airport "
   ]
  },
  {
   "cell_type": "markdown",
   "metadata": {
    "deletable": false,
    "editable": false,
    "nbgrader": {
     "cell_type": "markdown",
     "checksum": "dc3be236f706aac338253142985ee8eb",
     "grade": false,
     "grade_id": "cell-28b5d9dd7e1f8857",
     "locked": true,
     "schema_version": 3,
     "solution": false,
     "task": false
    }
   },
   "source": [
    "Take a look at the results for the couple airports in the test cases above, and try a couple yourself by calling your function using airport names (in the form \"city,state: airport\").  \n",
    "\n",
    "Based on the results, does it appear (at least for the limited set of data we have) that expected delay varies significantly by airport?\n",
    "\n",
    "When we think about the data we have used in this exercise, how might it limit our analysis (hint: think about the timeframe of the data we are using and what impact that might have)?\n",
    "\n",
    "(You don't have to write your answers to these questions, just think about them and answer for yourself)"
   ]
  },
  {
   "cell_type": "markdown",
   "metadata": {
    "deletable": false,
    "editable": false,
    "nbgrader": {
     "cell_type": "markdown",
     "checksum": "9905d20784900bd89c0e3e6420cea82d",
     "grade": false,
     "grade_id": "cell-902dd2416f7d2900",
     "locked": true,
     "schema_version": 3,
     "solution": false,
     "task": false
    }
   },
   "source": [
    "### Question 3 [30 pts]\n",
    "Now let's analyze whether the day of the week on which a flight takes place has an impact on expected amount of delay.\n",
    "\n",
    "Complete the function `delays_per_day(flight_data,airport_map)` which takes as input the raw 'flight_data' dataframe and the 'airport_map' dataframe mapping airport IDs to airport names.  The function should return a **list** of the **average departure delays** ('DEP_DELAY_NEW') for flights on each day of the week, in order from day 0 to day 7."
   ]
  },
  {
   "cell_type": "code",
   "execution_count": 11,
   "metadata": {
    "deletable": false,
    "nbgrader": {
     "cell_type": "code",
     "checksum": "4a117713afa13af82a832a5fc37c6a75",
     "grade": false,
     "grade_id": "cell-37fa336e3d4a804b",
     "locked": false,
     "schema_version": 3,
     "solution": true,
     "task": false
    }
   },
   "outputs": [],
   "source": [
    "def delays_per_day(flight_data,airport_map):\n",
    "    # YOUR CODE HERE\n",
    "    new_df = add_origin_airports(flight_data, airport_map)\n",
    "    delay_list = new_df.groupby(['DAY_OF_WEEK']).mean()['DEP_DELAY_NEW'].tolist()\n",
    "    return delay_list \n",
    "    raise NotImplementedError()"
   ]
  },
  {
   "cell_type": "code",
   "execution_count": 12,
   "metadata": {
    "deletable": false,
    "editable": false,
    "nbgrader": {
     "cell_type": "code",
     "checksum": "7dd9a8cc3a8a60484bd690e7be1673d8",
     "grade": true,
     "grade_id": "cell-182bcacddeac9b6f",
     "locked": true,
     "points": 30,
     "schema_version": 3,
     "solution": false,
     "task": false
    }
   },
   "outputs": [
    {
     "name": "stdout",
     "output_type": "stream",
     "text": [
      "Average delay for Monday: 13.63\n",
      "Average delay for Tuesday: 16.98\n",
      "Average delay for Wednesday: 18.20\n",
      "Average delay for Thursday: 18.83\n",
      "Average delay for Friday: 15.29\n",
      "Average delay for Saturday: 10.93\n",
      "Average delay for Sunday: 15.54\n"
     ]
    }
   ],
   "source": [
    "# Test cell for 'delays_per_day()'\n",
    "delays = delays_per_day(flight_data,airport_map)\n",
    "days = ['Monday','Tuesday','Wednesday','Thursday','Friday','Saturday','Sunday']\n",
    "for i,_ in enumerate(days):\n",
    "    print('Average delay for {}: {:.2f}'.format(days[i],delays[i]))\n"
   ]
  },
  {
   "cell_type": "markdown",
   "metadata": {
    "deletable": false,
    "editable": false,
    "nbgrader": {
     "cell_type": "markdown",
     "checksum": "03b4ba3db370fdc574abc92cbfc4864f",
     "grade": false,
     "grade_id": "cell-7bc59fc0cd7b6881",
     "locked": true,
     "schema_version": 3,
     "solution": false,
     "task": false
    }
   },
   "source": [
    "After you have created your function `delays_per_day()` and confirmed that it passes the tests, run the following cell which will create a bar chart showing the average delay per day of the week.  Visualizations such as this help us easily extract insights into our data, and also inspire questions to ask based on what the data tells us.  As we consider whether day of week might be a factor in influencing expected delays of flights, a visualization might give us some clues about whether the factor might be useful later in our model.\n",
    "\n",
    "For example, based on the below visualization we could draw a prelimary conclusion about whether \"day of week\" might be important in modeling delays.  We could substantiate our hypothesis by conducting a statistical test (such as an ANOVA) to see whether differences in average delays between days of the week are statistically significant or not.\n",
    "\n",
    "Bear in mind that in this case we are working with data from just a single month, so if we were actually going to build such a model we would likely want to collect much more data to understand how things change across months (and even years)."
   ]
  },
  {
   "cell_type": "code",
   "execution_count": 13,
   "metadata": {
    "deletable": false,
    "editable": false,
    "nbgrader": {
     "cell_type": "code",
     "checksum": "72ae55cdb809a0d9c175a74b2258a9b1",
     "grade": false,
     "grade_id": "cell-09b08e61b993ebc9",
     "locked": true,
     "schema_version": 3,
     "solution": false,
     "task": false
    }
   },
   "outputs": [
    {
     "data": {
      "image/png": "[encoded data removed]",
      "text/plain": [
       "<Figure size 432x288 with 1 Axes>"
      ]
     },
     "metadata": {
      "needs_background": "light"
     },
     "output_type": "display_data"
    }
   ],
   "source": [
    "delays = delays_per_day(flight_data,airport_map)\n",
    "plt.bar(x=range(1,8),height=delays)\n",
    "plt.xlabel('day of week')\n",
    "plt.ylabel('mean delay in minutes')\n",
    "plt.show()"
   ]
  },
  {
   "cell_type": "code",
   "execution_count": null,
   "metadata": {},
   "outputs": [],
   "source": []
  }
 ],
 "metadata": {
  "kernelspec": {
   "display_name": "Python 3",
   "language": "python",
   "name": "python3"
  },
  "language_info": {
   "codemirror_mode": {
    "name": "ipython",
    "version": 3
   },
   "file_extension": ".py",
   "mimetype": "text/x-python",
   "name": "python",
   "nbconvert_exporter": "python",
   "pygments_lexer": "ipython3",
   "version": "3.8.2"
  }
 },
 "nbformat": 4,
 "nbformat_minor": 4
}
