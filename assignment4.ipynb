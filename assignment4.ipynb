{
 "cells": [
  {
   "cell_type": "markdown",
   "metadata": {},
   "source": [
    "Before you turn this problem in, make sure everything runs as expected. First, **restart the kernel** (in the menubar, select Kernel$\\rightarrow$Restart) and then **run all cells** (in the menubar, select Cell$\\rightarrow$Run All).\n",
    "\n",
    "Make sure you fill in any place that says `YOUR CODE HERE` or \"YOUR ANSWER HERE\", as well as your name and collaborators below:"
   ]
  },
  {
   "cell_type": "code",
   "execution_count": 6,
   "metadata": {},
   "outputs": [],
   "source": [
    "NAME = \"Hung-Wei Chang\"\n",
    "COLLABORATORS = \"\""
   ]
  },
  {
   "cell_type": "markdown",
   "metadata": {},
   "source": [
    "---"
   ]
  },
  {
   "cell_type": "markdown",
   "metadata": {
    "deletable": false,
    "editable": false,
    "nbgrader": {
     "cell_type": "markdown",
     "checksum": "079fc9d243299e3d49f4873ba499f6ba",
     "grade": false,
     "grade_id": "cell-c69a32fdd35f5737",
     "locked": true,
     "schema_version": 3,
     "solution": false,
     "task": false
    }
   },
   "source": [
    "<a href='https://ai.meng.duke.edu'> = <img align=\"left\" style=\"padding-top:10px;\" src=https://storage.googleapis.com/aipi_datasets/Duke-AIPI-Logo.png>"
   ]
  },
  {
   "cell_type": "code",
   "execution_count": 7,
   "metadata": {
    "deletable": false,
    "editable": false,
    "nbgrader": {
     "cell_type": "code",
     "checksum": "048687fdb978998f171a8b6524e492d3",
     "grade": false,
     "grade_id": "cell-8eb346b3312017cc",
     "locked": true,
     "schema_version": 3,
     "solution": false,
     "task": false
    }
   },
   "outputs": [],
   "source": [
    "from bs4 import BeautifulSoup\n",
    "import pandas as pd\n",
    "import numpy as np\n",
    "import requests\n",
    "import matplotlib.pyplot as plt"
   ]
  },
  {
   "cell_type": "markdown",
   "metadata": {
    "deletable": false,
    "editable": false,
    "nbgrader": {
     "cell_type": "markdown",
     "checksum": "7eab48f3517f4f4f9ac08c6ad60be8af",
     "grade": false,
     "grade_id": "cell-363a1b004e81b483",
     "locked": true,
     "schema_version": 3,
     "solution": false,
     "task": false
    }
   },
   "source": [
    "# Part 1: APIs\n",
    "In this problem we are going to analyze some weather data for the month of August 2021 for the Raleigh-Durham Airport (RDU).  We will use the [U.S. NOAA Climate Data Online API](https://www.ncdc.noaa.gov/cdo-web/webservices/v2#gettingStarted) to get the data we need.  \n",
    "\n",
    "The first thing we need to do is to get an access token to be able to make calls to the api.  You can request a free access token [here](https://www.ncdc.noaa.gov/cdo-web/token).  You will need to put your token in below to run the code, however you may delete your token if you wish before you submit your assignment (the grading script uses my own token).\n",
    "\n",
    "The second thing we need to do is identify the station_id of the weather station located at the Raleigh-Durham Airport (referred to on the NOAA pages as 'Raleigh Airport').  You can find the id number through [this page](https://www.ncdc.noaa.gov/cdo-web/datatools/selectlocation).  You will need to search by county (Wake County) and then find the Raleigh Airport.\n",
    "\n",
    "The third thing we need to know is the dataset id of the dataset we would like to get from the API for our station.  The dataset we will be using is 'GHCND'.\n",
    "\n",
    "Now that we've done these, we are ready to use the API!  You can see examples of how to form the API endpoint to make calls [here](https://www.ncdc.noaa.gov/cdo-web/webservices/v2#data).  \n",
    "\n",
    "Hint: we may need to include headers and a payload in our API call.  We should include our token within the headers, and within the payload we should include the parameters for our API call and also include 'limit'.  The purpose of 'limit' is to paginate the results so we don't receive a very large number of results back at once.  In our case we will use a limit of 500 so that we can ensure we will receive all the results we need from our single call.\n",
    "\n",
    "\n",
    "\n"
   ]
  },
  {
   "cell_type": "code",
   "execution_count": 18,
   "metadata": {
    "deletable": false,
    "nbgrader": {
     "cell_type": "code",
     "checksum": "27f170f366974d427198b7a9bfae1f00",
     "grade": false,
     "grade_id": "cell-a2e2a525353953b8",
     "locked": false,
     "schema_version": 3,
     "solution": true,
     "task": false
    }
   },
   "outputs": [],
   "source": [
    "def get_weather(token,datasetid,station_id,startdate,enddate,limit=500):\n",
    "    \n",
    "    if (token==None) or (station_id==None):\n",
    "        raise ValueError \n",
    "     \n",
    "    # YOUR CODE HERE\n",
    "    url_first = 'https://www.ncdc.noaa.gov/cdo-web/api/v2/data?'\n",
    "    end_point = f'datasetid={datasetid}&stationid={station_id}&startdate={startdate}&enddate={enddate}&limit={limit}'\n",
    "#  f'https://www.ncdc.noaa.gov/cdo-web/api/v2/data?datasetid=GHCND&locationid=ZIP:28801&startdate=2010-05-01&enddate=2010-05-01'\n",
    "\n",
    "    url = url_first + end_point\n",
    "    station_id = 'GHCND:USW00013722'\n",
    "    response = requests.get(url = url, headers={'token':token})\n",
    "    response = response.json()['results']\n",
    "\n",
    "    return response\n",
    "    \n",
    "\n",
    "    \n",
    "    raise NotImplementedError()"
   ]
  },
  {
   "cell_type": "code",
   "execution_count": 19,
   "metadata": {},
   "outputs": [
    {
     "name": "stdout",
     "output_type": "stream",
     "text": [
      "[{'date': '2021-08-01T00:00:00', 'datatype': 'AWND', 'station': 'GHCND:USW00013722', 'attributes': ',,W,', 'value': 18}, {'date': '2021-08-01T00:00:00', 'datatype': 'PRCP', 'station': 'GHCND:USW00013722', 'attributes': 'T,,W,2400', 'value': 0}, {'date': '2021-08-01T00:00:00', 'datatype': 'SNOW', 'station': 'GHCND:USW00013722', 'attributes': ',,W,', 'value': 0}, {'date': '2021-08-01T00:00:00', 'datatype': 'TAVG', 'station': 'GHCND:USW00013722', 'attributes': 'H,,S,', 'value': 276}, {'date': '2021-08-01T00:00:00', 'datatype': 'TMAX', 'station': 'GHCND:USW00013722', 'attributes': ',,W,2400', 'value': 328}, {'date': '2021-08-01T00:00:00', 'datatype': 'TMIN', 'station': 'GHCND:USW00013722', 'attributes': ',,W,2400', 'value': 239}, {'date': '2021-08-01T00:00:00', 'datatype': 'WDF2', 'station': 'GHCND:USW00013722', 'attributes': ',,W,', 'value': 350}, {'date': '2021-08-01T00:00:00', 'datatype': 'WDF5', 'station': 'GHCND:USW00013722', 'attributes': ',,W,', 'value': 30}, {'date': '2021-08-01T00:00:00', 'datatype': 'WSF2', 'station': 'GHCND:USW00013722', 'attributes': ',,W,', 'value': 54}, {'date': '2021-08-01T00:00:00', 'datatype': 'WSF5', 'station': 'GHCND:USW00013722', 'attributes': ',,W,', 'value': 85}, {'date': '2021-08-01T00:00:00', 'datatype': 'WT01', 'station': 'GHCND:USW00013722', 'attributes': ',,W,', 'value': 1}, {'date': '2021-08-02T00:00:00', 'datatype': 'AWND', 'station': 'GHCND:USW00013722', 'attributes': ',,W,', 'value': 32}, {'date': '2021-08-02T00:00:00', 'datatype': 'PRCP', 'station': 'GHCND:USW00013722', 'attributes': 'T,,W,2400', 'value': 0}, {'date': '2021-08-02T00:00:00', 'datatype': 'SNOW', 'station': 'GHCND:USW00013722', 'attributes': ',,W,', 'value': 0}, {'date': '2021-08-02T00:00:00', 'datatype': 'SNWD', 'station': 'GHCND:USW00013722', 'attributes': ',,W,2400', 'value': 0}, {'date': '2021-08-02T00:00:00', 'datatype': 'TAVG', 'station': 'GHCND:USW00013722', 'attributes': 'H,,S,', 'value': 255}, {'date': '2021-08-02T00:00:00', 'datatype': 'TMAX', 'station': 'GHCND:USW00013722', 'attributes': ',,W,2400', 'value': 294}, {'date': '2021-08-02T00:00:00', 'datatype': 'TMIN', 'station': 'GHCND:USW00013722', 'attributes': ',,W,2400', 'value': 206}, {'date': '2021-08-02T00:00:00', 'datatype': 'WDF2', 'station': 'GHCND:USW00013722', 'attributes': ',,W,', 'value': 50}, {'date': '2021-08-02T00:00:00', 'datatype': 'WDF5', 'station': 'GHCND:USW00013722', 'attributes': ',,W,', 'value': 50}, {'date': '2021-08-02T00:00:00', 'datatype': 'WSF2', 'station': 'GHCND:USW00013722', 'attributes': ',,W,', 'value': 72}, {'date': '2021-08-02T00:00:00', 'datatype': 'WSF5', 'station': 'GHCND:USW00013722', 'attributes': ',,W,', 'value': 89}, {'date': '2021-08-03T00:00:00', 'datatype': 'AWND', 'station': 'GHCND:USW00013722', 'attributes': ',,W,', 'value': 32}, {'date': '2021-08-03T00:00:00', 'datatype': 'PRCP', 'station': 'GHCND:USW00013722', 'attributes': ',,W,2400', 'value': 28}, {'date': '2021-08-03T00:00:00', 'datatype': 'SNOW', 'station': 'GHCND:USW00013722', 'attributes': ',,W,', 'value': 0}, {'date': '2021-08-03T00:00:00', 'datatype': 'SNWD', 'station': 'GHCND:USW00013722', 'attributes': ',,W,2400', 'value': 0}, {'date': '2021-08-03T00:00:00', 'datatype': 'TAVG', 'station': 'GHCND:USW00013722', 'attributes': 'H,,S,', 'value': 224}, {'date': '2021-08-03T00:00:00', 'datatype': 'TMAX', 'station': 'GHCND:USW00013722', 'attributes': ',,W,2400', 'value': 239}, {'date': '2021-08-03T00:00:00', 'datatype': 'TMIN', 'station': 'GHCND:USW00013722', 'attributes': ',,W,2400', 'value': 189}, {'date': '2021-08-03T00:00:00', 'datatype': 'WDF2', 'station': 'GHCND:USW00013722', 'attributes': ',,W,', 'value': 50}, {'date': '2021-08-03T00:00:00', 'datatype': 'WDF5', 'station': 'GHCND:USW00013722', 'attributes': ',,W,', 'value': 100}, {'date': '2021-08-03T00:00:00', 'datatype': 'WSF2', 'station': 'GHCND:USW00013722', 'attributes': ',,W,', 'value': 63}, {'date': '2021-08-03T00:00:00', 'datatype': 'WSF5', 'station': 'GHCND:USW00013722', 'attributes': ',,W,', 'value': 98}, {'date': '2021-08-03T00:00:00', 'datatype': 'WT01', 'station': 'GHCND:USW00013722', 'attributes': ',,W,', 'value': 1}, {'date': '2021-08-04T00:00:00', 'datatype': 'AWND', 'station': 'GHCND:USW00013722', 'attributes': ',,W,', 'value': 36}, {'date': '2021-08-04T00:00:00', 'datatype': 'PRCP', 'station': 'GHCND:USW00013722', 'attributes': ',,W,2400', 'value': 8}, {'date': '2021-08-04T00:00:00', 'datatype': 'SNOW', 'station': 'GHCND:USW00013722', 'attributes': ',,W,', 'value': 0}, {'date': '2021-08-04T00:00:00', 'datatype': 'SNWD', 'station': 'GHCND:USW00013722', 'attributes': ',,W,2400', 'value': 0}, {'date': '2021-08-04T00:00:00', 'datatype': 'TAVG', 'station': 'GHCND:USW00013722', 'attributes': 'H,,S,', 'value': 217}, {'date': '2021-08-04T00:00:00', 'datatype': 'TMAX', 'station': 'GHCND:USW00013722', 'attributes': ',,W,2400', 'value': 272}, {'date': '2021-08-04T00:00:00', 'datatype': 'TMIN', 'station': 'GHCND:USW00013722', 'attributes': ',,W,2400', 'value': 189}, {'date': '2021-08-04T00:00:00', 'datatype': 'WDF2', 'station': 'GHCND:USW00013722', 'attributes': ',,W,', 'value': 40}, {'date': '2021-08-04T00:00:00', 'datatype': 'WDF5', 'station': 'GHCND:USW00013722', 'attributes': ',,W,', 'value': 50}, {'date': '2021-08-04T00:00:00', 'datatype': 'WSF2', 'station': 'GHCND:USW00013722', 'attributes': ',,W,', 'value': 76}, {'date': '2021-08-04T00:00:00', 'datatype': 'WSF5', 'station': 'GHCND:USW00013722', 'attributes': ',,W,', 'value': 98}, {'date': '2021-08-04T00:00:00', 'datatype': 'WT01', 'station': 'GHCND:USW00013722', 'attributes': ',,W,', 'value': 1}, {'date': '2021-08-05T00:00:00', 'datatype': 'AWND', 'station': 'GHCND:USW00013722', 'attributes': ',,W,', 'value': 20}, {'date': '2021-08-05T00:00:00', 'datatype': 'PRCP', 'station': 'GHCND:USW00013722', 'attributes': ',,W,2400', 'value': 0}, {'date': '2021-08-05T00:00:00', 'datatype': 'SNOW', 'station': 'GHCND:USW00013722', 'attributes': ',,W,', 'value': 0}, {'date': '2021-08-05T00:00:00', 'datatype': 'SNWD', 'station': 'GHCND:USW00013722', 'attributes': ',,W,2400', 'value': 0}, {'date': '2021-08-05T00:00:00', 'datatype': 'TAVG', 'station': 'GHCND:USW00013722', 'attributes': 'H,,S,', 'value': 234}, {'date': '2021-08-05T00:00:00', 'datatype': 'TMAX', 'station': 'GHCND:USW00013722', 'attributes': ',,W,2400', 'value': 300}, {'date': '2021-08-05T00:00:00', 'datatype': 'TMIN', 'station': 'GHCND:USW00013722', 'attributes': ',,W,2400', 'value': 167}, {'date': '2021-08-05T00:00:00', 'datatype': 'WDF2', 'station': 'GHCND:USW00013722', 'attributes': ',,W,', 'value': 80}, {'date': '2021-08-05T00:00:00', 'datatype': 'WDF5', 'station': 'GHCND:USW00013722', 'attributes': ',,W,', 'value': 80}, {'date': '2021-08-05T00:00:00', 'datatype': 'WSF2', 'station': 'GHCND:USW00013722', 'attributes': ',,W,', 'value': 63}, {'date': '2021-08-05T00:00:00', 'datatype': 'WSF5', 'station': 'GHCND:USW00013722', 'attributes': ',,W,', 'value': 85}, {'date': '2021-08-06T00:00:00', 'datatype': 'AWND', 'station': 'GHCND:USW00013722', 'attributes': ',,W,', 'value': 13}, {'date': '2021-08-06T00:00:00', 'datatype': 'PRCP', 'station': 'GHCND:USW00013722', 'attributes': ',,W,2400', 'value': 99}, {'date': '2021-08-06T00:00:00', 'datatype': 'SNOW', 'station': 'GHCND:USW00013722', 'attributes': ',,W,', 'value': 0}, {'date': '2021-08-06T00:00:00', 'datatype': 'SNWD', 'station': 'GHCND:USW00013722', 'attributes': ',,W,2400', 'value': 0}, {'date': '2021-08-06T00:00:00', 'datatype': 'TAVG', 'station': 'GHCND:USW00013722', 'attributes': 'H,,S,', 'value': 226}, {'date': '2021-08-06T00:00:00', 'datatype': 'TMAX', 'station': 'GHCND:USW00013722', 'attributes': ',,W,2400', 'value': 306}, {'date': '2021-08-06T00:00:00', 'datatype': 'TMIN', 'station': 'GHCND:USW00013722', 'attributes': ',,W,2400', 'value': 161}, {'date': '2021-08-06T00:00:00', 'datatype': 'WDF2', 'station': 'GHCND:USW00013722', 'attributes': ',,W,', 'value': 170}, {'date': '2021-08-06T00:00:00', 'datatype': 'WDF5', 'station': 'GHCND:USW00013722', 'attributes': ',,W,', 'value': 170}, {'date': '2021-08-06T00:00:00', 'datatype': 'WSF2', 'station': 'GHCND:USW00013722', 'attributes': ',,W,', 'value': 72}, {'date': '2021-08-06T00:00:00', 'datatype': 'WSF5', 'station': 'GHCND:USW00013722', 'attributes': ',,W,', 'value': 85}, {'date': '2021-08-06T00:00:00', 'datatype': 'WT01', 'station': 'GHCND:USW00013722', 'attributes': ',,W,', 'value': 1}, {'date': '2021-08-07T00:00:00', 'datatype': 'AWND', 'station': 'GHCND:USW00013722', 'attributes': ',,W,', 'value': 10}, {'date': '2021-08-07T00:00:00', 'datatype': 'PRCP', 'station': 'GHCND:USW00013722', 'attributes': ',,W,2400', 'value': 81}, {'date': '2021-08-07T00:00:00', 'datatype': 'SNOW', 'station': 'GHCND:USW00013722', 'attributes': ',,W,', 'value': 0}, {'date': '2021-08-07T00:00:00', 'datatype': 'SNWD', 'station': 'GHCND:USW00013722', 'attributes': ',,W,2400', 'value': 0}, {'date': '2021-08-07T00:00:00', 'datatype': 'TAVG', 'station': 'GHCND:USW00013722', 'attributes': 'H,,S,', 'value': 222}, {'date': '2021-08-07T00:00:00', 'datatype': 'TMAX', 'station': 'GHCND:USW00013722', 'attributes': ',,W,2400', 'value': 256}, {'date': '2021-08-07T00:00:00', 'datatype': 'TMIN', 'station': 'GHCND:USW00013722', 'attributes': ',,W,2400', 'value': 194}, {'date': '2021-08-07T00:00:00', 'datatype': 'WDF2', 'station': 'GHCND:USW00013722', 'attributes': ',,W,', 'value': 310}, {'date': '2021-08-07T00:00:00', 'datatype': 'WDF5', 'station': 'GHCND:USW00013722', 'attributes': ',,W,', 'value': 360}, {'date': '2021-08-07T00:00:00', 'datatype': 'WSF2', 'station': 'GHCND:USW00013722', 'attributes': ',,W,', 'value': 45}, {'date': '2021-08-07T00:00:00', 'datatype': 'WSF5', 'station': 'GHCND:USW00013722', 'attributes': ',,W,', 'value': 76}, {'date': '2021-08-07T00:00:00', 'datatype': 'WT01', 'station': 'GHCND:USW00013722', 'attributes': ',,W,', 'value': 1}, {'date': '2021-08-08T00:00:00', 'datatype': 'AWND', 'station': 'GHCND:USW00013722', 'attributes': ',,W,', 'value': 12}, {'date': '2021-08-08T00:00:00', 'datatype': 'PRCP', 'station': 'GHCND:USW00013722', 'attributes': ',,W,2400', 'value': 0}, {'date': '2021-08-08T00:00:00', 'datatype': 'SNOW', 'station': 'GHCND:USW00013722', 'attributes': ',,W,', 'value': 0}, {'date': '2021-08-08T00:00:00', 'datatype': 'SNWD', 'station': 'GHCND:USW00013722', 'attributes': ',,W,2400', 'value': 0}, {'date': '2021-08-08T00:00:00', 'datatype': 'TAVG', 'station': 'GHCND:USW00013722', 'attributes': 'H,,S,', 'value': 241}, {'date': '2021-08-08T00:00:00', 'datatype': 'TMAX', 'station': 'GHCND:USW00013722', 'attributes': ',,W,2400', 'value': 328}, {'date': '2021-08-08T00:00:00', 'datatype': 'TMIN', 'station': 'GHCND:USW00013722', 'attributes': ',,W,2400', 'value': 183}, {'date': '2021-08-08T00:00:00', 'datatype': 'WDF2', 'station': 'GHCND:USW00013722', 'attributes': ',,W,', 'value': 140}, {'date': '2021-08-08T00:00:00', 'datatype': 'WDF5', 'station': 'GHCND:USW00013722', 'attributes': ',,W,', 'value': 160}, {'date': '2021-08-08T00:00:00', 'datatype': 'WSF2', 'station': 'GHCND:USW00013722', 'attributes': ',,W,', 'value': 63}, {'date': '2021-08-08T00:00:00', 'datatype': 'WSF5', 'station': 'GHCND:USW00013722', 'attributes': ',,W,', 'value': 94}, {'date': '2021-08-08T00:00:00', 'datatype': 'WT01', 'station': 'GHCND:USW00013722', 'attributes': ',,W,', 'value': 1}, {'date': '2021-08-08T00:00:00', 'datatype': 'WT02', 'station': 'GHCND:USW00013722', 'attributes': ',,W,', 'value': 1}, {'date': '2021-08-08T00:00:00', 'datatype': 'WT03', 'station': 'GHCND:USW00013722', 'attributes': ',,W,', 'value': 1}, {'date': '2021-08-09T00:00:00', 'datatype': 'AWND', 'station': 'GHCND:USW00013722', 'attributes': ',,W,', 'value': 25}, {'date': '2021-08-09T00:00:00', 'datatype': 'PRCP', 'station': 'GHCND:USW00013722', 'attributes': ',,W,2400', 'value': 0}, {'date': '2021-08-09T00:00:00', 'datatype': 'SNOW', 'station': 'GHCND:USW00013722', 'attributes': ',,W,', 'value': 0}, {'date': '2021-08-09T00:00:00', 'datatype': 'SNWD', 'station': 'GHCND:USW00013722', 'attributes': ',,W,2400', 'value': 0}, {'date': '2021-08-09T00:00:00', 'datatype': 'TAVG', 'station': 'GHCND:USW00013722', 'attributes': 'H,,S,', 'value': 267}, {'date': '2021-08-09T00:00:00', 'datatype': 'TMAX', 'station': 'GHCND:USW00013722', 'attributes': ',,W,2400', 'value': 339}, {'date': '2021-08-09T00:00:00', 'datatype': 'TMIN', 'station': 'GHCND:USW00013722', 'attributes': ',,W,2400', 'value': 206}, {'date': '2021-08-09T00:00:00', 'datatype': 'WDF2', 'station': 'GHCND:USW00013722', 'attributes': ',,W,', 'value': 170}, {'date': '2021-08-09T00:00:00', 'datatype': 'WDF5', 'station': 'GHCND:USW00013722', 'attributes': ',,W,', 'value': 210}, {'date': '2021-08-09T00:00:00', 'datatype': 'WSF2', 'station': 'GHCND:USW00013722', 'attributes': ',,W,', 'value': 67}, {'date': '2021-08-09T00:00:00', 'datatype': 'WSF5', 'station': 'GHCND:USW00013722', 'attributes': ',,W,', 'value': 89}, {'date': '2021-08-09T00:00:00', 'datatype': 'WT01', 'station': 'GHCND:USW00013722', 'attributes': ',,W,', 'value': 1}, {'date': '2021-08-10T00:00:00', 'datatype': 'AWND', 'station': 'GHCND:USW00013722', 'attributes': ',,W,', 'value': 29}, {'date': '2021-08-10T00:00:00', 'datatype': 'PRCP', 'station': 'GHCND:USW00013722', 'attributes': ',,W,2400', 'value': 0}, {'date': '2021-08-10T00:00:00', 'datatype': 'SNOW', 'station': 'GHCND:USW00013722', 'attributes': ',,W,', 'value': 0}, {'date': '2021-08-10T00:00:00', 'datatype': 'SNWD', 'station': 'GHCND:USW00013722', 'attributes': ',,W,2400', 'value': 0}, {'date': '2021-08-10T00:00:00', 'datatype': 'TAVG', 'station': 'GHCND:USW00013722', 'attributes': 'H,,S,', 'value': 281}, {'date': '2021-08-10T00:00:00', 'datatype': 'TMAX', 'station': 'GHCND:USW00013722', 'attributes': ',,W,2400', 'value': 356}, {'date': '2021-08-10T00:00:00', 'datatype': 'TMIN', 'station': 'GHCND:USW00013722', 'attributes': ',,W,2400', 'value': 228}, {'date': '2021-08-10T00:00:00', 'datatype': 'WDF2', 'station': 'GHCND:USW00013722', 'attributes': ',,W,', 'value': 170}, {'date': '2021-08-10T00:00:00', 'datatype': 'WDF5', 'station': 'GHCND:USW00013722', 'attributes': ',,W,', 'value': 170}, {'date': '2021-08-10T00:00:00', 'datatype': 'WSF2', 'station': 'GHCND:USW00013722', 'attributes': ',,W,', 'value': 76}, {'date': '2021-08-10T00:00:00', 'datatype': 'WSF5', 'station': 'GHCND:USW00013722', 'attributes': ',,W,', 'value': 89}, {'date': '2021-08-10T00:00:00', 'datatype': 'WT01', 'station': 'GHCND:USW00013722', 'attributes': ',,W,', 'value': 1}, {'date': '2021-08-11T00:00:00', 'datatype': 'AWND', 'station': 'GHCND:USW00013722', 'attributes': ',,W,', 'value': 34}, {'date': '2021-08-11T00:00:00', 'datatype': 'PRCP', 'station': 'GHCND:USW00013722', 'attributes': ',,W,2400', 'value': 0}, {'date': '2021-08-11T00:00:00', 'datatype': 'SNOW', 'station': 'GHCND:USW00013722', 'attributes': ',,W,', 'value': 0}, {'date': '2021-08-11T00:00:00', 'datatype': 'SNWD', 'station': 'GHCND:USW00013722', 'attributes': ',,W,2400', 'value': 0}, {'date': '2021-08-11T00:00:00', 'datatype': 'TAVG', 'station': 'GHCND:USW00013722', 'attributes': 'H,,S,', 'value': 287}, {'date': '2021-08-11T00:00:00', 'datatype': 'TMAX', 'station': 'GHCND:USW00013722', 'attributes': ',,W,2400', 'value': 361}, {'date': '2021-08-11T00:00:00', 'datatype': 'TMIN', 'station': 'GHCND:USW00013722', 'attributes': ',,W,2400', 'value': 233}, {'date': '2021-08-11T00:00:00', 'datatype': 'WDF2', 'station': 'GHCND:USW00013722', 'attributes': ',,W,', 'value': 200}, {'date': '2021-08-11T00:00:00', 'datatype': 'WDF5', 'station': 'GHCND:USW00013722', 'attributes': ',,W,', 'value': 210}, {'date': '2021-08-11T00:00:00', 'datatype': 'WSF2', 'station': 'GHCND:USW00013722', 'attributes': ',,W,', 'value': 76}, {'date': '2021-08-11T00:00:00', 'datatype': 'WSF5', 'station': 'GHCND:USW00013722', 'attributes': ',,W,', 'value': 98}, {'date': '2021-08-12T00:00:00', 'datatype': 'AWND', 'station': 'GHCND:USW00013722', 'attributes': ',,W,', 'value': 30}, {'date': '2021-08-12T00:00:00', 'datatype': 'PRCP', 'station': 'GHCND:USW00013722', 'attributes': 'T,,W,2400', 'value': 0}, {'date': '2021-08-12T00:00:00', 'datatype': 'SNOW', 'station': 'GHCND:USW00013722', 'attributes': ',,W,', 'value': 0}, {'date': '2021-08-12T00:00:00', 'datatype': 'SNWD', 'station': 'GHCND:USW00013722', 'attributes': ',,W,2400', 'value': 0}, {'date': '2021-08-12T00:00:00', 'datatype': 'TAVG', 'station': 'GHCND:USW00013722', 'attributes': 'H,,S,', 'value': 289}, {'date': '2021-08-12T00:00:00', 'datatype': 'TMAX', 'station': 'GHCND:USW00013722', 'attributes': ',,W,2400', 'value': 367}, {'date': '2021-08-12T00:00:00', 'datatype': 'TMIN', 'station': 'GHCND:USW00013722', 'attributes': ',,W,2400', 'value': 233}, {'date': '2021-08-12T00:00:00', 'datatype': 'WDF2', 'station': 'GHCND:USW00013722', 'attributes': ',,W,', 'value': 70}, {'date': '2021-08-12T00:00:00', 'datatype': 'WDF5', 'station': 'GHCND:USW00013722', 'attributes': ',,W,', 'value': 210}, {'date': '2021-08-12T00:00:00', 'datatype': 'WSF2', 'station': 'GHCND:USW00013722', 'attributes': ',,W,', 'value': 58}, {'date': '2021-08-12T00:00:00', 'datatype': 'WSF5', 'station': 'GHCND:USW00013722', 'attributes': ',,W,', 'value': 76}, {'date': '2021-08-12T00:00:00', 'datatype': 'WT03', 'station': 'GHCND:USW00013722', 'attributes': ',,W,', 'value': 1}, {'date': '2021-08-13T00:00:00', 'datatype': 'AWND', 'station': 'GHCND:USW00013722', 'attributes': ',,W,', 'value': 39}, {'date': '2021-08-13T00:00:00', 'datatype': 'PRCP', 'station': 'GHCND:USW00013722', 'attributes': ',,W,2400', 'value': 0}, {'date': '2021-08-13T00:00:00', 'datatype': 'SNOW', 'station': 'GHCND:USW00013722', 'attributes': ',,W,', 'value': 0}, {'date': '2021-08-13T00:00:00', 'datatype': 'SNWD', 'station': 'GHCND:USW00013722', 'attributes': ',,W,2400', 'value': 0}, {'date': '2021-08-13T00:00:00', 'datatype': 'TAVG', 'station': 'GHCND:USW00013722', 'attributes': 'H,,S,', 'value': 301}, {'date': '2021-08-13T00:00:00', 'datatype': 'TMAX', 'station': 'GHCND:USW00013722', 'attributes': ',,W,2400', 'value': 378}, {'date': '2021-08-13T00:00:00', 'datatype': 'TMIN', 'station': 'GHCND:USW00013722', 'attributes': ',,W,2400', 'value': 244}, {'date': '2021-08-13T00:00:00', 'datatype': 'WDF2', 'station': 'GHCND:USW00013722', 'attributes': ',,W,', 'value': 210}, {'date': '2021-08-13T00:00:00', 'datatype': 'WDF5', 'station': 'GHCND:USW00013722', 'attributes': ',,W,', 'value': 210}, {'date': '2021-08-13T00:00:00', 'datatype': 'WSF2', 'station': 'GHCND:USW00013722', 'attributes': ',,W,', 'value': 81}, {'date': '2021-08-13T00:00:00', 'datatype': 'WSF5', 'station': 'GHCND:USW00013722', 'attributes': ',,W,', 'value': 107}, {'date': '2021-08-14T00:00:00', 'datatype': 'AWND', 'station': 'GHCND:USW00013722', 'attributes': ',,W,', 'value': 29}, {'date': '2021-08-14T00:00:00', 'datatype': 'PRCP', 'station': 'GHCND:USW00013722', 'attributes': ',,W,2400', 'value': 140}, {'date': '2021-08-14T00:00:00', 'datatype': 'SNOW', 'station': 'GHCND:USW00013722', 'attributes': ',,W,', 'value': 0}, {'date': '2021-08-14T00:00:00', 'datatype': 'SNWD', 'station': 'GHCND:USW00013722', 'attributes': ',,W,2400', 'value': 0}, {'date': '2021-08-14T00:00:00', 'datatype': 'TAVG', 'station': 'GHCND:USW00013722', 'attributes': 'H,,S,', 'value': 281}, {'date': '2021-08-14T00:00:00', 'datatype': 'TMAX', 'station': 'GHCND:USW00013722', 'attributes': ',,W,2400', 'value': 350}, {'date': '2021-08-14T00:00:00', 'datatype': 'TMIN', 'station': 'GHCND:USW00013722', 'attributes': ',,W,2400', 'value': 217}, {'date': '2021-08-14T00:00:00', 'datatype': 'WDF2', 'station': 'GHCND:USW00013722', 'attributes': ',,W,', 'value': 100}, {'date': '2021-08-14T00:00:00', 'datatype': 'WDF5', 'station': 'GHCND:USW00013722', 'attributes': ',,W,', 'value': 120}, {'date': '2021-08-14T00:00:00', 'datatype': 'WSF2', 'station': 'GHCND:USW00013722', 'attributes': ',,W,', 'value': 134}, {'date': '2021-08-14T00:00:00', 'datatype': 'WSF5', 'station': 'GHCND:USW00013722', 'attributes': ',,W,', 'value': 170}, {'date': '2021-08-14T00:00:00', 'datatype': 'WT01', 'station': 'GHCND:USW00013722', 'attributes': ',,W,', 'value': 1}, {'date': '2021-08-14T00:00:00', 'datatype': 'WT03', 'station': 'GHCND:USW00013722', 'attributes': ',,W,', 'value': 1}, {'date': '2021-08-15T00:00:00', 'datatype': 'AWND', 'station': 'GHCND:USW00013722', 'attributes': ',,W,', 'value': 8}, {'date': '2021-08-15T00:00:00', 'datatype': 'PRCP', 'station': 'GHCND:USW00013722', 'attributes': ',,W,2400', 'value': 38}, {'date': '2021-08-15T00:00:00', 'datatype': 'SNOW', 'station': 'GHCND:USW00013722', 'attributes': ',,W,', 'value': 0}, {'date': '2021-08-15T00:00:00', 'datatype': 'SNWD', 'station': 'GHCND:USW00013722', 'attributes': ',,W,2400', 'value': 0}, {'date': '2021-08-15T00:00:00', 'datatype': 'TAVG', 'station': 'GHCND:USW00013722', 'attributes': 'H,,S,', 'value': 243}, {'date': '2021-08-15T00:00:00', 'datatype': 'TMAX', 'station': 'GHCND:USW00013722', 'attributes': ',,W,2400', 'value': 311}, {'date': '2021-08-15T00:00:00', 'datatype': 'TMIN', 'station': 'GHCND:USW00013722', 'attributes': ',,W,2400', 'value': 211}, {'date': '2021-08-15T00:00:00', 'datatype': 'WDF2', 'station': 'GHCND:USW00013722', 'attributes': ',,W,', 'value': 230}, {'date': '2021-08-15T00:00:00', 'datatype': 'WDF5', 'station': 'GHCND:USW00013722', 'attributes': ',,W,', 'value': 230}, {'date': '2021-08-15T00:00:00', 'datatype': 'WSF2', 'station': 'GHCND:USW00013722', 'attributes': ',,W,', 'value': 58}, {'date': '2021-08-15T00:00:00', 'datatype': 'WSF5', 'station': 'GHCND:USW00013722', 'attributes': ',,W,', 'value': 72}, {'date': '2021-08-15T00:00:00', 'datatype': 'WT01', 'station': 'GHCND:USW00013722', 'attributes': ',,W,', 'value': 1}, {'date': '2021-08-15T00:00:00', 'datatype': 'WT03', 'station': 'GHCND:USW00013722', 'attributes': ',,W,', 'value': 1}, {'date': '2021-08-16T00:00:00', 'datatype': 'AWND', 'station': 'GHCND:USW00013722', 'attributes': ',,W,', 'value': 16}, {'date': '2021-08-16T00:00:00', 'datatype': 'PRCP', 'station': 'GHCND:USW00013722', 'attributes': ',,W,2400', 'value': 99}, {'date': '2021-08-16T00:00:00', 'datatype': 'SNOW', 'station': 'GHCND:USW00013722', 'attributes': ',,W,', 'value': 0}, {'date': '2021-08-16T00:00:00', 'datatype': 'SNWD', 'station': 'GHCND:USW00013722', 'attributes': ',,W,2400', 'value': 0}, {'date': '2021-08-16T00:00:00', 'datatype': 'TAVG', 'station': 'GHCND:USW00013722', 'attributes': 'H,,S,', 'value': 252}, {'date': '2021-08-16T00:00:00', 'datatype': 'TMAX', 'station': 'GHCND:USW00013722', 'attributes': ',,W,2400', 'value': 322}, {'date': '2021-08-16T00:00:00', 'datatype': 'TMIN', 'station': 'GHCND:USW00013722', 'attributes': ',,W,2400', 'value': 217}, {'date': '2021-08-16T00:00:00', 'datatype': 'WDF2', 'station': 'GHCND:USW00013722', 'attributes': ',,W,', 'value': 220}, {'date': '2021-08-16T00:00:00', 'datatype': 'WDF5', 'station': 'GHCND:USW00013722', 'attributes': ',,W,', 'value': 210}, {'date': '2021-08-16T00:00:00', 'datatype': 'WSF2', 'station': 'GHCND:USW00013722', 'attributes': ',,W,', 'value': 134}, {'date': '2021-08-16T00:00:00', 'datatype': 'WSF5', 'station': 'GHCND:USW00013722', 'attributes': ',,W,', 'value': 165}, {'date': '2021-08-16T00:00:00', 'datatype': 'WT01', 'station': 'GHCND:USW00013722', 'attributes': ',,W,', 'value': 1}, {'date': '2021-08-16T00:00:00', 'datatype': 'WT02', 'station': 'GHCND:USW00013722', 'attributes': ',,W,', 'value': 1}, {'date': '2021-08-16T00:00:00', 'datatype': 'WT03', 'station': 'GHCND:USW00013722', 'attributes': ',,W,', 'value': 1}, {'date': '2021-08-17T00:00:00', 'datatype': 'AWND', 'station': 'GHCND:USW00013722', 'attributes': ',,W,', 'value': 27}, {'date': '2021-08-17T00:00:00', 'datatype': 'PRCP', 'station': 'GHCND:USW00013722', 'attributes': ',,W,2400', 'value': 20}, {'date': '2021-08-17T00:00:00', 'datatype': 'SNOW', 'station': 'GHCND:USW00013722', 'attributes': ',,W,', 'value': 0}, {'date': '2021-08-17T00:00:00', 'datatype': 'SNWD', 'station': 'GHCND:USW00013722', 'attributes': ',,W,2400', 'value': 0}, {'date': '2021-08-17T00:00:00', 'datatype': 'TAVG', 'station': 'GHCND:USW00013722', 'attributes': 'H,,S,', 'value': 251}, {'date': '2021-08-17T00:00:00', 'datatype': 'TMAX', 'station': 'GHCND:USW00013722', 'attributes': ',,W,2400', 'value': 300}, {'date': '2021-08-17T00:00:00', 'datatype': 'TMIN', 'station': 'GHCND:USW00013722', 'attributes': ',,W,2400', 'value': 228}, {'date': '2021-08-17T00:00:00', 'datatype': 'WDF2', 'station': 'GHCND:USW00013722', 'attributes': ',,W,', 'value': 140}, {'date': '2021-08-17T00:00:00', 'datatype': 'WDF5', 'station': 'GHCND:USW00013722', 'attributes': ',,W,', 'value': 140}, {'date': '2021-08-17T00:00:00', 'datatype': 'WSF2', 'station': 'GHCND:USW00013722', 'attributes': ',,W,', 'value': 89}, {'date': '2021-08-17T00:00:00', 'datatype': 'WSF5', 'station': 'GHCND:USW00013722', 'attributes': ',,W,', 'value': 107}, {'date': '2021-08-17T00:00:00', 'datatype': 'WT01', 'station': 'GHCND:USW00013722', 'attributes': ',,W,', 'value': 1}, {'date': '2021-08-17T00:00:00', 'datatype': 'WT02', 'station': 'GHCND:USW00013722', 'attributes': ',,W,', 'value': 1}, {'date': '2021-08-18T00:00:00', 'datatype': 'AWND', 'station': 'GHCND:USW00013722', 'attributes': ',,W,', 'value': 42}, {'date': '2021-08-18T00:00:00', 'datatype': 'PRCP', 'station': 'GHCND:USW00013722', 'attributes': ',,W,2400', 'value': 25}, {'date': '2021-08-18T00:00:00', 'datatype': 'SNOW', 'station': 'GHCND:USW00013722', 'attributes': ',,W,', 'value': 0}, {'date': '2021-08-18T00:00:00', 'datatype': 'SNWD', 'station': 'GHCND:USW00013722', 'attributes': ',,W,2400', 'value': 0}, {'date': '2021-08-18T00:00:00', 'datatype': 'TAVG', 'station': 'GHCND:USW00013722', 'attributes': 'H,,S,', 'value': 273}, {'date': '2021-08-18T00:00:00', 'datatype': 'TMAX', 'station': 'GHCND:USW00013722', 'attributes': ',,W,2400', 'value': 328}, {'date': '2021-08-18T00:00:00', 'datatype': 'TMIN', 'station': 'GHCND:USW00013722', 'attributes': ',,W,2400', 'value': 244}, {'date': '2021-08-18T00:00:00', 'datatype': 'WDF2', 'station': 'GHCND:USW00013722', 'attributes': ',,W,', 'value': 170}, {'date': '2021-08-18T00:00:00', 'datatype': 'WDF5', 'station': 'GHCND:USW00013722', 'attributes': ',,W,', 'value': 160}, {'date': '2021-08-18T00:00:00', 'datatype': 'WSF2', 'station': 'GHCND:USW00013722', 'attributes': ',,W,', 'value': 81}, {'date': '2021-08-18T00:00:00', 'datatype': 'WSF5', 'station': 'GHCND:USW00013722', 'attributes': ',,W,', 'value': 116}, {'date': '2021-08-18T00:00:00', 'datatype': 'WT01', 'station': 'GHCND:USW00013722', 'attributes': ',,W,', 'value': 1}, {'date': '2021-08-18T00:00:00', 'datatype': 'WT03', 'station': 'GHCND:USW00013722', 'attributes': ',,W,', 'value': 1}, {'date': '2021-08-19T00:00:00', 'datatype': 'AWND', 'station': 'GHCND:USW00013722', 'attributes': ',,W,', 'value': 17}, {'date': '2021-08-19T00:00:00', 'datatype': 'PRCP', 'station': 'GHCND:USW00013722', 'attributes': ',,W,2400', 'value': 112}, {'date': '2021-08-19T00:00:00', 'datatype': 'SNOW', 'station': 'GHCND:USW00013722', 'attributes': ',,W,', 'value': 0}, {'date': '2021-08-19T00:00:00', 'datatype': 'SNWD', 'station': 'GHCND:USW00013722', 'attributes': ',,W,2400', 'value': 0}, {'date': '2021-08-19T00:00:00', 'datatype': 'TAVG', 'station': 'GHCND:USW00013722', 'attributes': 'H,,S,', 'value': 282}, {'date': '2021-08-19T00:00:00', 'datatype': 'TMAX', 'station': 'GHCND:USW00013722', 'attributes': ',,W,2400', 'value': 344}, {'date': '2021-08-19T00:00:00', 'datatype': 'TMIN', 'station': 'GHCND:USW00013722', 'attributes': ',,W,2400', 'value': 228}, {'date': '2021-08-19T00:00:00', 'datatype': 'WDF2', 'station': 'GHCND:USW00013722', 'attributes': ',,W,', 'value': 230}, {'date': '2021-08-19T00:00:00', 'datatype': 'WDF5', 'station': 'GHCND:USW00013722', 'attributes': ',,W,', 'value': 230}, {'date': '2021-08-19T00:00:00', 'datatype': 'WSF2', 'station': 'GHCND:USW00013722', 'attributes': ',,W,', 'value': 134}, {'date': '2021-08-19T00:00:00', 'datatype': 'WSF5', 'station': 'GHCND:USW00013722', 'attributes': ',,W,', 'value': 165}, {'date': '2021-08-19T00:00:00', 'datatype': 'WT01', 'station': 'GHCND:USW00013722', 'attributes': ',,W,', 'value': 1}, {'date': '2021-08-19T00:00:00', 'datatype': 'WT03', 'station': 'GHCND:USW00013722', 'attributes': ',,W,', 'value': 1}, {'date': '2021-08-20T00:00:00', 'datatype': 'AWND', 'station': 'GHCND:USW00013722', 'attributes': ',,W,', 'value': 13}, {'date': '2021-08-20T00:00:00', 'datatype': 'PRCP', 'station': 'GHCND:USW00013722', 'attributes': ',,W,2400', 'value': 91}, {'date': '2021-08-20T00:00:00', 'datatype': 'SNOW', 'station': 'GHCND:USW00013722', 'attributes': ',,W,', 'value': 0}, {'date': '2021-08-20T00:00:00', 'datatype': 'SNWD', 'station': 'GHCND:USW00013722', 'attributes': ',,W,2400', 'value': 0}, {'date': '2021-08-20T00:00:00', 'datatype': 'TAVG', 'station': 'GHCND:USW00013722', 'attributes': 'H,,S,', 'value': 261}, {'date': '2021-08-20T00:00:00', 'datatype': 'TMAX', 'station': 'GHCND:USW00013722', 'attributes': ',,W,2400', 'value': 306}, {'date': '2021-08-20T00:00:00', 'datatype': 'TMIN', 'station': 'GHCND:USW00013722', 'attributes': ',,W,2400', 'value': 228}, {'date': '2021-08-20T00:00:00', 'datatype': 'WDF2', 'station': 'GHCND:USW00013722', 'attributes': ',,W,', 'value': 100}, {'date': '2021-08-20T00:00:00', 'datatype': 'WDF5', 'station': 'GHCND:USW00013722', 'attributes': ',,W,', 'value': 120}, {'date': '2021-08-20T00:00:00', 'datatype': 'WSF2', 'station': 'GHCND:USW00013722', 'attributes': ',,W,', 'value': 45}, {'date': '2021-08-20T00:00:00', 'datatype': 'WSF5', 'station': 'GHCND:USW00013722', 'attributes': ',,W,', 'value': 63}, {'date': '2021-08-20T00:00:00', 'datatype': 'WT01', 'station': 'GHCND:USW00013722', 'attributes': ',,W,', 'value': 1}, {'date': '2021-08-20T00:00:00', 'datatype': 'WT03', 'station': 'GHCND:USW00013722', 'attributes': ',,W,', 'value': 1}, {'date': '2021-08-21T00:00:00', 'datatype': 'AWND', 'station': 'GHCND:USW00013722', 'attributes': ',,W,', 'value': 13}, {'date': '2021-08-21T00:00:00', 'datatype': 'PRCP', 'station': 'GHCND:USW00013722', 'attributes': ',,W,2400', 'value': 0}, {'date': '2021-08-21T00:00:00', 'datatype': 'SNOW', 'station': 'GHCND:USW00013722', 'attributes': ',,W,', 'value': 0}, {'date': '2021-08-21T00:00:00', 'datatype': 'SNWD', 'station': 'GHCND:USW00013722', 'attributes': ',,W,2400', 'value': 0}, {'date': '2021-08-21T00:00:00', 'datatype': 'TAVG', 'station': 'GHCND:USW00013722', 'attributes': 'H,,S,', 'value': 257}, {'date': '2021-08-21T00:00:00', 'datatype': 'TMAX', 'station': 'GHCND:USW00013722', 'attributes': ',,W,2400', 'value': 311}, {'date': '2021-08-21T00:00:00', 'datatype': 'TMIN', 'station': 'GHCND:USW00013722', 'attributes': ',,W,2400', 'value': 222}, {'date': '2021-08-21T00:00:00', 'datatype': 'WDF2', 'station': 'GHCND:USW00013722', 'attributes': ',,W,', 'value': 300}, {'date': '2021-08-21T00:00:00', 'datatype': 'WDF5', 'station': 'GHCND:USW00013722', 'attributes': ',,W,', 'value': 260}, {'date': '2021-08-21T00:00:00', 'datatype': 'WSF2', 'station': 'GHCND:USW00013722', 'attributes': ',,W,', 'value': 45}, {'date': '2021-08-21T00:00:00', 'datatype': 'WSF5', 'station': 'GHCND:USW00013722', 'attributes': ',,W,', 'value': 67}, {'date': '2021-08-22T00:00:00', 'datatype': 'AWND', 'station': 'GHCND:USW00013722', 'attributes': ',,W,', 'value': 12}, {'date': '2021-08-22T00:00:00', 'datatype': 'PRCP', 'station': 'GHCND:USW00013722', 'attributes': ',,W,2400', 'value': 89}, {'date': '2021-08-22T00:00:00', 'datatype': 'SNOW', 'station': 'GHCND:USW00013722', 'attributes': ',,W,', 'value': 0}, {'date': '2021-08-22T00:00:00', 'datatype': 'SNWD', 'station': 'GHCND:USW00013722', 'attributes': ',,W,2400', 'value': 0}, {'date': '2021-08-22T00:00:00', 'datatype': 'TAVG', 'station': 'GHCND:USW00013722', 'attributes': 'H,,S,', 'value': 255}, {'date': '2021-08-22T00:00:00', 'datatype': 'TMAX', 'station': 'GHCND:USW00013722', 'attributes': ',,W,2400', 'value': 333}, {'date': '2021-08-22T00:00:00', 'datatype': 'TMIN', 'station': 'GHCND:USW00013722', 'attributes': ',,W,2400', 'value': 211}, {'date': '2021-08-22T00:00:00', 'datatype': 'WDF2', 'station': 'GHCND:USW00013722', 'attributes': ',,W,', 'value': 240}, {'date': '2021-08-22T00:00:00', 'datatype': 'WDF5', 'station': 'GHCND:USW00013722', 'attributes': ',,W,', 'value': 10}, {'date': '2021-08-22T00:00:00', 'datatype': 'WSF2', 'station': 'GHCND:USW00013722', 'attributes': ',,W,', 'value': 63}, {'date': '2021-08-22T00:00:00', 'datatype': 'WSF5', 'station': 'GHCND:USW00013722', 'attributes': ',,W,', 'value': 89}, {'date': '2021-08-22T00:00:00', 'datatype': 'WT01', 'station': 'GHCND:USW00013722', 'attributes': ',,W,', 'value': 1}, {'date': '2021-08-22T00:00:00', 'datatype': 'WT03', 'station': 'GHCND:USW00013722', 'attributes': ',,W,', 'value': 1}, {'date': '2021-08-23T00:00:00', 'datatype': 'AWND', 'station': 'GHCND:USW00013722', 'attributes': ',,W,', 'value': 9}, {'date': '2021-08-23T00:00:00', 'datatype': 'PRCP', 'station': 'GHCND:USW00013722', 'attributes': ',,W,2400', 'value': 0}, {'date': '2021-08-23T00:00:00', 'datatype': 'SNOW', 'station': 'GHCND:USW00013722', 'attributes': ',,W,', 'value': 0}, {'date': '2021-08-23T00:00:00', 'datatype': 'SNWD', 'station': 'GHCND:USW00013722', 'attributes': ',,W,2400', 'value': 0}, {'date': '2021-08-23T00:00:00', 'datatype': 'TAVG', 'station': 'GHCND:USW00013722', 'attributes': 'H,,S,', 'value': 254}, {'date': '2021-08-23T00:00:00', 'datatype': 'TMAX', 'station': 'GHCND:USW00013722', 'attributes': ',,W,2400', 'value': 333}, {'date': '2021-08-23T00:00:00', 'datatype': 'TMIN', 'station': 'GHCND:USW00013722', 'attributes': ',,W,2400', 'value': 200}, {'date': '2021-08-23T00:00:00', 'datatype': 'WDF2', 'station': 'GHCND:USW00013722', 'attributes': ',,W,', 'value': 250}, {'date': '2021-08-23T00:00:00', 'datatype': 'WDF5', 'station': 'GHCND:USW00013722', 'attributes': ',,W,', 'value': 260}, {'date': '2021-08-23T00:00:00', 'datatype': 'WSF2', 'station': 'GHCND:USW00013722', 'attributes': ',,W,', 'value': 40}, {'date': '2021-08-23T00:00:00', 'datatype': 'WSF5', 'station': 'GHCND:USW00013722', 'attributes': ',,W,', 'value': 54}, {'date': '2021-08-23T00:00:00', 'datatype': 'WT01', 'station': 'GHCND:USW00013722', 'attributes': ',,W,', 'value': 1}, {'date': '2021-08-24T00:00:00', 'datatype': 'AWND', 'station': 'GHCND:USW00013722', 'attributes': ',,W,', 'value': 11}, {'date': '2021-08-24T00:00:00', 'datatype': 'PRCP', 'station': 'GHCND:USW00013722', 'attributes': ',,W,2400', 'value': 0}, {'date': '2021-08-24T00:00:00', 'datatype': 'SNOW', 'station': 'GHCND:USW00013722', 'attributes': ',,W,', 'value': 0}, {'date': '2021-08-24T00:00:00', 'datatype': 'SNWD', 'station': 'GHCND:USW00013722', 'attributes': ',,W,2400', 'value': 0}, {'date': '2021-08-24T00:00:00', 'datatype': 'TAVG', 'station': 'GHCND:USW00013722', 'attributes': 'H,,S,', 'value': 278}, {'date': '2021-08-24T00:00:00', 'datatype': 'TMAX', 'station': 'GHCND:USW00013722', 'attributes': ',,W,2400', 'value': 344}, {'date': '2021-08-24T00:00:00', 'datatype': 'TMIN', 'station': 'GHCND:USW00013722', 'attributes': ',,W,2400', 'value': 222}, {'date': '2021-08-24T00:00:00', 'datatype': 'WDF2', 'station': 'GHCND:USW00013722', 'attributes': ',,W,', 'value': 140}, {'date': '2021-08-24T00:00:00', 'datatype': 'WDF5', 'station': 'GHCND:USW00013722', 'attributes': ',,W,', 'value': 150}, {'date': '2021-08-24T00:00:00', 'datatype': 'WSF2', 'station': 'GHCND:USW00013722', 'attributes': ',,W,', 'value': 40}, {'date': '2021-08-24T00:00:00', 'datatype': 'WSF5', 'station': 'GHCND:USW00013722', 'attributes': ',,W,', 'value': 58}, {'date': '2021-08-24T00:00:00', 'datatype': 'WT01', 'station': 'GHCND:USW00013722', 'attributes': ',,W,', 'value': 1}, {'date': '2021-08-25T00:00:00', 'datatype': 'AWND', 'station': 'GHCND:USW00013722', 'attributes': ',,W,', 'value': 10}, {'date': '2021-08-25T00:00:00', 'datatype': 'PRCP', 'station': 'GHCND:USW00013722', 'attributes': 'T,,W,2400', 'value': 0}, {'date': '2021-08-25T00:00:00', 'datatype': 'SNOW', 'station': 'GHCND:USW00013722', 'attributes': ',,W,', 'value': 0}, {'date': '2021-08-25T00:00:00', 'datatype': 'SNWD', 'station': 'GHCND:USW00013722', 'attributes': ',,W,2400', 'value': 0}, {'date': '2021-08-25T00:00:00', 'datatype': 'TAVG', 'station': 'GHCND:USW00013722', 'attributes': 'H,,S,', 'value': 275}, {'date': '2021-08-25T00:00:00', 'datatype': 'TMAX', 'station': 'GHCND:USW00013722', 'attributes': ',,W,2400', 'value': 350}, {'date': '2021-08-25T00:00:00', 'datatype': 'TMIN', 'station': 'GHCND:USW00013722', 'attributes': ',,W,2400', 'value': 222}, {'date': '2021-08-25T00:00:00', 'datatype': 'WDF2', 'station': 'GHCND:USW00013722', 'attributes': ',,W,', 'value': 120}, {'date': '2021-08-25T00:00:00', 'datatype': 'WDF5', 'station': 'GHCND:USW00013722', 'attributes': ',,W,', 'value': 120}, {'date': '2021-08-25T00:00:00', 'datatype': 'WSF2', 'station': 'GHCND:USW00013722', 'attributes': ',,W,', 'value': 81}, {'date': '2021-08-25T00:00:00', 'datatype': 'WSF5', 'station': 'GHCND:USW00013722', 'attributes': ',,W,', 'value': 103}, {'date': '2021-08-25T00:00:00', 'datatype': 'WT01', 'station': 'GHCND:USW00013722', 'attributes': ',,W,', 'value': 1}, {'date': '2021-08-25T00:00:00', 'datatype': 'WT03', 'station': 'GHCND:USW00013722', 'attributes': ',,W,', 'value': 1}, {'date': '2021-08-26T00:00:00', 'datatype': 'AWND', 'station': 'GHCND:USW00013722', 'attributes': ',,W,', 'value': 23}, {'date': '2021-08-26T00:00:00', 'datatype': 'PRCP', 'station': 'GHCND:USW00013722', 'attributes': ',,W,2400', 'value': 0}, {'date': '2021-08-26T00:00:00', 'datatype': 'SNOW', 'station': 'GHCND:USW00013722', 'attributes': ',,W,', 'value': 0}, {'date': '2021-08-26T00:00:00', 'datatype': 'SNWD', 'station': 'GHCND:USW00013722', 'attributes': ',,W,2400', 'value': 0}, {'date': '2021-08-26T00:00:00', 'datatype': 'TAVG', 'station': 'GHCND:USW00013722', 'attributes': 'H,,S,', 'value': 276}, {'date': '2021-08-26T00:00:00', 'datatype': 'TMAX', 'station': 'GHCND:USW00013722', 'attributes': ',,W,2400', 'value': 339}, {'date': '2021-08-26T00:00:00', 'datatype': 'TMIN', 'station': 'GHCND:USW00013722', 'attributes': ',,W,2400', 'value': 228}, {'date': '2021-08-26T00:00:00', 'datatype': 'WDF2', 'station': 'GHCND:USW00013722', 'attributes': ',,W,', 'value': 220}, {'date': '2021-08-26T00:00:00', 'datatype': 'WDF5', 'station': 'GHCND:USW00013722', 'attributes': ',,W,', 'value': 110}, {'date': '2021-08-26T00:00:00', 'datatype': 'WSF2', 'station': 'GHCND:USW00013722', 'attributes': ',,W,', 'value': 58}, {'date': '2021-08-26T00:00:00', 'datatype': 'WSF5', 'station': 'GHCND:USW00013722', 'attributes': ',,W,', 'value': 94}, {'date': '2021-08-26T00:00:00', 'datatype': 'WT01', 'station': 'GHCND:USW00013722', 'attributes': ',,W,', 'value': 1}, {'date': '2021-08-27T00:00:00', 'datatype': 'AWND', 'station': 'GHCND:USW00013722', 'attributes': ',,W,', 'value': 21}, {'date': '2021-08-27T00:00:00', 'datatype': 'PRCP', 'station': 'GHCND:USW00013722', 'attributes': ',,W,2400', 'value': 0}, {'date': '2021-08-27T00:00:00', 'datatype': 'SNOW', 'station': 'GHCND:USW00013722', 'attributes': ',,W,', 'value': 0}, {'date': '2021-08-27T00:00:00', 'datatype': 'SNWD', 'station': 'GHCND:USW00013722', 'attributes': ',,W,2400', 'value': 0}, {'date': '2021-08-27T00:00:00', 'datatype': 'TAVG', 'station': 'GHCND:USW00013722', 'attributes': 'H,,S,', 'value': 277}, {'date': '2021-08-27T00:00:00', 'datatype': 'TMAX', 'station': 'GHCND:USW00013722', 'attributes': ',,W,2400', 'value': 339}, {'date': '2021-08-27T00:00:00', 'datatype': 'TMIN', 'station': 'GHCND:USW00013722', 'attributes': ',,W,2400', 'value': 222}, {'date': '2021-08-27T00:00:00', 'datatype': 'WDF2', 'station': 'GHCND:USW00013722', 'attributes': ',,W,', 'value': 220}, {'date': '2021-08-27T00:00:00', 'datatype': 'WDF5', 'station': 'GHCND:USW00013722', 'attributes': ',,W,', 'value': 210}, {'date': '2021-08-27T00:00:00', 'datatype': 'WSF2', 'station': 'GHCND:USW00013722', 'attributes': ',,W,', 'value': 45}, {'date': '2021-08-27T00:00:00', 'datatype': 'WSF5', 'station': 'GHCND:USW00013722', 'attributes': ',,W,', 'value': 72}, {'date': '2021-08-28T00:00:00', 'datatype': 'AWND', 'station': 'GHCND:USW00013722', 'attributes': ',,W,', 'value': 22}, {'date': '2021-08-28T00:00:00', 'datatype': 'PRCP', 'station': 'GHCND:USW00013722', 'attributes': ',,W,2400', 'value': 0}, {'date': '2021-08-28T00:00:00', 'datatype': 'SNOW', 'station': 'GHCND:USW00013722', 'attributes': ',,W,', 'value': 0}, {'date': '2021-08-28T00:00:00', 'datatype': 'SNWD', 'station': 'GHCND:USW00013722', 'attributes': ',,W,2400', 'value': 0}, {'date': '2021-08-28T00:00:00', 'datatype': 'TAVG', 'station': 'GHCND:USW00013722', 'attributes': 'H,,S,', 'value': 283}, {'date': '2021-08-28T00:00:00', 'datatype': 'TMAX', 'station': 'GHCND:USW00013722', 'attributes': ',,W,2400', 'value': 350}, {'date': '2021-08-28T00:00:00', 'datatype': 'TMIN', 'station': 'GHCND:USW00013722', 'attributes': ',,W,2400', 'value': 228}, {'date': '2021-08-28T00:00:00', 'datatype': 'WDF2', 'station': 'GHCND:USW00013722', 'attributes': ',,W,', 'value': 230}, {'date': '2021-08-28T00:00:00', 'datatype': 'WDF5', 'station': 'GHCND:USW00013722', 'attributes': ',,W,', 'value': 230}, {'date': '2021-08-28T00:00:00', 'datatype': 'WSF2', 'station': 'GHCND:USW00013722', 'attributes': ',,W,', 'value': 58}, {'date': '2021-08-28T00:00:00', 'datatype': 'WSF5', 'station': 'GHCND:USW00013722', 'attributes': ',,W,', 'value': 67}, {'date': '2021-08-29T00:00:00', 'datatype': 'AWND', 'station': 'GHCND:USW00013722', 'attributes': ',,W,', 'value': 11}, {'date': '2021-08-29T00:00:00', 'datatype': 'PRCP', 'station': 'GHCND:USW00013722', 'attributes': ',,W,2400', 'value': 0}, {'date': '2021-08-29T00:00:00', 'datatype': 'SNOW', 'station': 'GHCND:USW00013722', 'attributes': ',,W,', 'value': 0}, {'date': '2021-08-29T00:00:00', 'datatype': 'SNWD', 'station': 'GHCND:USW00013722', 'attributes': ',,W,2400', 'value': 0}, {'date': '2021-08-29T00:00:00', 'datatype': 'TAVG', 'station': 'GHCND:USW00013722', 'attributes': 'H,,S,', 'value': 283}, {'date': '2021-08-29T00:00:00', 'datatype': 'TMAX', 'station': 'GHCND:USW00013722', 'attributes': ',,W,2400', 'value': 350}, {'date': '2021-08-29T00:00:00', 'datatype': 'TMIN', 'station': 'GHCND:USW00013722', 'attributes': ',,W,2400', 'value': 217}, {'date': '2021-08-29T00:00:00', 'datatype': 'WDF2', 'station': 'GHCND:USW00013722', 'attributes': ',,W,', 'value': 230}, {'date': '2021-08-29T00:00:00', 'datatype': 'WDF5', 'station': 'GHCND:USW00013722', 'attributes': ',,W,', 'value': 270}, {'date': '2021-08-29T00:00:00', 'datatype': 'WSF2', 'station': 'GHCND:USW00013722', 'attributes': ',,W,', 'value': 45}, {'date': '2021-08-29T00:00:00', 'datatype': 'WSF5', 'station': 'GHCND:USW00013722', 'attributes': ',,W,', 'value': 72}, {'date': '2021-08-30T00:00:00', 'datatype': 'AWND', 'station': 'GHCND:USW00013722', 'attributes': ',,W,', 'value': 22}, {'date': '2021-08-30T00:00:00', 'datatype': 'PRCP', 'station': 'GHCND:USW00013722', 'attributes': ',,W,2400', 'value': 0}, {'date': '2021-08-30T00:00:00', 'datatype': 'SNOW', 'station': 'GHCND:USW00013722', 'attributes': ',,W,', 'value': 0}, {'date': '2021-08-30T00:00:00', 'datatype': 'SNWD', 'station': 'GHCND:USW00013722', 'attributes': ',,W,2400', 'value': 0}, {'date': '2021-08-30T00:00:00', 'datatype': 'TAVG', 'station': 'GHCND:USW00013722', 'attributes': 'H,,S,', 'value': 285}, {'date': '2021-08-30T00:00:00', 'datatype': 'TMAX', 'station': 'GHCND:USW00013722', 'attributes': ',,W,2400', 'value': 356}, {'date': '2021-08-30T00:00:00', 'datatype': 'TMIN', 'station': 'GHCND:USW00013722', 'attributes': ',,W,2400', 'value': 222}, {'date': '2021-08-30T00:00:00', 'datatype': 'WDF2', 'station': 'GHCND:USW00013722', 'attributes': ',,W,', 'value': 200}, {'date': '2021-08-30T00:00:00', 'datatype': 'WDF5', 'station': 'GHCND:USW00013722', 'attributes': ',,W,', 'value': 210}, {'date': '2021-08-30T00:00:00', 'datatype': 'WSF2', 'station': 'GHCND:USW00013722', 'attributes': ',,W,', 'value': 63}, {'date': '2021-08-30T00:00:00', 'datatype': 'WSF5', 'station': 'GHCND:USW00013722', 'attributes': ',,W,', 'value': 76}, {'date': '2021-08-31T00:00:00', 'datatype': 'AWND', 'station': 'GHCND:USW00013722', 'attributes': ',,W,', 'value': 31}, {'date': '2021-08-31T00:00:00', 'datatype': 'PRCP', 'station': 'GHCND:USW00013722', 'attributes': ',,W,2400', 'value': 0}, {'date': '2021-08-31T00:00:00', 'datatype': 'SNOW', 'station': 'GHCND:USW00013722', 'attributes': ',,W,', 'value': 0}, {'date': '2021-08-31T00:00:00', 'datatype': 'SNWD', 'station': 'GHCND:USW00013722', 'attributes': ',,W,2400', 'value': 0}, {'date': '2021-08-31T00:00:00', 'datatype': 'TAVG', 'station': 'GHCND:USW00013722', 'attributes': 'H,,S,', 'value': 277}, {'date': '2021-08-31T00:00:00', 'datatype': 'TMAX', 'station': 'GHCND:USW00013722', 'attributes': ',,W,2400', 'value': 344}, {'date': '2021-08-31T00:00:00', 'datatype': 'TMIN', 'station': 'GHCND:USW00013722', 'attributes': ',,W,2400', 'value': 222}, {'date': '2021-08-31T00:00:00', 'datatype': 'WDF2', 'station': 'GHCND:USW00013722', 'attributes': ',,W,', 'value': 230}, {'date': '2021-08-31T00:00:00', 'datatype': 'WDF5', 'station': 'GHCND:USW00013722', 'attributes': ',,W,', 'value': 200}, {'date': '2021-08-31T00:00:00', 'datatype': 'WSF2', 'station': 'GHCND:USW00013722', 'attributes': ',,W,', 'value': 67}, {'date': '2021-08-31T00:00:00', 'datatype': 'WSF5', 'station': 'GHCND:USW00013722', 'attributes': ',,W,', 'value': 85}]\n"
     ]
    }
   ],
   "source": [
    "token = 'yvVNcupzVGtWZIfzsrEHKKJBCJpXjOGj'\n",
    "station_id = 'GHCND:USW00013722'\n",
    "datasetid = 'GHCND'\n",
    "startdate = '2021-08-01'\n",
    "enddate = '2021-08-31'\n",
    "limit = '500'\n",
    "response = get_weather(token,datasetid,station_id,startdate,enddate,limit)\n",
    "print(response)"
   ]
  },
  {
   "cell_type": "code",
   "execution_count": 20,
   "metadata": {
    "deletable": false,
    "editable": false,
    "nbgrader": {
     "cell_type": "code",
     "checksum": "535299a63154e9224cca2f5c12c379a5",
     "grade": true,
     "grade_id": "cell-124e404084ed7458",
     "locked": true,
     "points": 25,
     "schema_version": 3,
     "solution": false,
     "task": false
    }
   },
   "outputs": [
    {
     "ename": "ValueError",
     "evalue": "",
     "output_type": "error",
     "traceback": [
      "\u001b[1;31m---------------------------------------------------------------------------\u001b[0m",
      "\u001b[1;31mValueError\u001b[0m                                Traceback (most recent call last)",
      "\u001b[1;32m<ipython-input-20-bfae639dda24>\u001b[0m in \u001b[0;36m<module>\u001b[1;34m\u001b[0m\n\u001b[0;32m     10\u001b[0m \u001b[1;31m# End hidden tests\u001b[0m\u001b[1;33m\u001b[0m\u001b[1;33m\u001b[0m\u001b[1;33m\u001b[0m\u001b[0m\n\u001b[0;32m     11\u001b[0m \u001b[1;33m\u001b[0m\u001b[0m\n\u001b[1;32m---> 12\u001b[1;33m \u001b[0mresponse\u001b[0m \u001b[1;33m=\u001b[0m \u001b[0mget_weather\u001b[0m\u001b[1;33m(\u001b[0m\u001b[0mtoken\u001b[0m\u001b[1;33m,\u001b[0m\u001b[0mdatasetid\u001b[0m\u001b[1;33m,\u001b[0m\u001b[0mstation_id\u001b[0m\u001b[1;33m,\u001b[0m\u001b[0mstartdate\u001b[0m\u001b[1;33m,\u001b[0m\u001b[0menddate\u001b[0m\u001b[1;33m,\u001b[0m\u001b[0mlimit\u001b[0m\u001b[1;33m)\u001b[0m\u001b[1;33m\u001b[0m\u001b[1;33m\u001b[0m\u001b[0m\n\u001b[0m\u001b[0;32m     13\u001b[0m \u001b[0mprint\u001b[0m\u001b[1;33m(\u001b[0m\u001b[0mresponse\u001b[0m\u001b[1;33m)\u001b[0m\u001b[1;33m\u001b[0m\u001b[1;33m\u001b[0m\u001b[0m\n",
      "\u001b[1;32m<ipython-input-18-8988a0484a86>\u001b[0m in \u001b[0;36mget_weather\u001b[1;34m(token, datasetid, station_id, startdate, enddate, limit)\u001b[0m\n\u001b[0;32m      2\u001b[0m \u001b[1;33m\u001b[0m\u001b[0m\n\u001b[0;32m      3\u001b[0m     \u001b[1;32mif\u001b[0m \u001b[1;33m(\u001b[0m\u001b[0mtoken\u001b[0m\u001b[1;33m==\u001b[0m\u001b[1;32mNone\u001b[0m\u001b[1;33m)\u001b[0m \u001b[1;32mor\u001b[0m \u001b[1;33m(\u001b[0m\u001b[0mstation_id\u001b[0m\u001b[1;33m==\u001b[0m\u001b[1;32mNone\u001b[0m\u001b[1;33m)\u001b[0m\u001b[1;33m:\u001b[0m\u001b[1;33m\u001b[0m\u001b[1;33m\u001b[0m\u001b[0m\n\u001b[1;32m----> 4\u001b[1;33m         \u001b[1;32mraise\u001b[0m \u001b[0mValueError\u001b[0m\u001b[1;33m\u001b[0m\u001b[1;33m\u001b[0m\u001b[0m\n\u001b[0m\u001b[0;32m      5\u001b[0m \u001b[1;33m\u001b[0m\u001b[0m\n\u001b[0;32m      6\u001b[0m     \u001b[1;31m# YOUR CODE HERE\u001b[0m\u001b[1;33m\u001b[0m\u001b[1;33m\u001b[0m\u001b[1;33m\u001b[0m\u001b[0m\n",
      "\u001b[1;31mValueError\u001b[0m: "
     ]
    }
   ],
   "source": [
    "# Test cell\n",
    "datasetid = 'GHCND'\n",
    "startdate = '2021-08-01'\n",
    "enddate = '2021-08-31'\n",
    "limit = '500'\n",
    "token = None # Replace this with your token here.  You can remove it if you like prior to submitting, I will use mine for grading\n",
    "station_id = None # Replace this with station id\n",
    "\n",
    "# Start hidden tests\n",
    "# End hidden tests\n",
    "\n",
    "response = get_weather(token,datasetid,station_id,startdate,enddate,limit)\n",
    "print(response)"
   ]
  },
  {
   "cell_type": "markdown",
   "metadata": {
    "deletable": false,
    "editable": false,
    "nbgrader": {
     "cell_type": "markdown",
     "checksum": "8b044ac86ef61fc582389600753a39df",
     "grade": false,
     "grade_id": "cell-3a72af237bc2fb1a",
     "locked": true,
     "schema_version": 3,
     "solution": false,
     "task": false
    }
   },
   "source": [
    "### Question 1.1\n",
    "We now need to convert our raw response data into a pandas DataFrame to perform analysis on it.  We have a number of weather parameters included in our data which you can read about [here](https://www.ncei.noaa.gov/data/global-historical-climatology-network-daily/doc/GHCND_documentation.pdf).\n",
    "\n",
    "Complete the function `create_df()` which converts the json response data into a pandas DataFrame for analysis.  Your function should do the following:  \n",
    "- Convert 'response' into a pandas DataFrame. \n",
    "- Convert the 'date' column from strings to pandas datetime format\n",
    "- Filter to only the three columns we need: 'date','datatype', and 'value'  \n",
    "- You will notice that 'datatype' contains the weather parameter names and 'value' contains their value each day.  Use the [pivot](https://pandas.pydata.org/docs/reference/api/pandas.DataFrame.pivot.html) method to reshape your dataframe so that the columns of your dataframe are the weather parameters contained in the 'datatype' column, and the cells of the dataframe contain their values from the 'value' column.  Set the index of the reshaped dataframe to be the 'date' column\n",
    "- You will notice that our temperature columns ('TAVG','TMAX','TMIN') are in units of tenths of degrees Celsius.  Let's convert these into degrees Fahrenheit (deg_F = 9/5 * deg_C + 32)\n",
    "\n",
    "Your function should return your reshaped DataFrame (which should have the date as index and contain 15 columns representing the weather parameters)."
   ]
  },
  {
   "cell_type": "code",
   "execution_count": 21,
   "metadata": {
    "deletable": false,
    "nbgrader": {
     "cell_type": "code",
     "checksum": "fdbd76f117b2ec5b622268bd91040ee0",
     "grade": false,
     "grade_id": "cell-55fb35f46a22fcf4",
     "locked": false,
     "schema_version": 3,
     "solution": true,
     "task": false
    }
   },
   "outputs": [],
   "source": [
    "def create_df(response):\n",
    "    \n",
    "    # YOUR CODE HERE\n",
    "    df_weather = pd.DataFrame.from_dict(response, orient='columns')\n",
    "    df_weather['date'] = pd.to_datetime(df_weather['date'])\n",
    "    #　pd.to_datetime('13000101', format='%Y%m%d', errors='ignore')\n",
    "    df_weather = df_weather[['date','datatype', 'value']]\n",
    "    df_pivoted = df_weather.pivot(index=\"date\", columns=\"datatype\")\n",
    "    df_pivoted.columns = df_pivoted.columns.droplevel()\n",
    "    df_pivoted[['TAVG','TMAX','TMIN']] = df_pivoted[['TAVG','TMAX','TMIN']].apply(lambda x: (9/5 * x + 32)/10 )\n",
    "    \n",
    "    return df_pivoted\n",
    "    raise NotImplementedError()"
   ]
  },
  {
   "cell_type": "code",
   "execution_count": 22,
   "metadata": {
    "deletable": false,
    "editable": false,
    "nbgrader": {
     "cell_type": "code",
     "checksum": "54a7d8a30569357a426ea00ba6d987a3",
     "grade": true,
     "grade_id": "cell-eeb0978ccd622c95",
     "locked": true,
     "points": 15,
     "schema_version": 3,
     "solution": false,
     "task": false
    }
   },
   "outputs": [
    {
     "data": {
      "text/html": [
       "<div>\n",
       "<style scoped>\n",
       "    .dataframe tbody tr th:only-of-type {\n",
       "        vertical-align: middle;\n",
       "    }\n",
       "\n",
       "    .dataframe tbody tr th {\n",
       "        vertical-align: top;\n",
       "    }\n",
       "\n",
       "    .dataframe thead th {\n",
       "        text-align: right;\n",
       "    }\n",
       "</style>\n",
       "<table border=\"1\" class=\"dataframe\">\n",
       "  <thead>\n",
       "    <tr style=\"text-align: right;\">\n",
       "      <th>datatype</th>\n",
       "      <th>AWND</th>\n",
       "      <th>PRCP</th>\n",
       "      <th>SNOW</th>\n",
       "      <th>SNWD</th>\n",
       "      <th>TAVG</th>\n",
       "      <th>TMAX</th>\n",
       "      <th>TMIN</th>\n",
       "      <th>WDF2</th>\n",
       "      <th>WDF5</th>\n",
       "      <th>WSF2</th>\n",
       "      <th>WSF5</th>\n",
       "      <th>WT01</th>\n",
       "      <th>WT02</th>\n",
       "      <th>WT03</th>\n",
       "    </tr>\n",
       "    <tr>\n",
       "      <th>date</th>\n",
       "      <th></th>\n",
       "      <th></th>\n",
       "      <th></th>\n",
       "      <th></th>\n",
       "      <th></th>\n",
       "      <th></th>\n",
       "      <th></th>\n",
       "      <th></th>\n",
       "      <th></th>\n",
       "      <th></th>\n",
       "      <th></th>\n",
       "      <th></th>\n",
       "      <th></th>\n",
       "      <th></th>\n",
       "    </tr>\n",
       "  </thead>\n",
       "  <tbody>\n",
       "    <tr>\n",
       "      <th>2021-08-01</th>\n",
       "      <td>18.0</td>\n",
       "      <td>0.0</td>\n",
       "      <td>0.0</td>\n",
       "      <td>NaN</td>\n",
       "      <td>52.88</td>\n",
       "      <td>62.24</td>\n",
       "      <td>46.22</td>\n",
       "      <td>350.0</td>\n",
       "      <td>30.0</td>\n",
       "      <td>54.0</td>\n",
       "      <td>85.0</td>\n",
       "      <td>1.0</td>\n",
       "      <td>NaN</td>\n",
       "      <td>NaN</td>\n",
       "    </tr>\n",
       "    <tr>\n",
       "      <th>2021-08-02</th>\n",
       "      <td>32.0</td>\n",
       "      <td>0.0</td>\n",
       "      <td>0.0</td>\n",
       "      <td>0.0</td>\n",
       "      <td>49.10</td>\n",
       "      <td>56.12</td>\n",
       "      <td>40.28</td>\n",
       "      <td>50.0</td>\n",
       "      <td>50.0</td>\n",
       "      <td>72.0</td>\n",
       "      <td>89.0</td>\n",
       "      <td>NaN</td>\n",
       "      <td>NaN</td>\n",
       "      <td>NaN</td>\n",
       "    </tr>\n",
       "    <tr>\n",
       "      <th>2021-08-03</th>\n",
       "      <td>32.0</td>\n",
       "      <td>28.0</td>\n",
       "      <td>0.0</td>\n",
       "      <td>0.0</td>\n",
       "      <td>43.52</td>\n",
       "      <td>46.22</td>\n",
       "      <td>37.22</td>\n",
       "      <td>50.0</td>\n",
       "      <td>100.0</td>\n",
       "      <td>63.0</td>\n",
       "      <td>98.0</td>\n",
       "      <td>1.0</td>\n",
       "      <td>NaN</td>\n",
       "      <td>NaN</td>\n",
       "    </tr>\n",
       "    <tr>\n",
       "      <th>2021-08-04</th>\n",
       "      <td>36.0</td>\n",
       "      <td>8.0</td>\n",
       "      <td>0.0</td>\n",
       "      <td>0.0</td>\n",
       "      <td>42.26</td>\n",
       "      <td>52.16</td>\n",
       "      <td>37.22</td>\n",
       "      <td>40.0</td>\n",
       "      <td>50.0</td>\n",
       "      <td>76.0</td>\n",
       "      <td>98.0</td>\n",
       "      <td>1.0</td>\n",
       "      <td>NaN</td>\n",
       "      <td>NaN</td>\n",
       "    </tr>\n",
       "    <tr>\n",
       "      <th>2021-08-05</th>\n",
       "      <td>20.0</td>\n",
       "      <td>0.0</td>\n",
       "      <td>0.0</td>\n",
       "      <td>0.0</td>\n",
       "      <td>45.32</td>\n",
       "      <td>57.20</td>\n",
       "      <td>33.26</td>\n",
       "      <td>80.0</td>\n",
       "      <td>80.0</td>\n",
       "      <td>63.0</td>\n",
       "      <td>85.0</td>\n",
       "      <td>NaN</td>\n",
       "      <td>NaN</td>\n",
       "      <td>NaN</td>\n",
       "    </tr>\n",
       "  </tbody>\n",
       "</table>\n",
       "</div>"
      ],
      "text/plain": [
       "datatype    AWND  PRCP  SNOW  SNWD   TAVG   TMAX   TMIN   WDF2   WDF5  WSF2  \\\n",
       "date                                                                          \n",
       "2021-08-01  18.0   0.0   0.0   NaN  52.88  62.24  46.22  350.0   30.0  54.0   \n",
       "2021-08-02  32.0   0.0   0.0   0.0  49.10  56.12  40.28   50.0   50.0  72.0   \n",
       "2021-08-03  32.0  28.0   0.0   0.0  43.52  46.22  37.22   50.0  100.0  63.0   \n",
       "2021-08-04  36.0   8.0   0.0   0.0  42.26  52.16  37.22   40.0   50.0  76.0   \n",
       "2021-08-05  20.0   0.0   0.0   0.0  45.32  57.20  33.26   80.0   80.0  63.0   \n",
       "\n",
       "datatype    WSF5  WT01  WT02  WT03  \n",
       "date                                \n",
       "2021-08-01  85.0   1.0   NaN   NaN  \n",
       "2021-08-02  89.0   NaN   NaN   NaN  \n",
       "2021-08-03  98.0   1.0   NaN   NaN  \n",
       "2021-08-04  98.0   1.0   NaN   NaN  \n",
       "2021-08-05  85.0   NaN   NaN   NaN  "
      ]
     },
     "metadata": {},
     "output_type": "display_data"
    }
   ],
   "source": [
    "# Test cell\n",
    "df = create_df(response)\n",
    "display(df.head())\n"
   ]
  },
  {
   "cell_type": "markdown",
   "metadata": {
    "deletable": false,
    "editable": false,
    "nbgrader": {
     "cell_type": "markdown",
     "checksum": "99133d3ee27b4930b59a80d7573e8851",
     "grade": false,
     "grade_id": "cell-bffcdc5aeb49857e",
     "locked": true,
     "schema_version": 3,
     "solution": false,
     "task": false
    }
   },
   "source": [
    "### Question 1.2\n",
    "Let's now do a bit of analysis on our data by identifying which day during the month had the hottest maximum temperature.  Complete the below function `find_hottest_day()` which takes the dataframe of weather data for the month (the output of `create_df()`) as input and returns the date with the highest maximum temperature, **as a string in the exact format 'YYYY-MM-DD'**.  If there were multiple days in the month with the same max temperature, your function should return the earliest date."
   ]
  },
  {
   "cell_type": "code",
   "execution_count": 23,
   "metadata": {
    "deletable": false,
    "nbgrader": {
     "cell_type": "code",
     "checksum": "166f5539cadffda6a83c799c66ca98f1",
     "grade": false,
     "grade_id": "cell-fea6ece3847b4a3e",
     "locked": false,
     "schema_version": 3,
     "solution": true,
     "task": false
    }
   },
   "outputs": [],
   "source": [
    "def find_hottest_day(df):\n",
    "    \n",
    "    # YOUR CODE HERE\n",
    "    df = df.sort_values(by=['TMAX', 'date'], ascending=[False, True])\n",
    "    ts = df.index.strftime('%Y-%m-%d').get_level_values(0).values[0]\n",
    "    return str(ts)\n",
    "    raise NotImplementedError()"
   ]
  },
  {
   "cell_type": "code",
   "execution_count": 24,
   "metadata": {
    "deletable": false,
    "editable": false,
    "nbgrader": {
     "cell_type": "code",
     "checksum": "51989c2c11c2f1acca698d6027903173",
     "grade": true,
     "grade_id": "cell-a06910075eaba06b",
     "locked": true,
     "points": 10,
     "schema_version": 3,
     "solution": false,
     "task": false
    }
   },
   "outputs": [
    {
     "name": "stdout",
     "output_type": "stream",
     "text": [
      "Your function found the hottest day was 2021-08-13\n"
     ]
    }
   ],
   "source": [
    "# Test cell\n",
    "day = find_hottest_day(df)\n",
    "print('Your function found the hottest day was {}'.format(day))\n"
   ]
  },
  {
   "cell_type": "markdown",
   "metadata": {
    "deletable": false,
    "editable": false,
    "nbgrader": {
     "cell_type": "markdown",
     "checksum": "5917bf0320a71bb147368b3814ad6012",
     "grade": false,
     "grade_id": "cell-c4284c0ae29e0c7a",
     "locked": true,
     "schema_version": 3,
     "solution": false,
     "task": false
    }
   },
   "source": [
    "# Part 2: Web Scraping\n",
    "## Exploring H1B jobs and salaries\n",
    "When U.S. companies want to hire skilled foreign workers, they apply to the U.S. government for an H1B visa on behalf of the employee to be able to live and work in the country.  Certain data from all H1B visa applications, including location, job title, and salary, are publically available.  The website H1B Visa Salary Database (https://h1bdata.info/index.php) has compiled this information for all visa applications across the country from 2012-2019. We will use this dataset to perform some basic analysis of jobs obtained by H1B workers."
   ]
  },
  {
   "cell_type": "markdown",
   "metadata": {
    "deletable": false,
    "editable": false,
    "nbgrader": {
     "cell_type": "markdown",
     "checksum": "bbaf9890f751a153a55987113321ea01",
     "grade": false,
     "grade_id": "cell-d1fc330e0d87a8d3",
     "locked": true,
     "schema_version": 3,
     "solution": false,
     "task": false
    }
   },
   "source": [
    "### Question 2.0\n",
    "Look at the website and determine the api call format.  Create the url to access all jobs for all employers for the city of Raleigh for all years available.  Save the url as a string variable `data_url`"
   ]
  },
  {
   "cell_type": "code",
   "execution_count": 29,
   "metadata": {
    "deletable": false,
    "nbgrader": {
     "cell_type": "code",
     "checksum": "fe5bb5ec7b4bdb4306afc2d03d9fd340",
     "grade": false,
     "grade_id": "cell-15221857a3d78659",
     "locked": false,
     "schema_version": 3,
     "solution": true,
     "task": false
    }
   },
   "outputs": [],
   "source": [
    "city = 'RALEIGH'\n",
    "\n",
    "# YOUR CODE HERE\n",
    "data_url = f'https://h1bdata.info/index.php?em=&job=&city={city}&year=All+Years'\n"
   ]
  },
  {
   "cell_type": "code",
   "execution_count": 30,
   "metadata": {
    "deletable": false,
    "editable": false,
    "nbgrader": {
     "cell_type": "code",
     "checksum": "d84c023bd938f4b039d75138a50dd50e",
     "grade": true,
     "grade_id": "cell-a374fdde0c097e94",
     "locked": true,
     "points": 5,
     "schema_version": 3,
     "solution": false,
     "task": false
    }
   },
   "outputs": [],
   "source": [
    "# Test cell - hidden test below"
   ]
  },
  {
   "cell_type": "markdown",
   "metadata": {
    "deletable": false,
    "editable": false,
    "nbgrader": {
     "cell_type": "markdown",
     "checksum": "edf1b4207686401e9e2ee293ec845898",
     "grade": false,
     "grade_id": "cell-2c51671a98e65ac6",
     "locked": true,
     "schema_version": 3,
     "solution": false,
     "task": false
    }
   },
   "source": [
    "### Question 2.1\n",
    "Write a function `get_jobs()` that takes as input the url you just created, and uses BeautifulSoup to extract the contents of the page, find the table of jobs, and extract the header and contents of the table into a pandas dataframe called `jobs_df` which it returns from the function. The returned DataFrame `jobs_df` should contain the following columns: 'EMPLOYER','JOB TITLE','BASE SALARY','LOCATION','SUBMIT DATE','START DATE','CASE STATUS'."
   ]
  },
  {
   "cell_type": "code",
   "execution_count": 31,
   "metadata": {
    "deletable": false,
    "nbgrader": {
     "cell_type": "code",
     "checksum": "7eb33b7fd667e040a0f3c7c08c3b4cc0",
     "grade": false,
     "grade_id": "cell-85298424717457e7",
     "locked": false,
     "schema_version": 3,
     "solution": true,
     "task": false
    }
   },
   "outputs": [],
   "source": [
    "# One way to approach writing this function might be as follows:\n",
    "#   Request the page and use BeautifulSoup to extract the contents\n",
    "#   Find the table of jobs on the page using its class\n",
    "#   Get all rows in the table\n",
    "#   Extract the header from the first row \n",
    "#   Extract the table contents from the rest of the rows into a list of lists by looping over the rows and contents of each row\n",
    "#   Convert the list of lists into a pandas dataframe using the header as the column names\n",
    "\n",
    "def get_jobs(data_url):\n",
    "    \n",
    "    # YOUR CODE HERE\n",
    "    page = requests.get(data_url)\n",
    "    soup = BeautifulSoup(page.content, 'html.parser')\n",
    "    rows = soup.find('tbody').find_all('tr')\n",
    "    new_rows = rows[0].find_all('td')\n",
    "    df_list = []\n",
    "    for r in rows:\n",
    "        new_rows = r.find_all('td')\n",
    "        if new_rows[0].find('a') != None:\n",
    "            final_row = [\n",
    "              new_rows[0].find('a').text,\n",
    "              new_rows[1].find('a').text,\n",
    "              new_rows[2].text,\n",
    "              new_rows[3].find('a').text,\n",
    "              new_rows[4].text,\n",
    "              new_rows[5].text,\n",
    "              new_rows[6].text ] \n",
    "            df_list.append(final_row)\n",
    "    df = pd.DataFrame( df_list, columns= [ 'EMPLOYER','JOB TITLE','BASE SALARY','LOCATION','SUBMIT DATE','START DATE','CASE STATUS']   )\n",
    "    return df \n",
    "    raise NotImplementedError()\n",
    "    "
   ]
  },
  {
   "cell_type": "code",
   "execution_count": 32,
   "metadata": {
    "deletable": false,
    "editable": false,
    "nbgrader": {
     "cell_type": "code",
     "checksum": "f5cea1da24f2681580ef7fb9f2dab793",
     "grade": true,
     "grade_id": "cell-3d6c3b1778bd0c89",
     "locked": true,
     "points": 15,
     "schema_version": 3,
     "solution": false,
     "task": false
    }
   },
   "outputs": [
    {
     "data": {
      "text/html": [
       "<div>\n",
       "<style scoped>\n",
       "    .dataframe tbody tr th:only-of-type {\n",
       "        vertical-align: middle;\n",
       "    }\n",
       "\n",
       "    .dataframe tbody tr th {\n",
       "        vertical-align: top;\n",
       "    }\n",
       "\n",
       "    .dataframe thead th {\n",
       "        text-align: right;\n",
       "    }\n",
       "</style>\n",
       "<table border=\"1\" class=\"dataframe\">\n",
       "  <thead>\n",
       "    <tr style=\"text-align: right;\">\n",
       "      <th></th>\n",
       "      <th>EMPLOYER</th>\n",
       "      <th>JOB TITLE</th>\n",
       "      <th>BASE SALARY</th>\n",
       "      <th>LOCATION</th>\n",
       "      <th>SUBMIT DATE</th>\n",
       "      <th>START DATE</th>\n",
       "      <th>CASE STATUS</th>\n",
       "    </tr>\n",
       "  </thead>\n",
       "  <tbody>\n",
       "    <tr>\n",
       "      <th>0</th>\n",
       "      <td>ALLSCRIPTS SOFTWARE LLC</td>\n",
       "      <td></td>\n",
       "      <td>110,698</td>\n",
       "      <td>RALEIGH, NC</td>\n",
       "      <td>05/18/2016</td>\n",
       "      <td>09/16/2016</td>\n",
       "      <td>DENIED</td>\n",
       "    </tr>\n",
       "    <tr>\n",
       "      <th>1</th>\n",
       "      <td>BRIDGERA LLC</td>\n",
       "      <td>.NET ARCHITECT</td>\n",
       "      <td>110,000</td>\n",
       "      <td>RALEIGH, NC</td>\n",
       "      <td>06/21/2016</td>\n",
       "      <td>06/21/2016</td>\n",
       "      <td>WITHDRAWN</td>\n",
       "    </tr>\n",
       "    <tr>\n",
       "      <th>2</th>\n",
       "      <td>BRIDGERA LLC</td>\n",
       "      <td>.NET ARCHITECT</td>\n",
       "      <td>110,000</td>\n",
       "      <td>RALEIGH, NC</td>\n",
       "      <td>06/21/2016</td>\n",
       "      <td>06/21/2016</td>\n",
       "      <td>CERTIFIED</td>\n",
       "    </tr>\n",
       "    <tr>\n",
       "      <th>3</th>\n",
       "      <td>EXA DATA SOLUTIONS INC</td>\n",
       "      <td>.NET DEV PROGRAMMER</td>\n",
       "      <td>85,426</td>\n",
       "      <td>RALEIGH, NC</td>\n",
       "      <td>03/03/2019</td>\n",
       "      <td>08/20/2019</td>\n",
       "      <td>CERTIFIED</td>\n",
       "    </tr>\n",
       "    <tr>\n",
       "      <th>4</th>\n",
       "      <td>REALSOFT TECHNOLOGIES LLC</td>\n",
       "      <td>.NET DEVELOPER</td>\n",
       "      <td>60,000</td>\n",
       "      <td>RALEIGH, NC</td>\n",
       "      <td>03/11/2015</td>\n",
       "      <td>09/10/2015</td>\n",
       "      <td>CERTIFIED</td>\n",
       "    </tr>\n",
       "  </tbody>\n",
       "</table>\n",
       "</div>"
      ],
      "text/plain": [
       "                    EMPLOYER            JOB TITLE BASE SALARY     LOCATION  \\\n",
       "0    ALLSCRIPTS SOFTWARE LLC                          110,698  RALEIGH, NC   \n",
       "1               BRIDGERA LLC       .NET ARCHITECT     110,000  RALEIGH, NC   \n",
       "2               BRIDGERA LLC       .NET ARCHITECT     110,000  RALEIGH, NC   \n",
       "3     EXA DATA SOLUTIONS INC  .NET DEV PROGRAMMER      85,426  RALEIGH, NC   \n",
       "4  REALSOFT TECHNOLOGIES LLC       .NET DEVELOPER      60,000  RALEIGH, NC   \n",
       "\n",
       "  SUBMIT DATE  START DATE CASE STATUS  \n",
       "0  05/18/2016  09/16/2016      DENIED  \n",
       "1  06/21/2016  06/21/2016   WITHDRAWN  \n",
       "2  06/21/2016  06/21/2016   CERTIFIED  \n",
       "3  03/03/2019  08/20/2019   CERTIFIED  \n",
       "4  03/11/2015  09/10/2015   CERTIFIED  "
      ]
     },
     "metadata": {},
     "output_type": "display_data"
    }
   ],
   "source": [
    "# Test cell\n",
    "jobs_df = get_jobs(data_url)\n",
    "display(jobs_df.head())\n",
    "\n",
    "# Hidden tests below"
   ]
  },
  {
   "cell_type": "markdown",
   "metadata": {
    "deletable": false,
    "editable": false,
    "nbgrader": {
     "cell_type": "markdown",
     "checksum": "fe252b28bbab6a84137f6842fd300b3f",
     "grade": false,
     "grade_id": "cell-d9f228f45c69be3b",
     "locked": true,
     "schema_version": 3,
     "solution": false,
     "task": false
    }
   },
   "source": [
    "### Question 2.2\n",
    "We now have our data organized in a dataframe. Let's clean it up a bit by doing the following:  \n",
    "- Drop any rows from the dataframe which contain null values (hint: use `dropna()`)\n",
    "- Create a new column 'YEAR' which stores the year of each application as an integer  \n",
    "- Convert the 'BASE SALARY' column to integer to be able to work with it (hint: before we convert to integer we must first remove the commas in the string numbers. For this we can use pandas replace(regex=True) and replace commas with '')  \n",
    "- Filter the dataframe to contain only jobs where 'CASE STATUS' is \"CERTIFIED\"  \n",
    "- Simplify our dataframe to contain only the columns EMPLOYER, JOB TITLE, BASE SALARY, LOCATION, and YEAR  \n",
    "\n",
    "Write a function `clean_df()` which takes as input a dataframe (jobs_df) and performs the above operations.  The function should return the cleaned and filtered dataframe."
   ]
  },
  {
   "cell_type": "code",
   "execution_count": 33,
   "metadata": {
    "deletable": false,
    "nbgrader": {
     "cell_type": "code",
     "checksum": "c736f26437fd7d51e0cc3dab56559219",
     "grade": false,
     "grade_id": "cell-32d018c9d78be4e1",
     "locked": false,
     "schema_version": 3,
     "solution": true,
     "task": false
    }
   },
   "outputs": [],
   "source": [
    "def clean_df(jobs_df):\n",
    "    \n",
    "    # YOUR CODE HERE\n",
    "    df = jobs_df.replace('', np.nan)\n",
    "    df = jobs_df.dropna(axis=0, how=\"any\")\n",
    "    df['YEAR'] = pd.to_datetime(df['SUBMIT DATE']).apply(lambda x: int(x.year))\n",
    "    df['BASE SALARY'] = df['BASE SALARY'].str.replace(',', '', regex= True).astype(int)\n",
    "    df = df.loc[ df['CASE STATUS'] == 'CERTIFIED' ]\n",
    "    df = df[['EMPLOYER', 'JOB TITLE', 'BASE SALARY', 'LOCATION', 'YEAR']]\n",
    "    return df\n",
    "    raise NotImplementedError()\n",
    "    "
   ]
  },
  {
   "cell_type": "code",
   "execution_count": 34,
   "metadata": {
    "deletable": false,
    "editable": false,
    "nbgrader": {
     "cell_type": "code",
     "checksum": "1ae25f04fe5a83f3bf7dc500ae4728a3",
     "grade": true,
     "grade_id": "cell-a8549f3adb56df87",
     "locked": true,
     "points": 15,
     "schema_version": 3,
     "solution": false,
     "task": false
    }
   },
   "outputs": [
    {
     "name": "stdout",
     "output_type": "stream",
     "text": [
      "There are 2606 unique job roles in the table \n",
      "\n",
      "Most common job titles:\n"
     ]
    },
    {
     "data": {
      "text/plain": [
       "SOFTWARE ENGINEER                      502\n",
       "SOFTWARE DEVELOPER                     407\n",
       "SENIOR SYSTEMS ANALYST JC60            317\n",
       "SENIOR SOFTWARE ENGINEER               236\n",
       "PROGRAMMER ANALYST                     216\n",
       "POSTDOCTORAL RESEARCH SCHOLAR          184\n",
       "TECHNOLOGY LEAD - US - PRACTITIONER    157\n",
       "MANAGER JC50                           157\n",
       "ASSISTANT PROFESSOR                    154\n",
       "SYSTEMS ANALYST                        106\n",
       "Name: JOB TITLE, dtype: int64"
      ]
     },
     "metadata": {},
     "output_type": "display_data"
    }
   ],
   "source": [
    "cleanjobs_df = clean_df(jobs_df)\n",
    "print('There are {} unique job roles in the table \\n'.format(cleanjobs_df['JOB TITLE'].nunique()))\n",
    "print('Most common job titles:')\n",
    "display(cleanjobs_df['JOB TITLE'].value_counts()[:10])\n",
    "\n",
    "# Hidden tests below"
   ]
  },
  {
   "cell_type": "markdown",
   "metadata": {
    "deletable": false,
    "editable": false,
    "nbgrader": {
     "cell_type": "markdown",
     "checksum": "af533e180d130eecd9344287a3d986be",
     "grade": false,
     "grade_id": "cell-8de8f27f8ff3ba40",
     "locked": true,
     "schema_version": 3,
     "solution": false,
     "task": false
    }
   },
   "source": [
    "### Question 2.3\n",
    "Let's see which job title has the highest median salary in a given year, **out of all jobs titles that appear at least 5 times in the year**.\n",
    "\n",
    "Complete the below function `highest_paid_job()` which takes as input the cleaned dataframe (the output of `clean_df()`) and a year, and returns a **list of the three job titles** with the highest median salary that year, ordered with the highest median salary role first.  However, when we do this calculation we will only include job roles which appear at least 5 times within the year (because otherwise our answer may be skewed by a position for which only 1-2 candidates were hired at a very high salary)."
   ]
  },
  {
   "cell_type": "code",
   "execution_count": 35,
   "metadata": {
    "deletable": false,
    "nbgrader": {
     "cell_type": "code",
     "checksum": "6e982546b7faf499d34e2542503ca173",
     "grade": false,
     "grade_id": "cell-c59e01d9484c99f7",
     "locked": false,
     "schema_version": 3,
     "solution": true,
     "task": false
    }
   },
   "outputs": [],
   "source": [
    "def top3_highest_paid_job(df,year):\n",
    "    # YOUR CODE HERE\n",
    "    df_condition = df.groupby([\"YEAR\", 'JOB TITLE' ]).count()\n",
    "    df_condition = df_condition[ df_condition['EMPLOYER'] >= 5 ]\n",
    "    df_condition.reset_index(inplace=True)\n",
    "    title_list = df_condition[df_condition['YEAR'] ==year]['JOB TITLE'].to_list()\n",
    "    \n",
    "    high_list = df[df['YEAR'] == year].groupby('JOB TITLE').median().reset_index().sort_values(by = ['BASE SALARY'], ascending = False)['JOB TITLE'].to_list()\n",
    "    res = [value for value in high_list if value in title_list]\n",
    "\n",
    "    return res[0:3]\n",
    "    raise NotImplementedError()"
   ]
  },
  {
   "cell_type": "code",
   "execution_count": 36,
   "metadata": {
    "deletable": false,
    "editable": false,
    "nbgrader": {
     "cell_type": "code",
     "checksum": "a312e9edbcd0725af9395522fa0febd1",
     "grade": true,
     "grade_id": "cell-9b2d8b4df895938a",
     "locked": true,
     "points": 15,
     "schema_version": 3,
     "solution": false,
     "task": false
    }
   },
   "outputs": [
    {
     "name": "stdout",
     "output_type": "stream",
     "text": [
      "Highest paid roles in 2021 are:  ['SENIOR CONSULTANT', 'SENIOR SOFTWARE ENGINEER', 'SENIOR PROJECT MANAGER - US']\n",
      "Passed visible test\n"
     ]
    }
   ],
   "source": [
    "# Test cell\n",
    "highest_2021 = top3_highest_paid_job(cleanjobs_df,2021)\n",
    "print('Highest paid roles in 2021 are: ',highest_2021)\n",
    "assert highest_2021 == ['SENIOR CONSULTANT', 'SENIOR SOFTWARE ENGINEER', 'SENIOR PROJECT MANAGER - US']\n",
    "print('Passed visible test')\n",
    "\n",
    "# Hidden tests below"
   ]
  },
  {
   "cell_type": "code",
   "execution_count": null,
   "metadata": {},
   "outputs": [],
   "source": []
  }
 ],
 "metadata": {
  "kernelspec": {
   "display_name": "Python 3",
   "language": "python",
   "name": "python3"
  },
  "language_info": {
   "codemirror_mode": {
    "name": "ipython",
    "version": 3
   },
   "file_extension": ".py",
   "mimetype": "text/x-python",
   "name": "python",
   "nbconvert_exporter": "python",
   "pygments_lexer": "ipython3",
   "version": "3.8.2"
  }
 },
 "nbformat": 4,
 "nbformat_minor": 4
}
